{
 "cells": [
  {
   "cell_type": "markdown",
   "id": "62f34504",
   "metadata": {},
   "source": [
    "# Multivariate Linear Regression"
   ]
  },
  {
   "cell_type": "markdown",
   "id": "5ae96b1c",
   "metadata": {},
   "source": [
    "### Importing Modules and Opening CSV"
   ]
  },
  {
   "cell_type": "code",
   "execution_count": 1,
   "id": "633bd57c",
   "metadata": {
    "scrolled": true
   },
   "outputs": [
    {
     "data": {
      "text/html": [
       "<div>\n",
       "<style scoped>\n",
       "    .dataframe tbody tr th:only-of-type {\n",
       "        vertical-align: middle;\n",
       "    }\n",
       "\n",
       "    .dataframe tbody tr th {\n",
       "        vertical-align: top;\n",
       "    }\n",
       "\n",
       "    .dataframe thead th {\n",
       "        text-align: right;\n",
       "    }\n",
       "</style>\n",
       "<table border=\"1\" class=\"dataframe\">\n",
       "  <thead>\n",
       "    <tr style=\"text-align: right;\">\n",
       "      <th></th>\n",
       "      <th>Unnamed: 0</th>\n",
       "      <th>Bedrooms</th>\n",
       "      <th>Bathrooms</th>\n",
       "      <th>Total interior livable area</th>\n",
       "      <th>Elementary School Score</th>\n",
       "      <th>Middle School Score</th>\n",
       "      <th>High School Score</th>\n",
       "      <th>Tax assessed value</th>\n",
       "      <th>Annual tax amount</th>\n",
       "      <th>Listed Price</th>\n",
       "      <th>City</th>\n",
       "    </tr>\n",
       "  </thead>\n",
       "  <tbody>\n",
       "    <tr>\n",
       "      <th>0</th>\n",
       "      <td>1</td>\n",
       "      <td>3</td>\n",
       "      <td>2.0</td>\n",
       "      <td>872.0</td>\n",
       "      <td>3.0</td>\n",
       "      <td>2.0</td>\n",
       "      <td>2.0</td>\n",
       "      <td>505000.0</td>\n",
       "      <td>6253.0</td>\n",
       "      <td>525000.0</td>\n",
       "      <td>Los Angeles</td>\n",
       "    </tr>\n",
       "    <tr>\n",
       "      <th>1</th>\n",
       "      <td>3</td>\n",
       "      <td>5</td>\n",
       "      <td>3.0</td>\n",
       "      <td>2612.0</td>\n",
       "      <td>9.0</td>\n",
       "      <td>7.0</td>\n",
       "      <td>8.0</td>\n",
       "      <td>1775000.0</td>\n",
       "      <td>20787.0</td>\n",
       "      <td>1895000.0</td>\n",
       "      <td>Culver City</td>\n",
       "    </tr>\n",
       "    <tr>\n",
       "      <th>2</th>\n",
       "      <td>10</td>\n",
       "      <td>4</td>\n",
       "      <td>2.0</td>\n",
       "      <td>1579.0</td>\n",
       "      <td>7.0</td>\n",
       "      <td>5.0</td>\n",
       "      <td>6.0</td>\n",
       "      <td>71347.0</td>\n",
       "      <td>904.0</td>\n",
       "      <td>1428000.0</td>\n",
       "      <td>Santa Clara</td>\n",
       "    </tr>\n",
       "    <tr>\n",
       "      <th>3</th>\n",
       "      <td>12</td>\n",
       "      <td>6</td>\n",
       "      <td>3.0</td>\n",
       "      <td>3351.0</td>\n",
       "      <td>8.0</td>\n",
       "      <td>7.0</td>\n",
       "      <td>7.0</td>\n",
       "      <td>2080800.0</td>\n",
       "      <td>25099.0</td>\n",
       "      <td>2250000.0</td>\n",
       "      <td>San Francisco</td>\n",
       "    </tr>\n",
       "    <tr>\n",
       "      <th>4</th>\n",
       "      <td>18</td>\n",
       "      <td>3</td>\n",
       "      <td>2.0</td>\n",
       "      <td>2100.0</td>\n",
       "      <td>6.0</td>\n",
       "      <td>6.0</td>\n",
       "      <td>8.0</td>\n",
       "      <td>1836000.0</td>\n",
       "      <td>21521.0</td>\n",
       "      <td>2390000.0</td>\n",
       "      <td>San Mateo</td>\n",
       "    </tr>\n",
       "    <tr>\n",
       "      <th>...</th>\n",
       "      <td>...</td>\n",
       "      <td>...</td>\n",
       "      <td>...</td>\n",
       "      <td>...</td>\n",
       "      <td>...</td>\n",
       "      <td>...</td>\n",
       "      <td>...</td>\n",
       "      <td>...</td>\n",
       "      <td>...</td>\n",
       "      <td>...</td>\n",
       "      <td>...</td>\n",
       "    </tr>\n",
       "    <tr>\n",
       "      <th>12486</th>\n",
       "      <td>47425</td>\n",
       "      <td>4</td>\n",
       "      <td>3.0</td>\n",
       "      <td>2219.0</td>\n",
       "      <td>7.0</td>\n",
       "      <td>7.0</td>\n",
       "      <td>9.0</td>\n",
       "      <td>900775.0</td>\n",
       "      <td>12719.0</td>\n",
       "      <td>1224888.0</td>\n",
       "      <td>San Jose</td>\n",
       "    </tr>\n",
       "    <tr>\n",
       "      <th>12487</th>\n",
       "      <td>47427</td>\n",
       "      <td>4</td>\n",
       "      <td>5.0</td>\n",
       "      <td>4680.0</td>\n",
       "      <td>7.0</td>\n",
       "      <td>5.0</td>\n",
       "      <td>7.0</td>\n",
       "      <td>2360150.0</td>\n",
       "      <td>25283.0</td>\n",
       "      <td>2569000.0</td>\n",
       "      <td>Villa Park</td>\n",
       "    </tr>\n",
       "    <tr>\n",
       "      <th>12488</th>\n",
       "      <td>47436</td>\n",
       "      <td>3</td>\n",
       "      <td>2.0</td>\n",
       "      <td>1860.0</td>\n",
       "      <td>7.0</td>\n",
       "      <td>3.0</td>\n",
       "      <td>7.0</td>\n",
       "      <td>578000.0</td>\n",
       "      <td>7211.0</td>\n",
       "      <td>2295000.0</td>\n",
       "      <td>Los Angeles</td>\n",
       "    </tr>\n",
       "    <tr>\n",
       "      <th>12489</th>\n",
       "      <td>47437</td>\n",
       "      <td>3</td>\n",
       "      <td>3.0</td>\n",
       "      <td>2125.0</td>\n",
       "      <td>7.0</td>\n",
       "      <td>7.0</td>\n",
       "      <td>8.0</td>\n",
       "      <td>484696.0</td>\n",
       "      <td>7627.0</td>\n",
       "      <td>499888.0</td>\n",
       "      <td>Elk Grove</td>\n",
       "    </tr>\n",
       "    <tr>\n",
       "      <th>12490</th>\n",
       "      <td>47438</td>\n",
       "      <td>2</td>\n",
       "      <td>1.0</td>\n",
       "      <td>1112.0</td>\n",
       "      <td>9.0</td>\n",
       "      <td>8.0</td>\n",
       "      <td>9.0</td>\n",
       "      <td>49671.0</td>\n",
       "      <td>1089.0</td>\n",
       "      <td>748000.0</td>\n",
       "      <td>Los Alamitos</td>\n",
       "    </tr>\n",
       "  </tbody>\n",
       "</table>\n",
       "<p>12491 rows × 11 columns</p>\n",
       "</div>"
      ],
      "text/plain": [
       "       Unnamed: 0  Bedrooms  Bathrooms  Total interior livable area  \\\n",
       "0               1         3        2.0                        872.0   \n",
       "1               3         5        3.0                       2612.0   \n",
       "2              10         4        2.0                       1579.0   \n",
       "3              12         6        3.0                       3351.0   \n",
       "4              18         3        2.0                       2100.0   \n",
       "...           ...       ...        ...                          ...   \n",
       "12486       47425         4        3.0                       2219.0   \n",
       "12487       47427         4        5.0                       4680.0   \n",
       "12488       47436         3        2.0                       1860.0   \n",
       "12489       47437         3        3.0                       2125.0   \n",
       "12490       47438         2        1.0                       1112.0   \n",
       "\n",
       "       Elementary School Score  Middle School Score  High School Score  \\\n",
       "0                          3.0                  2.0                2.0   \n",
       "1                          9.0                  7.0                8.0   \n",
       "2                          7.0                  5.0                6.0   \n",
       "3                          8.0                  7.0                7.0   \n",
       "4                          6.0                  6.0                8.0   \n",
       "...                        ...                  ...                ...   \n",
       "12486                      7.0                  7.0                9.0   \n",
       "12487                      7.0                  5.0                7.0   \n",
       "12488                      7.0                  3.0                7.0   \n",
       "12489                      7.0                  7.0                8.0   \n",
       "12490                      9.0                  8.0                9.0   \n",
       "\n",
       "       Tax assessed value  Annual tax amount  Listed Price           City  \n",
       "0                505000.0             6253.0      525000.0    Los Angeles  \n",
       "1               1775000.0            20787.0     1895000.0    Culver City  \n",
       "2                 71347.0              904.0     1428000.0    Santa Clara  \n",
       "3               2080800.0            25099.0     2250000.0  San Francisco  \n",
       "4               1836000.0            21521.0     2390000.0      San Mateo  \n",
       "...                   ...                ...           ...            ...  \n",
       "12486            900775.0            12719.0     1224888.0       San Jose  \n",
       "12487           2360150.0            25283.0     2569000.0     Villa Park  \n",
       "12488            578000.0             7211.0     2295000.0    Los Angeles  \n",
       "12489            484696.0             7627.0      499888.0      Elk Grove  \n",
       "12490             49671.0             1089.0      748000.0   Los Alamitos  \n",
       "\n",
       "[12491 rows x 11 columns]"
      ]
     },
     "execution_count": 1,
     "metadata": {},
     "output_type": "execute_result"
    }
   ],
   "source": [
    "import numpy as np\n",
    "import pandas as pd\n",
    "import matplotlib.pyplot as plt\n",
    "from sklearn.metrics import mean_squared_error, r2_score\n",
    "from sklearn.model_selection import train_test_split\n",
    "\n",
    "\n",
    "df = pd.read_csv('dataframe_for_model.csv')\n",
    "df"
   ]
  },
  {
   "cell_type": "markdown",
   "id": "7a5a4cde",
   "metadata": {},
   "source": [
    "Our dataset as is has 11 columns, 10 numerical and 1 categorical (City). Our aim is to use a combination of the 1 categorical variable and 9 numerical variables to predict \"Listed Price.\""
   ]
  },
  {
   "cell_type": "markdown",
   "id": "8ebe2a5a",
   "metadata": {},
   "source": [
    "### Defining X and Y"
   ]
  },
  {
   "cell_type": "code",
   "execution_count": 2,
   "id": "c883c0d9",
   "metadata": {},
   "outputs": [],
   "source": [
    "\n",
    "#X = df.drop(['Listed Price'], axis=1)\n",
    "#y = df[\"Listed Price\"]\n",
    "\n",
    "#X"
   ]
  },
  {
   "cell_type": "code",
   "execution_count": 3,
   "id": "077e47eb",
   "metadata": {},
   "outputs": [],
   "source": [
    "X = df.drop(['Listed Price'], axis=1)\n",
    "y = df[\"Listed Price\"].values"
   ]
  },
  {
   "cell_type": "markdown",
   "id": "08fcee62",
   "metadata": {},
   "source": [
    "Since we have a categorical variable, we need to encode this variable into indicator/dummy values that will help us with our analysis."
   ]
  },
  {
   "cell_type": "code",
   "execution_count": 4,
   "id": "d59c03e0",
   "metadata": {},
   "outputs": [
    {
     "data": {
      "text/plain": [
       "array([[1.0000e+00, 3.0000e+00, 2.0000e+00, ..., 0.0000e+00, 0.0000e+00,\n",
       "        0.0000e+00],\n",
       "       [3.0000e+00, 5.0000e+00, 3.0000e+00, ..., 0.0000e+00, 0.0000e+00,\n",
       "        0.0000e+00],\n",
       "       [1.0000e+01, 4.0000e+00, 2.0000e+00, ..., 0.0000e+00, 0.0000e+00,\n",
       "        0.0000e+00],\n",
       "       ...,\n",
       "       [4.7436e+04, 3.0000e+00, 2.0000e+00, ..., 0.0000e+00, 0.0000e+00,\n",
       "        0.0000e+00],\n",
       "       [4.7437e+04, 3.0000e+00, 3.0000e+00, ..., 0.0000e+00, 0.0000e+00,\n",
       "        0.0000e+00],\n",
       "       [4.7438e+04, 2.0000e+00, 1.0000e+00, ..., 0.0000e+00, 0.0000e+00,\n",
       "        0.0000e+00]])"
      ]
     },
     "execution_count": 4,
     "metadata": {},
     "output_type": "execute_result"
    }
   ],
   "source": [
    "City = pd.get_dummies(X, drop_first=True)\n",
    "\n",
    "X = X.drop(\"City\", axis=1)\n",
    "X = pd.merge(X, City).values\n",
    "\n",
    "X"
   ]
  },
  {
   "cell_type": "code",
   "execution_count": 5,
   "id": "e16bb9d4",
   "metadata": {},
   "outputs": [],
   "source": [
    "# splitting data\n",
    "\n",
    "X_train, X_test, y_train, y_test = train_test_split(X, y, test_size = 0.2, random_state=5)"
   ]
  },
  {
   "cell_type": "markdown",
   "id": "159b6fd2",
   "metadata": {},
   "source": [
    "## Creating a Linear Model"
   ]
  },
  {
   "cell_type": "code",
   "execution_count": 6,
   "id": "452fe3d4",
   "metadata": {},
   "outputs": [
    {
     "data": {
      "text/html": [
       "<style>#sk-container-id-1 {color: black;background-color: white;}#sk-container-id-1 pre{padding: 0;}#sk-container-id-1 div.sk-toggleable {background-color: white;}#sk-container-id-1 label.sk-toggleable__label {cursor: pointer;display: block;width: 100%;margin-bottom: 0;padding: 0.3em;box-sizing: border-box;text-align: center;}#sk-container-id-1 label.sk-toggleable__label-arrow:before {content: \"▸\";float: left;margin-right: 0.25em;color: #696969;}#sk-container-id-1 label.sk-toggleable__label-arrow:hover:before {color: black;}#sk-container-id-1 div.sk-estimator:hover label.sk-toggleable__label-arrow:before {color: black;}#sk-container-id-1 div.sk-toggleable__content {max-height: 0;max-width: 0;overflow: hidden;text-align: left;background-color: #f0f8ff;}#sk-container-id-1 div.sk-toggleable__content pre {margin: 0.2em;color: black;border-radius: 0.25em;background-color: #f0f8ff;}#sk-container-id-1 input.sk-toggleable__control:checked~div.sk-toggleable__content {max-height: 200px;max-width: 100%;overflow: auto;}#sk-container-id-1 input.sk-toggleable__control:checked~label.sk-toggleable__label-arrow:before {content: \"▾\";}#sk-container-id-1 div.sk-estimator input.sk-toggleable__control:checked~label.sk-toggleable__label {background-color: #d4ebff;}#sk-container-id-1 div.sk-label input.sk-toggleable__control:checked~label.sk-toggleable__label {background-color: #d4ebff;}#sk-container-id-1 input.sk-hidden--visually {border: 0;clip: rect(1px 1px 1px 1px);clip: rect(1px, 1px, 1px, 1px);height: 1px;margin: -1px;overflow: hidden;padding: 0;position: absolute;width: 1px;}#sk-container-id-1 div.sk-estimator {font-family: monospace;background-color: #f0f8ff;border: 1px dotted black;border-radius: 0.25em;box-sizing: border-box;margin-bottom: 0.5em;}#sk-container-id-1 div.sk-estimator:hover {background-color: #d4ebff;}#sk-container-id-1 div.sk-parallel-item::after {content: \"\";width: 100%;border-bottom: 1px solid gray;flex-grow: 1;}#sk-container-id-1 div.sk-label:hover label.sk-toggleable__label {background-color: #d4ebff;}#sk-container-id-1 div.sk-serial::before {content: \"\";position: absolute;border-left: 1px solid gray;box-sizing: border-box;top: 0;bottom: 0;left: 50%;z-index: 0;}#sk-container-id-1 div.sk-serial {display: flex;flex-direction: column;align-items: center;background-color: white;padding-right: 0.2em;padding-left: 0.2em;position: relative;}#sk-container-id-1 div.sk-item {position: relative;z-index: 1;}#sk-container-id-1 div.sk-parallel {display: flex;align-items: stretch;justify-content: center;background-color: white;position: relative;}#sk-container-id-1 div.sk-item::before, #sk-container-id-1 div.sk-parallel-item::before {content: \"\";position: absolute;border-left: 1px solid gray;box-sizing: border-box;top: 0;bottom: 0;left: 50%;z-index: -1;}#sk-container-id-1 div.sk-parallel-item {display: flex;flex-direction: column;z-index: 1;position: relative;background-color: white;}#sk-container-id-1 div.sk-parallel-item:first-child::after {align-self: flex-end;width: 50%;}#sk-container-id-1 div.sk-parallel-item:last-child::after {align-self: flex-start;width: 50%;}#sk-container-id-1 div.sk-parallel-item:only-child::after {width: 0;}#sk-container-id-1 div.sk-dashed-wrapped {border: 1px dashed gray;margin: 0 0.4em 0.5em 0.4em;box-sizing: border-box;padding-bottom: 0.4em;background-color: white;}#sk-container-id-1 div.sk-label label {font-family: monospace;font-weight: bold;display: inline-block;line-height: 1.2em;}#sk-container-id-1 div.sk-label-container {text-align: center;}#sk-container-id-1 div.sk-container {/* jupyter's `normalize.less` sets `[hidden] { display: none; }` but bootstrap.min.css set `[hidden] { display: none !important; }` so we also need the `!important` here to be able to override the default hidden behavior on the sphinx rendered scikit-learn.org. See: https://github.com/scikit-learn/scikit-learn/issues/21755 */display: inline-block !important;position: relative;}#sk-container-id-1 div.sk-text-repr-fallback {display: none;}</style><div id=\"sk-container-id-1\" class=\"sk-top-container\"><div class=\"sk-text-repr-fallback\"><pre>LinearRegression()</pre><b>In a Jupyter environment, please rerun this cell to show the HTML representation or trust the notebook. <br />On GitHub, the HTML representation is unable to render, please try loading this page with nbviewer.org.</b></div><div class=\"sk-container\" hidden><div class=\"sk-item\"><div class=\"sk-estimator sk-toggleable\"><input class=\"sk-toggleable__control sk-hidden--visually\" id=\"sk-estimator-id-1\" type=\"checkbox\" checked><label for=\"sk-estimator-id-1\" class=\"sk-toggleable__label sk-toggleable__label-arrow\">LinearRegression</label><div class=\"sk-toggleable__content\"><pre>LinearRegression()</pre></div></div></div></div></div>"
      ],
      "text/plain": [
       "LinearRegression()"
      ]
     },
     "execution_count": 6,
     "metadata": {},
     "output_type": "execute_result"
    }
   ],
   "source": [
    "from sklearn.linear_model import LinearRegression\n",
    "\n",
    "lr = LinearRegression()\n",
    "lr.fit(X_train, y_train)\n"
   ]
  },
  {
   "cell_type": "code",
   "execution_count": 7,
   "id": "f007080f",
   "metadata": {},
   "outputs": [
    {
     "name": "stdout",
     "output_type": "stream",
     "text": [
      "[ 855656.46291469 2467670.60572817  395960.46702519 ... -487554.65192878\n",
      " 1281151.12281367 2058122.64477613]\n"
     ]
    }
   ],
   "source": [
    "y_pred = lr.predict(X_test) # using linear model to predict y values from test set\n",
    "print(y_pred)"
   ]
  },
  {
   "cell_type": "code",
   "execution_count": 8,
   "id": "c79b7808",
   "metadata": {
    "scrolled": true
   },
   "outputs": [
    {
     "name": "stdout",
     "output_type": "stream",
     "text": [
      "0.6246754167721984\n",
      "Testing MSE error is: 1017633271059.505\n"
     ]
    }
   ],
   "source": [
    "print(r2_score(y_test, y_pred)) # calculating r-score\n",
    "print(f'Testing MSE error is: {round(mean_squared_error(y_pred, y_test),4)}') # testing MSE"
   ]
  },
  {
   "cell_type": "code",
   "execution_count": 9,
   "id": "af3635fa",
   "metadata": {
    "scrolled": true
   },
   "outputs": [
    {
     "data": {
      "text/plain": [
       "[<matplotlib.lines.Line2D at 0x7fce8caffb20>]"
      ]
     },
     "execution_count": 9,
     "metadata": {},
     "output_type": "execute_result"
    },
    {
     "data": {
      "image/png": "[encoded data removed]",
      "text/plain": [
       "<Figure size 1080x720 with 1 Axes>"
      ]
     },
     "metadata": {
      "needs_background": "light"
     },
     "output_type": "display_data"
    }
   ],
   "source": [
    "import matplotlib.pyplot as plt\n",
    "\n",
    "plt.figure(figsize=(15,10))\n",
    "\n",
    "plt.scatter(y_test, y_pred)\n",
    "plt.xlabel(\"Actual\")\n",
    "plt.ylabel(\"Predicted\")\n",
    "plt.title(\"Actual vs. Predicted\")\n",
    "\n",
    "m,b = np.polyfit(y_test, y_pred,1)\n",
    "plt.plot(y_test, m*y_test+b, color='red')"
   ]
  },
  {
   "cell_type": "markdown",
   "id": "d82c2a75",
   "metadata": {},
   "source": [
    "The plot above depicts the relationship between our test set and their predicted values. Based on the linear regression line, the general trend of data, and r^2 score of ~63%, we can say that our linear model is decent in predicting the listed prices of California houses. The regression score, which is based on 10 variables, gives us an accuracy of approximately 63%. This score is _not bad_, but the scatter also indicates some variability. We can try to increase this accuracy score with additional regression techniques."
   ]
  },
  {
   "cell_type": "code",
   "execution_count": 10,
   "id": "e1d64f17",
   "metadata": {
    "scrolled": true
   },
   "outputs": [
    {
     "data": {
      "text/html": [
       "<div>\n",
       "<style scoped>\n",
       "    .dataframe tbody tr th:only-of-type {\n",
       "        vertical-align: middle;\n",
       "    }\n",
       "\n",
       "    .dataframe tbody tr th {\n",
       "        vertical-align: top;\n",
       "    }\n",
       "\n",
       "    .dataframe thead th {\n",
       "        text-align: right;\n",
       "    }\n",
       "</style>\n",
       "<table border=\"1\" class=\"dataframe\">\n",
       "  <thead>\n",
       "    <tr style=\"text-align: right;\">\n",
       "      <th></th>\n",
       "      <th>Actual Value</th>\n",
       "      <th>Predicted Value</th>\n",
       "      <th>Difference</th>\n",
       "    </tr>\n",
       "  </thead>\n",
       "  <tbody>\n",
       "    <tr>\n",
       "      <th>0</th>\n",
       "      <td>915000.0</td>\n",
       "      <td>8.556565e+05</td>\n",
       "      <td>59343.537085</td>\n",
       "    </tr>\n",
       "    <tr>\n",
       "      <th>1</th>\n",
       "      <td>1938000.0</td>\n",
       "      <td>2.467671e+06</td>\n",
       "      <td>-529670.605728</td>\n",
       "    </tr>\n",
       "    <tr>\n",
       "      <th>2</th>\n",
       "      <td>750000.0</td>\n",
       "      <td>3.959605e+05</td>\n",
       "      <td>354039.532975</td>\n",
       "    </tr>\n",
       "    <tr>\n",
       "      <th>3</th>\n",
       "      <td>139900.0</td>\n",
       "      <td>-2.816822e+05</td>\n",
       "      <td>421582.196987</td>\n",
       "    </tr>\n",
       "    <tr>\n",
       "      <th>4</th>\n",
       "      <td>1899000.0</td>\n",
       "      <td>2.068412e+06</td>\n",
       "      <td>-169412.225038</td>\n",
       "    </tr>\n",
       "    <tr>\n",
       "      <th>5</th>\n",
       "      <td>3888000.0</td>\n",
       "      <td>4.635833e+06</td>\n",
       "      <td>-747833.451439</td>\n",
       "    </tr>\n",
       "    <tr>\n",
       "      <th>6</th>\n",
       "      <td>1250000.0</td>\n",
       "      <td>8.405955e+05</td>\n",
       "      <td>409404.483362</td>\n",
       "    </tr>\n",
       "    <tr>\n",
       "      <th>7</th>\n",
       "      <td>1111000.0</td>\n",
       "      <td>9.822946e+05</td>\n",
       "      <td>128705.400808</td>\n",
       "    </tr>\n",
       "    <tr>\n",
       "      <th>8</th>\n",
       "      <td>869500.0</td>\n",
       "      <td>7.557640e+05</td>\n",
       "      <td>113736.038152</td>\n",
       "    </tr>\n",
       "    <tr>\n",
       "      <th>9</th>\n",
       "      <td>2348000.0</td>\n",
       "      <td>2.083873e+06</td>\n",
       "      <td>264127.322852</td>\n",
       "    </tr>\n",
       "  </tbody>\n",
       "</table>\n",
       "</div>"
      ],
      "text/plain": [
       "   Actual Value  Predicted Value     Difference\n",
       "0      915000.0     8.556565e+05   59343.537085\n",
       "1     1938000.0     2.467671e+06 -529670.605728\n",
       "2      750000.0     3.959605e+05  354039.532975\n",
       "3      139900.0    -2.816822e+05  421582.196987\n",
       "4     1899000.0     2.068412e+06 -169412.225038\n",
       "5     3888000.0     4.635833e+06 -747833.451439\n",
       "6     1250000.0     8.405955e+05  409404.483362\n",
       "7     1111000.0     9.822946e+05  128705.400808\n",
       "8      869500.0     7.557640e+05  113736.038152\n",
       "9     2348000.0     2.083873e+06  264127.322852"
      ]
     },
     "execution_count": 10,
     "metadata": {},
     "output_type": "execute_result"
    }
   ],
   "source": [
    "pred_y_df = pd.DataFrame({\"Actual Value\": y_test, \"Predicted Value\": y_pred, \"Difference\": y_test - y_pred})\n",
    "\n",
    "pred_y_df[0:10]"
   ]
  },
  {
   "cell_type": "markdown",
   "id": "2f192a75",
   "metadata": {},
   "source": [
    "The table above shows us our actual value (`y_test` values) against their predictions based on the model (`y_pred`). We also look at their differences, which seems to vary quite a bit. The difference is large, but this is somewhat expected due to house listing prices being high to begin with."
   ]
  },
  {
   "cell_type": "markdown",
   "id": "5fb6f1af",
   "metadata": {},
   "source": [
    "## Multicollinearity Check"
   ]
  },
  {
   "cell_type": "markdown",
   "id": "2c67b1a1",
   "metadata": {},
   "source": [
    "After running a linear model, the next form of action might be to create a multivariate polynomial model. However, before doing so, it is important to look at the variables to test for any interactions/correlations between the predictor variables themselves. If this does exist, this could be a problem, as our statistical inferences will be less reliable. In other words, if there are existing correlations within the predictor variables, we cannot say (without bias) that the target variable is being predicted accurately. Therefore, we can run a multicollinearity check on our numerical variables using the `VIF` library."
   ]
  },
  {
   "cell_type": "code",
   "execution_count": 11,
   "id": "995c87b8",
   "metadata": {
    "scrolled": true
   },
   "outputs": [
    {
     "data": {
      "text/html": [
       "<div>\n",
       "<style scoped>\n",
       "    .dataframe tbody tr th:only-of-type {\n",
       "        vertical-align: middle;\n",
       "    }\n",
       "\n",
       "    .dataframe tbody tr th {\n",
       "        vertical-align: top;\n",
       "    }\n",
       "\n",
       "    .dataframe thead th {\n",
       "        text-align: right;\n",
       "    }\n",
       "</style>\n",
       "<table border=\"1\" class=\"dataframe\">\n",
       "  <thead>\n",
       "    <tr style=\"text-align: right;\">\n",
       "      <th></th>\n",
       "      <th>variables</th>\n",
       "      <th>VIF</th>\n",
       "    </tr>\n",
       "  </thead>\n",
       "  <tbody>\n",
       "    <tr>\n",
       "      <th>0</th>\n",
       "      <td>Unnamed: 0</td>\n",
       "      <td>3.810433</td>\n",
       "    </tr>\n",
       "    <tr>\n",
       "      <th>1</th>\n",
       "      <td>Bedrooms</td>\n",
       "      <td>18.765289</td>\n",
       "    </tr>\n",
       "    <tr>\n",
       "      <th>2</th>\n",
       "      <td>Bathrooms</td>\n",
       "      <td>18.377433</td>\n",
       "    </tr>\n",
       "    <tr>\n",
       "      <th>3</th>\n",
       "      <td>Total interior livable area</td>\n",
       "      <td>20.046072</td>\n",
       "    </tr>\n",
       "    <tr>\n",
       "      <th>4</th>\n",
       "      <td>Elementary School Score</td>\n",
       "      <td>14.787356</td>\n",
       "    </tr>\n",
       "    <tr>\n",
       "      <th>5</th>\n",
       "      <td>Middle School Score</td>\n",
       "      <td>16.899444</td>\n",
       "    </tr>\n",
       "    <tr>\n",
       "      <th>6</th>\n",
       "      <td>High School Score</td>\n",
       "      <td>20.337899</td>\n",
       "    </tr>\n",
       "    <tr>\n",
       "      <th>7</th>\n",
       "      <td>Tax assessed value</td>\n",
       "      <td>113.748033</td>\n",
       "    </tr>\n",
       "    <tr>\n",
       "      <th>8</th>\n",
       "      <td>Annual tax amount</td>\n",
       "      <td>121.087900</td>\n",
       "    </tr>\n",
       "    <tr>\n",
       "      <th>9</th>\n",
       "      <td>Listed Price</td>\n",
       "      <td>5.263111</td>\n",
       "    </tr>\n",
       "  </tbody>\n",
       "</table>\n",
       "</div>"
      ],
      "text/plain": [
       "                     variables         VIF\n",
       "0                   Unnamed: 0    3.810433\n",
       "1                     Bedrooms   18.765289\n",
       "2                    Bathrooms   18.377433\n",
       "3  Total interior livable area   20.046072\n",
       "4      Elementary School Score   14.787356\n",
       "5          Middle School Score   16.899444\n",
       "6            High School Score   20.337899\n",
       "7           Tax assessed value  113.748033\n",
       "8            Annual tax amount  121.087900\n",
       "9                 Listed Price    5.263111"
      ]
     },
     "execution_count": 11,
     "metadata": {},
     "output_type": "execute_result"
    }
   ],
   "source": [
    "# Import library for VIF\n",
    "from statsmodels.stats.outliers_influence import variance_inflation_factor\n",
    "\n",
    "def calc_vif(X):\n",
    "\n",
    "    # Calculating VIF\n",
    "    vif = pd.DataFrame()\n",
    "    vif[\"variables\"] = X.columns\n",
    "    vif[\"VIF\"] = [variance_inflation_factor(X.values, i) for i in range(X.shape[1])]\n",
    "\n",
    "    return(vif)\n",
    "\n",
    "X = df.iloc[:,:-1]\n",
    "calc_vif(X)"
   ]
  },
  {
   "cell_type": "markdown",
   "id": "f543cc34",
   "metadata": {},
   "source": [
    "City is not included in this analysis as it is not a numerical variable."
   ]
  },
  {
   "cell_type": "markdown",
   "id": "3d1effe0",
   "metadata": {},
   "source": [
    "\"We can see here that the many variables have a high VIF value, meaning they can be predicted by other independent variables in the dataset.\n",
    "\n",
    "Although correlation matrix and scatter plots can also be used to find multicollinearity, their findings only show the bivariate relationship between the independent variables. VIF is preferred as it can show the correlation of a variable with a group of other variables.\"\n",
    "\n",
    "- Cited by https://www.analyticsvidhya.com/blog/2020/03/what-is-multicollinearity/"
   ]
  },
  {
   "cell_type": "markdown",
   "id": "49b0e53d",
   "metadata": {},
   "source": [
    "Now, we rerun our multicollinearity check without the categorical variable and our target variable."
   ]
  },
  {
   "cell_type": "code",
   "execution_count": 12,
   "id": "dbeb78c0",
   "metadata": {
    "scrolled": false
   },
   "outputs": [
    {
     "data": {
      "text/html": [
       "<div>\n",
       "<style scoped>\n",
       "    .dataframe tbody tr th:only-of-type {\n",
       "        vertical-align: middle;\n",
       "    }\n",
       "\n",
       "    .dataframe tbody tr th {\n",
       "        vertical-align: top;\n",
       "    }\n",
       "\n",
       "    .dataframe thead th {\n",
       "        text-align: right;\n",
       "    }\n",
       "</style>\n",
       "<table border=\"1\" class=\"dataframe\">\n",
       "  <thead>\n",
       "    <tr style=\"text-align: right;\">\n",
       "      <th></th>\n",
       "      <th>variables</th>\n",
       "      <th>VIF</th>\n",
       "    </tr>\n",
       "  </thead>\n",
       "  <tbody>\n",
       "    <tr>\n",
       "      <th>0</th>\n",
       "      <td>Unnamed: 0</td>\n",
       "      <td>3.744089</td>\n",
       "    </tr>\n",
       "    <tr>\n",
       "      <th>1</th>\n",
       "      <td>Bedrooms</td>\n",
       "      <td>18.108398</td>\n",
       "    </tr>\n",
       "    <tr>\n",
       "      <th>2</th>\n",
       "      <td>Bathrooms</td>\n",
       "      <td>18.355055</td>\n",
       "    </tr>\n",
       "    <tr>\n",
       "      <th>3</th>\n",
       "      <td>Total interior livable area</td>\n",
       "      <td>16.741989</td>\n",
       "    </tr>\n",
       "    <tr>\n",
       "      <th>4</th>\n",
       "      <td>Elementary School Score</td>\n",
       "      <td>14.740848</td>\n",
       "    </tr>\n",
       "    <tr>\n",
       "      <th>5</th>\n",
       "      <td>Middle School Score</td>\n",
       "      <td>16.893905</td>\n",
       "    </tr>\n",
       "    <tr>\n",
       "      <th>6</th>\n",
       "      <td>High School Score</td>\n",
       "      <td>20.292230</td>\n",
       "    </tr>\n",
       "    <tr>\n",
       "      <th>7</th>\n",
       "      <td>Tax assessed value</td>\n",
       "      <td>113.341761</td>\n",
       "    </tr>\n",
       "    <tr>\n",
       "      <th>8</th>\n",
       "      <td>Annual tax amount</td>\n",
       "      <td>118.544315</td>\n",
       "    </tr>\n",
       "  </tbody>\n",
       "</table>\n",
       "</div>"
      ],
      "text/plain": [
       "                     variables         VIF\n",
       "0                   Unnamed: 0    3.744089\n",
       "1                     Bedrooms   18.108398\n",
       "2                    Bathrooms   18.355055\n",
       "3  Total interior livable area   16.741989\n",
       "4      Elementary School Score   14.740848\n",
       "5          Middle School Score   16.893905\n",
       "6            High School Score   20.292230\n",
       "7           Tax assessed value  113.341761\n",
       "8            Annual tax amount  118.544315"
      ]
     },
     "execution_count": 12,
     "metadata": {},
     "output_type": "execute_result"
    }
   ],
   "source": [
    "X = df.drop([\"Listed Price\", \"City\"],axis=1)\n",
    "calc_vif(X)"
   ]
  },
  {
   "cell_type": "markdown",
   "id": "e32dd011",
   "metadata": {},
   "source": [
    "Looking at all the variables (excluding categorical), we can see that many variables are highly correlated with each other. This can produce a major problem for our multiple polynomial model, as we may not be able to recognize which variables are responsible for the output variable."
   ]
  },
  {
   "cell_type": "markdown",
   "id": "49c2557e",
   "metadata": {},
   "source": [
    "However, we can combine the correlated variables and drop the others to predict \"Listed Price\" in future models. This not only produces a cleaner dataset, but can also provides us with a more reliable model."
   ]
  },
  {
   "cell_type": "code",
   "execution_count": 13,
   "id": "90608162",
   "metadata": {},
   "outputs": [
    {
     "data": {
      "text/html": [
       "<div>\n",
       "<style scoped>\n",
       "    .dataframe tbody tr th:only-of-type {\n",
       "        vertical-align: middle;\n",
       "    }\n",
       "\n",
       "    .dataframe tbody tr th {\n",
       "        vertical-align: top;\n",
       "    }\n",
       "\n",
       "    .dataframe thead th {\n",
       "        text-align: right;\n",
       "    }\n",
       "</style>\n",
       "<table border=\"1\" class=\"dataframe\">\n",
       "  <thead>\n",
       "    <tr style=\"text-align: right;\">\n",
       "      <th></th>\n",
       "      <th>variables</th>\n",
       "      <th>VIF</th>\n",
       "    </tr>\n",
       "  </thead>\n",
       "  <tbody>\n",
       "    <tr>\n",
       "      <th>0</th>\n",
       "      <td>Unnamed: 0</td>\n",
       "      <td>3.603681</td>\n",
       "    </tr>\n",
       "    <tr>\n",
       "      <th>1</th>\n",
       "      <td>Total interior livable area</td>\n",
       "      <td>6.921371</td>\n",
       "    </tr>\n",
       "    <tr>\n",
       "      <th>2</th>\n",
       "      <td>Bedrooms_Bathrooms</td>\n",
       "      <td>2.023797</td>\n",
       "    </tr>\n",
       "    <tr>\n",
       "      <th>3</th>\n",
       "      <td>School_Score</td>\n",
       "      <td>6.942305</td>\n",
       "    </tr>\n",
       "    <tr>\n",
       "      <th>4</th>\n",
       "      <td>Tax_value</td>\n",
       "      <td>2.916035</td>\n",
       "    </tr>\n",
       "  </tbody>\n",
       "</table>\n",
       "</div>"
      ],
      "text/plain": [
       "                     variables       VIF\n",
       "0                   Unnamed: 0  3.603681\n",
       "1  Total interior livable area  6.921371\n",
       "2           Bedrooms_Bathrooms  2.023797\n",
       "3                 School_Score  6.942305\n",
       "4                    Tax_value  2.916035"
      ]
     },
     "execution_count": 13,
     "metadata": {},
     "output_type": "execute_result"
    }
   ],
   "source": [
    "df2 = df.copy()\n",
    "df2['Bedrooms_Bathrooms'] = df.apply(lambda x: x['Bedrooms'] - x['Bathrooms'],axis=1)\n",
    "\n",
    "df2['School_Score'] = df.apply(lambda x: (x['Elementary School Score'] + x['Middle School Score'] +\n",
    "                                                                          x['High School Score'])/3,axis=1)\n",
    "\n",
    "df2['Tax_value'] = df.apply(lambda x: x['Tax assessed value'] - x['Annual tax amount'],axis=1)\n",
    "\n",
    "X = df2.drop(['Listed Price','City', 'Bedrooms','Bathrooms', 'Elementary School Score', 'Middle School Score',\n",
    "             'High School Score', 'Tax assessed value', 'Annual tax amount'],axis=1)\n",
    "calc_vif(X)"
   ]
  },
  {
   "cell_type": "markdown",
   "id": "a26bcce0",
   "metadata": {},
   "source": [
    "At this point, we've combined the variables that are correlated with one another. While the VIF score is still not perfect, it is a lot better than before. At this point, we can proceed with our attempts at a multivariate polynomial model."
   ]
  },
  {
   "cell_type": "code",
   "execution_count": 14,
   "id": "fe607c51",
   "metadata": {},
   "outputs": [
    {
     "data": {
      "text/html": [
       "<div>\n",
       "<style scoped>\n",
       "    .dataframe tbody tr th:only-of-type {\n",
       "        vertical-align: middle;\n",
       "    }\n",
       "\n",
       "    .dataframe tbody tr th {\n",
       "        vertical-align: top;\n",
       "    }\n",
       "\n",
       "    .dataframe thead th {\n",
       "        text-align: right;\n",
       "    }\n",
       "</style>\n",
       "<table border=\"1\" class=\"dataframe\">\n",
       "  <thead>\n",
       "    <tr style=\"text-align: right;\">\n",
       "      <th></th>\n",
       "      <th>Unnamed: 0</th>\n",
       "      <th>Total interior livable area</th>\n",
       "      <th>Bedrooms_Bathrooms</th>\n",
       "      <th>School_Score</th>\n",
       "      <th>Tax_value</th>\n",
       "      <th>City</th>\n",
       "      <th>Listed Price</th>\n",
       "    </tr>\n",
       "  </thead>\n",
       "  <tbody>\n",
       "    <tr>\n",
       "      <th>0</th>\n",
       "      <td>1</td>\n",
       "      <td>872.0</td>\n",
       "      <td>1.0</td>\n",
       "      <td>2.333333</td>\n",
       "      <td>498747.0</td>\n",
       "      <td>Los Angeles</td>\n",
       "      <td>525000.0</td>\n",
       "    </tr>\n",
       "    <tr>\n",
       "      <th>1</th>\n",
       "      <td>3</td>\n",
       "      <td>2612.0</td>\n",
       "      <td>2.0</td>\n",
       "      <td>8.000000</td>\n",
       "      <td>1754213.0</td>\n",
       "      <td>Culver City</td>\n",
       "      <td>1895000.0</td>\n",
       "    </tr>\n",
       "    <tr>\n",
       "      <th>2</th>\n",
       "      <td>10</td>\n",
       "      <td>1579.0</td>\n",
       "      <td>2.0</td>\n",
       "      <td>6.000000</td>\n",
       "      <td>70443.0</td>\n",
       "      <td>Santa Clara</td>\n",
       "      <td>1428000.0</td>\n",
       "    </tr>\n",
       "    <tr>\n",
       "      <th>3</th>\n",
       "      <td>12</td>\n",
       "      <td>3351.0</td>\n",
       "      <td>3.0</td>\n",
       "      <td>7.333333</td>\n",
       "      <td>2055701.0</td>\n",
       "      <td>San Francisco</td>\n",
       "      <td>2250000.0</td>\n",
       "    </tr>\n",
       "    <tr>\n",
       "      <th>4</th>\n",
       "      <td>18</td>\n",
       "      <td>2100.0</td>\n",
       "      <td>1.0</td>\n",
       "      <td>6.666667</td>\n",
       "      <td>1814479.0</td>\n",
       "      <td>San Mateo</td>\n",
       "      <td>2390000.0</td>\n",
       "    </tr>\n",
       "    <tr>\n",
       "      <th>...</th>\n",
       "      <td>...</td>\n",
       "      <td>...</td>\n",
       "      <td>...</td>\n",
       "      <td>...</td>\n",
       "      <td>...</td>\n",
       "      <td>...</td>\n",
       "      <td>...</td>\n",
       "    </tr>\n",
       "    <tr>\n",
       "      <th>12486</th>\n",
       "      <td>47425</td>\n",
       "      <td>2219.0</td>\n",
       "      <td>1.0</td>\n",
       "      <td>7.666667</td>\n",
       "      <td>888056.0</td>\n",
       "      <td>San Jose</td>\n",
       "      <td>1224888.0</td>\n",
       "    </tr>\n",
       "    <tr>\n",
       "      <th>12487</th>\n",
       "      <td>47427</td>\n",
       "      <td>4680.0</td>\n",
       "      <td>-1.0</td>\n",
       "      <td>6.333333</td>\n",
       "      <td>2334867.0</td>\n",
       "      <td>Villa Park</td>\n",
       "      <td>2569000.0</td>\n",
       "    </tr>\n",
       "    <tr>\n",
       "      <th>12488</th>\n",
       "      <td>47436</td>\n",
       "      <td>1860.0</td>\n",
       "      <td>1.0</td>\n",
       "      <td>5.666667</td>\n",
       "      <td>570789.0</td>\n",
       "      <td>Los Angeles</td>\n",
       "      <td>2295000.0</td>\n",
       "    </tr>\n",
       "    <tr>\n",
       "      <th>12489</th>\n",
       "      <td>47437</td>\n",
       "      <td>2125.0</td>\n",
       "      <td>0.0</td>\n",
       "      <td>7.333333</td>\n",
       "      <td>477069.0</td>\n",
       "      <td>Elk Grove</td>\n",
       "      <td>499888.0</td>\n",
       "    </tr>\n",
       "    <tr>\n",
       "      <th>12490</th>\n",
       "      <td>47438</td>\n",
       "      <td>1112.0</td>\n",
       "      <td>1.0</td>\n",
       "      <td>8.666667</td>\n",
       "      <td>48582.0</td>\n",
       "      <td>Los Alamitos</td>\n",
       "      <td>748000.0</td>\n",
       "    </tr>\n",
       "  </tbody>\n",
       "</table>\n",
       "<p>12491 rows × 7 columns</p>\n",
       "</div>"
      ],
      "text/plain": [
       "       Unnamed: 0  Total interior livable area  Bedrooms_Bathrooms  \\\n",
       "0               1                        872.0                 1.0   \n",
       "1               3                       2612.0                 2.0   \n",
       "2              10                       1579.0                 2.0   \n",
       "3              12                       3351.0                 3.0   \n",
       "4              18                       2100.0                 1.0   \n",
       "...           ...                          ...                 ...   \n",
       "12486       47425                       2219.0                 1.0   \n",
       "12487       47427                       4680.0                -1.0   \n",
       "12488       47436                       1860.0                 1.0   \n",
       "12489       47437                       2125.0                 0.0   \n",
       "12490       47438                       1112.0                 1.0   \n",
       "\n",
       "       School_Score  Tax_value           City  Listed Price  \n",
       "0          2.333333   498747.0    Los Angeles      525000.0  \n",
       "1          8.000000  1754213.0    Culver City     1895000.0  \n",
       "2          6.000000    70443.0    Santa Clara     1428000.0  \n",
       "3          7.333333  2055701.0  San Francisco     2250000.0  \n",
       "4          6.666667  1814479.0      San Mateo     2390000.0  \n",
       "...             ...        ...            ...           ...  \n",
       "12486      7.666667   888056.0       San Jose     1224888.0  \n",
       "12487      6.333333  2334867.0     Villa Park     2569000.0  \n",
       "12488      5.666667   570789.0    Los Angeles     2295000.0  \n",
       "12489      7.333333   477069.0      Elk Grove      499888.0  \n",
       "12490      8.666667    48582.0   Los Alamitos      748000.0  \n",
       "\n",
       "[12491 rows x 7 columns]"
      ]
     },
     "execution_count": 14,
     "metadata": {},
     "output_type": "execute_result"
    }
   ],
   "source": [
    "df2 = df2[['Unnamed: 0', 'Total interior livable area', 'Bedrooms_Bathrooms', 'School_Score', 'Tax_value',\"City\",\"Listed Price\"]]\n",
    "df2"
   ]
  },
  {
   "cell_type": "code",
   "execution_count": 15,
   "id": "96b9dea9",
   "metadata": {},
   "outputs": [],
   "source": [
    "X = df2.drop(['Listed Price'], axis=1)\n",
    "y = df2[\"Listed Price\"].values"
   ]
  },
  {
   "cell_type": "code",
   "execution_count": 16,
   "id": "44dbba5a",
   "metadata": {},
   "outputs": [
    {
     "data": {
      "text/plain": [
       "array([[1.0000e+00, 8.7200e+02, 1.0000e+00, ..., 0.0000e+00, 0.0000e+00,\n",
       "        0.0000e+00],\n",
       "       [3.0000e+00, 2.6120e+03, 2.0000e+00, ..., 0.0000e+00, 0.0000e+00,\n",
       "        0.0000e+00],\n",
       "       [1.0000e+01, 1.5790e+03, 2.0000e+00, ..., 0.0000e+00, 0.0000e+00,\n",
       "        0.0000e+00],\n",
       "       ...,\n",
       "       [4.7436e+04, 1.8600e+03, 1.0000e+00, ..., 0.0000e+00, 0.0000e+00,\n",
       "        0.0000e+00],\n",
       "       [4.7437e+04, 2.1250e+03, 0.0000e+00, ..., 0.0000e+00, 0.0000e+00,\n",
       "        0.0000e+00],\n",
       "       [4.7438e+04, 1.1120e+03, 1.0000e+00, ..., 0.0000e+00, 0.0000e+00,\n",
       "        0.0000e+00]])"
      ]
     },
     "execution_count": 16,
     "metadata": {},
     "output_type": "execute_result"
    }
   ],
   "source": [
    "City = pd.get_dummies(X, drop_first=True)\n",
    "\n",
    "X = X.drop(\"City\", axis=1)\n",
    "X = pd.merge(X, City).values\n",
    "\n",
    "X"
   ]
  },
  {
   "cell_type": "markdown",
   "id": "fb6fb29d",
   "metadata": {},
   "source": [
    "We can now use this edited dataframe to rerun our linear regression and see how that changes our scores and accuracy."
   ]
  },
  {
   "cell_type": "code",
   "execution_count": 17,
   "id": "525d6c35",
   "metadata": {},
   "outputs": [],
   "source": [
    "X_train, X_test, y_train, y_test = train_test_split(X, y, test_size = 0.4, random_state=5)"
   ]
  },
  {
   "cell_type": "code",
   "execution_count": 18,
   "id": "762db129",
   "metadata": {},
   "outputs": [
    {
     "data": {
      "text/html": [
       "<style>#sk-container-id-2 {color: black;background-color: white;}#sk-container-id-2 pre{padding: 0;}#sk-container-id-2 div.sk-toggleable {background-color: white;}#sk-container-id-2 label.sk-toggleable__label {cursor: pointer;display: block;width: 100%;margin-bottom: 0;padding: 0.3em;box-sizing: border-box;text-align: center;}#sk-container-id-2 label.sk-toggleable__label-arrow:before {content: \"▸\";float: left;margin-right: 0.25em;color: #696969;}#sk-container-id-2 label.sk-toggleable__label-arrow:hover:before {color: black;}#sk-container-id-2 div.sk-estimator:hover label.sk-toggleable__label-arrow:before {color: black;}#sk-container-id-2 div.sk-toggleable__content {max-height: 0;max-width: 0;overflow: hidden;text-align: left;background-color: #f0f8ff;}#sk-container-id-2 div.sk-toggleable__content pre {margin: 0.2em;color: black;border-radius: 0.25em;background-color: #f0f8ff;}#sk-container-id-2 input.sk-toggleable__control:checked~div.sk-toggleable__content {max-height: 200px;max-width: 100%;overflow: auto;}#sk-container-id-2 input.sk-toggleable__control:checked~label.sk-toggleable__label-arrow:before {content: \"▾\";}#sk-container-id-2 div.sk-estimator input.sk-toggleable__control:checked~label.sk-toggleable__label {background-color: #d4ebff;}#sk-container-id-2 div.sk-label input.sk-toggleable__control:checked~label.sk-toggleable__label {background-color: #d4ebff;}#sk-container-id-2 input.sk-hidden--visually {border: 0;clip: rect(1px 1px 1px 1px);clip: rect(1px, 1px, 1px, 1px);height: 1px;margin: -1px;overflow: hidden;padding: 0;position: absolute;width: 1px;}#sk-container-id-2 div.sk-estimator {font-family: monospace;background-color: #f0f8ff;border: 1px dotted black;border-radius: 0.25em;box-sizing: border-box;margin-bottom: 0.5em;}#sk-container-id-2 div.sk-estimator:hover {background-color: #d4ebff;}#sk-container-id-2 div.sk-parallel-item::after {content: \"\";width: 100%;border-bottom: 1px solid gray;flex-grow: 1;}#sk-container-id-2 div.sk-label:hover label.sk-toggleable__label {background-color: #d4ebff;}#sk-container-id-2 div.sk-serial::before {content: \"\";position: absolute;border-left: 1px solid gray;box-sizing: border-box;top: 0;bottom: 0;left: 50%;z-index: 0;}#sk-container-id-2 div.sk-serial {display: flex;flex-direction: column;align-items: center;background-color: white;padding-right: 0.2em;padding-left: 0.2em;position: relative;}#sk-container-id-2 div.sk-item {position: relative;z-index: 1;}#sk-container-id-2 div.sk-parallel {display: flex;align-items: stretch;justify-content: center;background-color: white;position: relative;}#sk-container-id-2 div.sk-item::before, #sk-container-id-2 div.sk-parallel-item::before {content: \"\";position: absolute;border-left: 1px solid gray;box-sizing: border-box;top: 0;bottom: 0;left: 50%;z-index: -1;}#sk-container-id-2 div.sk-parallel-item {display: flex;flex-direction: column;z-index: 1;position: relative;background-color: white;}#sk-container-id-2 div.sk-parallel-item:first-child::after {align-self: flex-end;width: 50%;}#sk-container-id-2 div.sk-parallel-item:last-child::after {align-self: flex-start;width: 50%;}#sk-container-id-2 div.sk-parallel-item:only-child::after {width: 0;}#sk-container-id-2 div.sk-dashed-wrapped {border: 1px dashed gray;margin: 0 0.4em 0.5em 0.4em;box-sizing: border-box;padding-bottom: 0.4em;background-color: white;}#sk-container-id-2 div.sk-label label {font-family: monospace;font-weight: bold;display: inline-block;line-height: 1.2em;}#sk-container-id-2 div.sk-label-container {text-align: center;}#sk-container-id-2 div.sk-container {/* jupyter's `normalize.less` sets `[hidden] { display: none; }` but bootstrap.min.css set `[hidden] { display: none !important; }` so we also need the `!important` here to be able to override the default hidden behavior on the sphinx rendered scikit-learn.org. See: https://github.com/scikit-learn/scikit-learn/issues/21755 */display: inline-block !important;position: relative;}#sk-container-id-2 div.sk-text-repr-fallback {display: none;}</style><div id=\"sk-container-id-2\" class=\"sk-top-container\"><div class=\"sk-text-repr-fallback\"><pre>LinearRegression()</pre><b>In a Jupyter environment, please rerun this cell to show the HTML representation or trust the notebook. <br />On GitHub, the HTML representation is unable to render, please try loading this page with nbviewer.org.</b></div><div class=\"sk-container\" hidden><div class=\"sk-item\"><div class=\"sk-estimator sk-toggleable\"><input class=\"sk-toggleable__control sk-hidden--visually\" id=\"sk-estimator-id-2\" type=\"checkbox\" checked><label for=\"sk-estimator-id-2\" class=\"sk-toggleable__label sk-toggleable__label-arrow\">LinearRegression</label><div class=\"sk-toggleable__content\"><pre>LinearRegression()</pre></div></div></div></div></div>"
      ],
      "text/plain": [
       "LinearRegression()"
      ]
     },
     "execution_count": 18,
     "metadata": {},
     "output_type": "execute_result"
    }
   ],
   "source": [
    "lr = LinearRegression()\n",
    "lr.fit(X_train, y_train)"
   ]
  },
  {
   "cell_type": "code",
   "execution_count": 19,
   "id": "1e924c3b",
   "metadata": {},
   "outputs": [],
   "source": [
    "y_pred = lr.predict(X_test) # using linear model to predict y values from test set\n",
    "#print(y_pred)"
   ]
  },
  {
   "cell_type": "code",
   "execution_count": 20,
   "id": "4dd4f258",
   "metadata": {},
   "outputs": [
    {
     "data": {
      "text/plain": [
       "[<matplotlib.lines.Line2D at 0x7fce88f7e400>]"
      ]
     },
     "execution_count": 20,
     "metadata": {},
     "output_type": "execute_result"
    },
    {
     "data": {
      "image/png": "[encoded data removed]",
      "text/plain": [
       "<Figure size 1080x720 with 1 Axes>"
      ]
     },
     "metadata": {
      "needs_background": "light"
     },
     "output_type": "display_data"
    }
   ],
   "source": [
    "plt.figure(figsize=(15,10))\n",
    "\n",
    "plt.scatter(y_test, y_pred)\n",
    "plt.xlabel(\"Actual\")\n",
    "plt.ylabel(\"Predicted\")\n",
    "plt.title(\"Actual vs. Predicted\")\n",
    "\n",
    "m,b = np.polyfit(y_test, y_pred,1)\n",
    "plt.plot(y_test, m*y_test+b, color='red')"
   ]
  },
  {
   "cell_type": "code",
   "execution_count": 21,
   "id": "9dfe0d57",
   "metadata": {
    "scrolled": true
   },
   "outputs": [
    {
     "name": "stdout",
     "output_type": "stream",
     "text": [
      "0.6792059222458562\n"
     ]
    }
   ],
   "source": [
    "print(r2_score(y_test, y_pred)) # calculating r-score\n",
    "#print(f'Testing MSE error is: {round(mean_squared_error(y_pred, y_test),4)}') # testing MSE"
   ]
  },
  {
   "cell_type": "code",
   "execution_count": 22,
   "id": "2287e4b5",
   "metadata": {},
   "outputs": [
    {
     "data": {
      "text/html": [
       "<div>\n",
       "<style scoped>\n",
       "    .dataframe tbody tr th:only-of-type {\n",
       "        vertical-align: middle;\n",
       "    }\n",
       "\n",
       "    .dataframe tbody tr th {\n",
       "        vertical-align: top;\n",
       "    }\n",
       "\n",
       "    .dataframe thead th {\n",
       "        text-align: right;\n",
       "    }\n",
       "</style>\n",
       "<table border=\"1\" class=\"dataframe\">\n",
       "  <thead>\n",
       "    <tr style=\"text-align: right;\">\n",
       "      <th></th>\n",
       "      <th>Actual Value</th>\n",
       "      <th>Predicted Value</th>\n",
       "      <th>Difference</th>\n",
       "    </tr>\n",
       "  </thead>\n",
       "  <tbody>\n",
       "    <tr>\n",
       "      <th>0</th>\n",
       "      <td>915000.0</td>\n",
       "      <td>9.159267e+05</td>\n",
       "      <td>-926.677650</td>\n",
       "    </tr>\n",
       "    <tr>\n",
       "      <th>1</th>\n",
       "      <td>1938000.0</td>\n",
       "      <td>2.507681e+06</td>\n",
       "      <td>-569681.028344</td>\n",
       "    </tr>\n",
       "    <tr>\n",
       "      <th>2</th>\n",
       "      <td>750000.0</td>\n",
       "      <td>5.128298e+05</td>\n",
       "      <td>237170.209211</td>\n",
       "    </tr>\n",
       "    <tr>\n",
       "      <th>3</th>\n",
       "      <td>139900.0</td>\n",
       "      <td>-3.306918e+05</td>\n",
       "      <td>470591.837158</td>\n",
       "    </tr>\n",
       "    <tr>\n",
       "      <th>4</th>\n",
       "      <td>1899000.0</td>\n",
       "      <td>2.272652e+06</td>\n",
       "      <td>-373651.964165</td>\n",
       "    </tr>\n",
       "    <tr>\n",
       "      <th>5</th>\n",
       "      <td>3888000.0</td>\n",
       "      <td>4.641832e+06</td>\n",
       "      <td>-753831.915628</td>\n",
       "    </tr>\n",
       "    <tr>\n",
       "      <th>6</th>\n",
       "      <td>1250000.0</td>\n",
       "      <td>8.421056e+05</td>\n",
       "      <td>407894.442027</td>\n",
       "    </tr>\n",
       "    <tr>\n",
       "      <th>7</th>\n",
       "      <td>1111000.0</td>\n",
       "      <td>8.346178e+05</td>\n",
       "      <td>276382.249750</td>\n",
       "    </tr>\n",
       "    <tr>\n",
       "      <th>8</th>\n",
       "      <td>869500.0</td>\n",
       "      <td>6.172298e+05</td>\n",
       "      <td>252270.249973</td>\n",
       "    </tr>\n",
       "    <tr>\n",
       "      <th>9</th>\n",
       "      <td>2348000.0</td>\n",
       "      <td>2.242456e+06</td>\n",
       "      <td>105544.152141</td>\n",
       "    </tr>\n",
       "  </tbody>\n",
       "</table>\n",
       "</div>"
      ],
      "text/plain": [
       "   Actual Value  Predicted Value     Difference\n",
       "0      915000.0     9.159267e+05    -926.677650\n",
       "1     1938000.0     2.507681e+06 -569681.028344\n",
       "2      750000.0     5.128298e+05  237170.209211\n",
       "3      139900.0    -3.306918e+05  470591.837158\n",
       "4     1899000.0     2.272652e+06 -373651.964165\n",
       "5     3888000.0     4.641832e+06 -753831.915628\n",
       "6     1250000.0     8.421056e+05  407894.442027\n",
       "7     1111000.0     8.346178e+05  276382.249750\n",
       "8      869500.0     6.172298e+05  252270.249973\n",
       "9     2348000.0     2.242456e+06  105544.152141"
      ]
     },
     "execution_count": 22,
     "metadata": {},
     "output_type": "execute_result"
    }
   ],
   "source": [
    "pred_y_df = pd.DataFrame({\"Actual Value\": y_test, \"Predicted Value\": y_pred, \"Difference\": y_test - y_pred})\n",
    "\n",
    "pred_y_df[0:10]"
   ]
  },
  {
   "cell_type": "markdown",
   "id": "04747ade",
   "metadata": {},
   "source": [
    "With the plot above, we can see that that a linear regression model may not be enough to capture the model's curve. Even with the data adjustments, the R^2 and MSE does not change much. This implies that we need to employ a different model."
   ]
  },
  {
   "cell_type": "markdown",
   "id": "471a2766",
   "metadata": {},
   "source": [
    "## Polynomial Model - need help here"
   ]
  },
  {
   "cell_type": "code",
   "execution_count": 23,
   "id": "f4e76eee",
   "metadata": {},
   "outputs": [],
   "source": [
    "#from sklearn.preprocessing import PolynomialFeatures\n",
    "\n",
    "#poly = PolynomialFeatures(degree=2, include_bias=False)\n",
    "\n",
    "#X_ = poly.fit_transform(X)\n",
    "#X_test_ = poly.fit_transform(X_test)"
   ]
  },
  {
   "cell_type": "markdown",
   "id": "7b2a7c43",
   "metadata": {},
   "source": [
    "# L1 & L2 Regression (Lasso and Ridge)"
   ]
  },
  {
   "cell_type": "markdown",
   "id": "96e7d098",
   "metadata": {},
   "source": [
    "As seen in our multicollinearity check above, we can deduce that the features with a high VIF value likely have very high coefficients. This implies that our dependent variable (Listed Price) would be significantly overpowered by those features, which can lead to overfitting. We can employ L1 and L2 Regression to reduce model complexity and avoid overfitting. "
   ]
  },
  {
   "cell_type": "markdown",
   "id": "eda40fc1",
   "metadata": {},
   "source": [
    "## Simple Ridge and Lasso"
   ]
  },
  {
   "cell_type": "code",
   "execution_count": 24,
   "id": "788ab296",
   "metadata": {},
   "outputs": [],
   "source": [
    "# libraries\n",
    "\n",
    "import pandas as pd\n",
    "import numpy as np\n",
    "import seaborn as sns\n",
    "import matplotlib.pyplot as plt\n",
    "from sklearn.model_selection import train_test_split\n",
    "from sklearn import linear_model\n",
    "from sklearn.linear_model import LinearRegression\n",
    "from sklearn.linear_model import Ridge, RidgeCV, Lasso\n",
    "from sklearn.preprocessing import StandardScaler"
   ]
  },
  {
   "cell_type": "code",
   "execution_count": 25,
   "id": "f2ac2605",
   "metadata": {},
   "outputs": [],
   "source": [
    "# moving Listed Price variable to the end\n",
    "\n",
    "df2 = df2[ [ col for col in df2.columns if col != 'Listed Price' ] + ['Listed Price']]"
   ]
  },
  {
   "cell_type": "code",
   "execution_count": 26,
   "id": "487387d0",
   "metadata": {},
   "outputs": [
    {
     "data": {
      "text/html": [
       "<div>\n",
       "<style scoped>\n",
       "    .dataframe tbody tr th:only-of-type {\n",
       "        vertical-align: middle;\n",
       "    }\n",
       "\n",
       "    .dataframe tbody tr th {\n",
       "        vertical-align: top;\n",
       "    }\n",
       "\n",
       "    .dataframe thead th {\n",
       "        text-align: right;\n",
       "    }\n",
       "</style>\n",
       "<table border=\"1\" class=\"dataframe\">\n",
       "  <thead>\n",
       "    <tr style=\"text-align: right;\">\n",
       "      <th></th>\n",
       "      <th>Unnamed: 0</th>\n",
       "      <th>Total interior livable area</th>\n",
       "      <th>Bedrooms_Bathrooms</th>\n",
       "      <th>School_Score</th>\n",
       "      <th>Tax_value</th>\n",
       "      <th>Listed Price</th>\n",
       "      <th>City_Aguanga</th>\n",
       "      <th>City_Alameda</th>\n",
       "      <th>City_Alamo</th>\n",
       "      <th>City_Albany</th>\n",
       "      <th>...</th>\n",
       "      <th>City_Wofford Heights</th>\n",
       "      <th>City_Woodbridge</th>\n",
       "      <th>City_Woodlake</th>\n",
       "      <th>City_Woodland</th>\n",
       "      <th>City_Wrightwood</th>\n",
       "      <th>City_Yolo</th>\n",
       "      <th>City_Yorba Linda</th>\n",
       "      <th>City_Yountville</th>\n",
       "      <th>City_Yuba City</th>\n",
       "      <th>City_Zamora</th>\n",
       "    </tr>\n",
       "  </thead>\n",
       "  <tbody>\n",
       "    <tr>\n",
       "      <th>0</th>\n",
       "      <td>1</td>\n",
       "      <td>872.0</td>\n",
       "      <td>1.0</td>\n",
       "      <td>2.333333</td>\n",
       "      <td>498747.0</td>\n",
       "      <td>525000.0</td>\n",
       "      <td>0</td>\n",
       "      <td>0</td>\n",
       "      <td>0</td>\n",
       "      <td>0</td>\n",
       "      <td>...</td>\n",
       "      <td>0</td>\n",
       "      <td>0</td>\n",
       "      <td>0</td>\n",
       "      <td>0</td>\n",
       "      <td>0</td>\n",
       "      <td>0</td>\n",
       "      <td>0</td>\n",
       "      <td>0</td>\n",
       "      <td>0</td>\n",
       "      <td>0</td>\n",
       "    </tr>\n",
       "    <tr>\n",
       "      <th>1</th>\n",
       "      <td>3</td>\n",
       "      <td>2612.0</td>\n",
       "      <td>2.0</td>\n",
       "      <td>8.000000</td>\n",
       "      <td>1754213.0</td>\n",
       "      <td>1895000.0</td>\n",
       "      <td>0</td>\n",
       "      <td>0</td>\n",
       "      <td>0</td>\n",
       "      <td>0</td>\n",
       "      <td>...</td>\n",
       "      <td>0</td>\n",
       "      <td>0</td>\n",
       "      <td>0</td>\n",
       "      <td>0</td>\n",
       "      <td>0</td>\n",
       "      <td>0</td>\n",
       "      <td>0</td>\n",
       "      <td>0</td>\n",
       "      <td>0</td>\n",
       "      <td>0</td>\n",
       "    </tr>\n",
       "    <tr>\n",
       "      <th>2</th>\n",
       "      <td>10</td>\n",
       "      <td>1579.0</td>\n",
       "      <td>2.0</td>\n",
       "      <td>6.000000</td>\n",
       "      <td>70443.0</td>\n",
       "      <td>1428000.0</td>\n",
       "      <td>0</td>\n",
       "      <td>0</td>\n",
       "      <td>0</td>\n",
       "      <td>0</td>\n",
       "      <td>...</td>\n",
       "      <td>0</td>\n",
       "      <td>0</td>\n",
       "      <td>0</td>\n",
       "      <td>0</td>\n",
       "      <td>0</td>\n",
       "      <td>0</td>\n",
       "      <td>0</td>\n",
       "      <td>0</td>\n",
       "      <td>0</td>\n",
       "      <td>0</td>\n",
       "    </tr>\n",
       "    <tr>\n",
       "      <th>3</th>\n",
       "      <td>12</td>\n",
       "      <td>3351.0</td>\n",
       "      <td>3.0</td>\n",
       "      <td>7.333333</td>\n",
       "      <td>2055701.0</td>\n",
       "      <td>2250000.0</td>\n",
       "      <td>0</td>\n",
       "      <td>0</td>\n",
       "      <td>0</td>\n",
       "      <td>0</td>\n",
       "      <td>...</td>\n",
       "      <td>0</td>\n",
       "      <td>0</td>\n",
       "      <td>0</td>\n",
       "      <td>0</td>\n",
       "      <td>0</td>\n",
       "      <td>0</td>\n",
       "      <td>0</td>\n",
       "      <td>0</td>\n",
       "      <td>0</td>\n",
       "      <td>0</td>\n",
       "    </tr>\n",
       "    <tr>\n",
       "      <th>4</th>\n",
       "      <td>18</td>\n",
       "      <td>2100.0</td>\n",
       "      <td>1.0</td>\n",
       "      <td>6.666667</td>\n",
       "      <td>1814479.0</td>\n",
       "      <td>2390000.0</td>\n",
       "      <td>0</td>\n",
       "      <td>0</td>\n",
       "      <td>0</td>\n",
       "      <td>0</td>\n",
       "      <td>...</td>\n",
       "      <td>0</td>\n",
       "      <td>0</td>\n",
       "      <td>0</td>\n",
       "      <td>0</td>\n",
       "      <td>0</td>\n",
       "      <td>0</td>\n",
       "      <td>0</td>\n",
       "      <td>0</td>\n",
       "      <td>0</td>\n",
       "      <td>0</td>\n",
       "    </tr>\n",
       "    <tr>\n",
       "      <th>...</th>\n",
       "      <td>...</td>\n",
       "      <td>...</td>\n",
       "      <td>...</td>\n",
       "      <td>...</td>\n",
       "      <td>...</td>\n",
       "      <td>...</td>\n",
       "      <td>...</td>\n",
       "      <td>...</td>\n",
       "      <td>...</td>\n",
       "      <td>...</td>\n",
       "      <td>...</td>\n",
       "      <td>...</td>\n",
       "      <td>...</td>\n",
       "      <td>...</td>\n",
       "      <td>...</td>\n",
       "      <td>...</td>\n",
       "      <td>...</td>\n",
       "      <td>...</td>\n",
       "      <td>...</td>\n",
       "      <td>...</td>\n",
       "      <td>...</td>\n",
       "    </tr>\n",
       "    <tr>\n",
       "      <th>12486</th>\n",
       "      <td>47425</td>\n",
       "      <td>2219.0</td>\n",
       "      <td>1.0</td>\n",
       "      <td>7.666667</td>\n",
       "      <td>888056.0</td>\n",
       "      <td>1224888.0</td>\n",
       "      <td>0</td>\n",
       "      <td>0</td>\n",
       "      <td>0</td>\n",
       "      <td>0</td>\n",
       "      <td>...</td>\n",
       "      <td>0</td>\n",
       "      <td>0</td>\n",
       "      <td>0</td>\n",
       "      <td>0</td>\n",
       "      <td>0</td>\n",
       "      <td>0</td>\n",
       "      <td>0</td>\n",
       "      <td>0</td>\n",
       "      <td>0</td>\n",
       "      <td>0</td>\n",
       "    </tr>\n",
       "    <tr>\n",
       "      <th>12487</th>\n",
       "      <td>47427</td>\n",
       "      <td>4680.0</td>\n",
       "      <td>-1.0</td>\n",
       "      <td>6.333333</td>\n",
       "      <td>2334867.0</td>\n",
       "      <td>2569000.0</td>\n",
       "      <td>0</td>\n",
       "      <td>0</td>\n",
       "      <td>0</td>\n",
       "      <td>0</td>\n",
       "      <td>...</td>\n",
       "      <td>0</td>\n",
       "      <td>0</td>\n",
       "      <td>0</td>\n",
       "      <td>0</td>\n",
       "      <td>0</td>\n",
       "      <td>0</td>\n",
       "      <td>0</td>\n",
       "      <td>0</td>\n",
       "      <td>0</td>\n",
       "      <td>0</td>\n",
       "    </tr>\n",
       "    <tr>\n",
       "      <th>12488</th>\n",
       "      <td>47436</td>\n",
       "      <td>1860.0</td>\n",
       "      <td>1.0</td>\n",
       "      <td>5.666667</td>\n",
       "      <td>570789.0</td>\n",
       "      <td>2295000.0</td>\n",
       "      <td>0</td>\n",
       "      <td>0</td>\n",
       "      <td>0</td>\n",
       "      <td>0</td>\n",
       "      <td>...</td>\n",
       "      <td>0</td>\n",
       "      <td>0</td>\n",
       "      <td>0</td>\n",
       "      <td>0</td>\n",
       "      <td>0</td>\n",
       "      <td>0</td>\n",
       "      <td>0</td>\n",
       "      <td>0</td>\n",
       "      <td>0</td>\n",
       "      <td>0</td>\n",
       "    </tr>\n",
       "    <tr>\n",
       "      <th>12489</th>\n",
       "      <td>47437</td>\n",
       "      <td>2125.0</td>\n",
       "      <td>0.0</td>\n",
       "      <td>7.333333</td>\n",
       "      <td>477069.0</td>\n",
       "      <td>499888.0</td>\n",
       "      <td>0</td>\n",
       "      <td>0</td>\n",
       "      <td>0</td>\n",
       "      <td>0</td>\n",
       "      <td>...</td>\n",
       "      <td>0</td>\n",
       "      <td>0</td>\n",
       "      <td>0</td>\n",
       "      <td>0</td>\n",
       "      <td>0</td>\n",
       "      <td>0</td>\n",
       "      <td>0</td>\n",
       "      <td>0</td>\n",
       "      <td>0</td>\n",
       "      <td>0</td>\n",
       "    </tr>\n",
       "    <tr>\n",
       "      <th>12490</th>\n",
       "      <td>47438</td>\n",
       "      <td>1112.0</td>\n",
       "      <td>1.0</td>\n",
       "      <td>8.666667</td>\n",
       "      <td>48582.0</td>\n",
       "      <td>748000.0</td>\n",
       "      <td>0</td>\n",
       "      <td>0</td>\n",
       "      <td>0</td>\n",
       "      <td>0</td>\n",
       "      <td>...</td>\n",
       "      <td>0</td>\n",
       "      <td>0</td>\n",
       "      <td>0</td>\n",
       "      <td>0</td>\n",
       "      <td>0</td>\n",
       "      <td>0</td>\n",
       "      <td>0</td>\n",
       "      <td>0</td>\n",
       "      <td>0</td>\n",
       "      <td>0</td>\n",
       "    </tr>\n",
       "  </tbody>\n",
       "</table>\n",
       "<p>12491 rows × 407 columns</p>\n",
       "</div>"
      ],
      "text/plain": [
       "       Unnamed: 0  Total interior livable area  Bedrooms_Bathrooms  \\\n",
       "0               1                        872.0                 1.0   \n",
       "1               3                       2612.0                 2.0   \n",
       "2              10                       1579.0                 2.0   \n",
       "3              12                       3351.0                 3.0   \n",
       "4              18                       2100.0                 1.0   \n",
       "...           ...                          ...                 ...   \n",
       "12486       47425                       2219.0                 1.0   \n",
       "12487       47427                       4680.0                -1.0   \n",
       "12488       47436                       1860.0                 1.0   \n",
       "12489       47437                       2125.0                 0.0   \n",
       "12490       47438                       1112.0                 1.0   \n",
       "\n",
       "       School_Score  Tax_value  Listed Price  City_Aguanga  City_Alameda  \\\n",
       "0          2.333333   498747.0      525000.0             0             0   \n",
       "1          8.000000  1754213.0     1895000.0             0             0   \n",
       "2          6.000000    70443.0     1428000.0             0             0   \n",
       "3          7.333333  2055701.0     2250000.0             0             0   \n",
       "4          6.666667  1814479.0     2390000.0             0             0   \n",
       "...             ...        ...           ...           ...           ...   \n",
       "12486      7.666667   888056.0     1224888.0             0             0   \n",
       "12487      6.333333  2334867.0     2569000.0             0             0   \n",
       "12488      5.666667   570789.0     2295000.0             0             0   \n",
       "12489      7.333333   477069.0      499888.0             0             0   \n",
       "12490      8.666667    48582.0      748000.0             0             0   \n",
       "\n",
       "       City_Alamo  City_Albany  ...  City_Wofford Heights  City_Woodbridge  \\\n",
       "0               0            0  ...                     0                0   \n",
       "1               0            0  ...                     0                0   \n",
       "2               0            0  ...                     0                0   \n",
       "3               0            0  ...                     0                0   \n",
       "4               0            0  ...                     0                0   \n",
       "...           ...          ...  ...                   ...              ...   \n",
       "12486           0            0  ...                     0                0   \n",
       "12487           0            0  ...                     0                0   \n",
       "12488           0            0  ...                     0                0   \n",
       "12489           0            0  ...                     0                0   \n",
       "12490           0            0  ...                     0                0   \n",
       "\n",
       "       City_Woodlake  City_Woodland  City_Wrightwood  City_Yolo  \\\n",
       "0                  0              0                0          0   \n",
       "1                  0              0                0          0   \n",
       "2                  0              0                0          0   \n",
       "3                  0              0                0          0   \n",
       "4                  0              0                0          0   \n",
       "...              ...            ...              ...        ...   \n",
       "12486              0              0                0          0   \n",
       "12487              0              0                0          0   \n",
       "12488              0              0                0          0   \n",
       "12489              0              0                0          0   \n",
       "12490              0              0                0          0   \n",
       "\n",
       "       City_Yorba Linda  City_Yountville  City_Yuba City  City_Zamora  \n",
       "0                     0                0               0            0  \n",
       "1                     0                0               0            0  \n",
       "2                     0                0               0            0  \n",
       "3                     0                0               0            0  \n",
       "4                     0                0               0            0  \n",
       "...                 ...              ...             ...          ...  \n",
       "12486                 0                0               0            0  \n",
       "12487                 0                0               0            0  \n",
       "12488                 0                0               0            0  \n",
       "12489                 0                0               0            0  \n",
       "12490                 0                0               0            0  \n",
       "\n",
       "[12491 rows x 407 columns]"
      ]
     },
     "execution_count": 26,
     "metadata": {},
     "output_type": "execute_result"
    }
   ],
   "source": [
    "City = pd.get_dummies(df2, drop_first=True)\n",
    "\n",
    "df2 = pd.merge(df2, City)\n",
    "df2 = df2.drop(\"City\", axis=1)\n",
    "\n",
    "df2"
   ]
  },
  {
   "cell_type": "code",
   "execution_count": 27,
   "id": "ef8b9ad2",
   "metadata": {},
   "outputs": [],
   "source": [
    "X = df2.drop(\"Listed Price\", axis=1)\n",
    "y = df2[\"Listed Price\"]"
   ]
  },
  {
   "cell_type": "code",
   "execution_count": 28,
   "id": "6f99bd59",
   "metadata": {},
   "outputs": [],
   "source": [
    "X_train, X_test, y_train, y_test = train_test_split(X, y, test_size = 0.3, random_state=11)"
   ]
  },
  {
   "cell_type": "code",
   "execution_count": 29,
   "id": "8503b152",
   "metadata": {},
   "outputs": [],
   "source": [
    "reg = LinearRegression().fit(X_train, y_train)"
   ]
  },
  {
   "cell_type": "code",
   "execution_count": 30,
   "id": "6f18846b",
   "metadata": {
    "scrolled": false
   },
   "outputs": [
    {
     "data": {
      "text/plain": [
       "0.6500199709113901"
      ]
     },
     "execution_count": 30,
     "metadata": {},
     "output_type": "execute_result"
    }
   ],
   "source": [
    "reg.score(X_test, y_test)"
   ]
  },
  {
   "cell_type": "markdown",
   "id": "88510cde",
   "metadata": {},
   "source": [
    "Looking at the score of the test set, we can see that it isn't too low. For data that the model has never seen before, it is fitting the data with ~65% accuracy. We can test this with the training data to see if there was any significant overfitting."
   ]
  },
  {
   "cell_type": "code",
   "execution_count": 31,
   "id": "4eaddb5d",
   "metadata": {},
   "outputs": [
    {
     "data": {
      "text/plain": [
       "0.7374067443207047"
      ]
     },
     "execution_count": 31,
     "metadata": {},
     "output_type": "execute_result"
    }
   ],
   "source": [
    "reg.score(X_train, y_train)"
   ]
  },
  {
   "cell_type": "markdown",
   "id": "b6ed6ac5",
   "metadata": {},
   "source": [
    "Based on the training score, we can see that the accuracy score went up slightly, around 3%. This isn't bad, but we can perhaps employ L1 and L2 to see if we adjust and balance for any potential overfitting."
   ]
  },
  {
   "cell_type": "code",
   "execution_count": 32,
   "id": "e51e1901",
   "metadata": {},
   "outputs": [
    {
     "data": {
      "text/html": [
       "<style>#sk-container-id-3 {color: black;background-color: white;}#sk-container-id-3 pre{padding: 0;}#sk-container-id-3 div.sk-toggleable {background-color: white;}#sk-container-id-3 label.sk-toggleable__label {cursor: pointer;display: block;width: 100%;margin-bottom: 0;padding: 0.3em;box-sizing: border-box;text-align: center;}#sk-container-id-3 label.sk-toggleable__label-arrow:before {content: \"▸\";float: left;margin-right: 0.25em;color: #696969;}#sk-container-id-3 label.sk-toggleable__label-arrow:hover:before {color: black;}#sk-container-id-3 div.sk-estimator:hover label.sk-toggleable__label-arrow:before {color: black;}#sk-container-id-3 div.sk-toggleable__content {max-height: 0;max-width: 0;overflow: hidden;text-align: left;background-color: #f0f8ff;}#sk-container-id-3 div.sk-toggleable__content pre {margin: 0.2em;color: black;border-radius: 0.25em;background-color: #f0f8ff;}#sk-container-id-3 input.sk-toggleable__control:checked~div.sk-toggleable__content {max-height: 200px;max-width: 100%;overflow: auto;}#sk-container-id-3 input.sk-toggleable__control:checked~label.sk-toggleable__label-arrow:before {content: \"▾\";}#sk-container-id-3 div.sk-estimator input.sk-toggleable__control:checked~label.sk-toggleable__label {background-color: #d4ebff;}#sk-container-id-3 div.sk-label input.sk-toggleable__control:checked~label.sk-toggleable__label {background-color: #d4ebff;}#sk-container-id-3 input.sk-hidden--visually {border: 0;clip: rect(1px 1px 1px 1px);clip: rect(1px, 1px, 1px, 1px);height: 1px;margin: -1px;overflow: hidden;padding: 0;position: absolute;width: 1px;}#sk-container-id-3 div.sk-estimator {font-family: monospace;background-color: #f0f8ff;border: 1px dotted black;border-radius: 0.25em;box-sizing: border-box;margin-bottom: 0.5em;}#sk-container-id-3 div.sk-estimator:hover {background-color: #d4ebff;}#sk-container-id-3 div.sk-parallel-item::after {content: \"\";width: 100%;border-bottom: 1px solid gray;flex-grow: 1;}#sk-container-id-3 div.sk-label:hover label.sk-toggleable__label {background-color: #d4ebff;}#sk-container-id-3 div.sk-serial::before {content: \"\";position: absolute;border-left: 1px solid gray;box-sizing: border-box;top: 0;bottom: 0;left: 50%;z-index: 0;}#sk-container-id-3 div.sk-serial {display: flex;flex-direction: column;align-items: center;background-color: white;padding-right: 0.2em;padding-left: 0.2em;position: relative;}#sk-container-id-3 div.sk-item {position: relative;z-index: 1;}#sk-container-id-3 div.sk-parallel {display: flex;align-items: stretch;justify-content: center;background-color: white;position: relative;}#sk-container-id-3 div.sk-item::before, #sk-container-id-3 div.sk-parallel-item::before {content: \"\";position: absolute;border-left: 1px solid gray;box-sizing: border-box;top: 0;bottom: 0;left: 50%;z-index: -1;}#sk-container-id-3 div.sk-parallel-item {display: flex;flex-direction: column;z-index: 1;position: relative;background-color: white;}#sk-container-id-3 div.sk-parallel-item:first-child::after {align-self: flex-end;width: 50%;}#sk-container-id-3 div.sk-parallel-item:last-child::after {align-self: flex-start;width: 50%;}#sk-container-id-3 div.sk-parallel-item:only-child::after {width: 0;}#sk-container-id-3 div.sk-dashed-wrapped {border: 1px dashed gray;margin: 0 0.4em 0.5em 0.4em;box-sizing: border-box;padding-bottom: 0.4em;background-color: white;}#sk-container-id-3 div.sk-label label {font-family: monospace;font-weight: bold;display: inline-block;line-height: 1.2em;}#sk-container-id-3 div.sk-label-container {text-align: center;}#sk-container-id-3 div.sk-container {/* jupyter's `normalize.less` sets `[hidden] { display: none; }` but bootstrap.min.css set `[hidden] { display: none !important; }` so we also need the `!important` here to be able to override the default hidden behavior on the sphinx rendered scikit-learn.org. See: https://github.com/scikit-learn/scikit-learn/issues/21755 */display: inline-block !important;position: relative;}#sk-container-id-3 div.sk-text-repr-fallback {display: none;}</style><div id=\"sk-container-id-3\" class=\"sk-top-container\"><div class=\"sk-text-repr-fallback\"><pre>Lasso(alpha=50, max_iter=100, tol=0.15)</pre><b>In a Jupyter environment, please rerun this cell to show the HTML representation or trust the notebook. <br />On GitHub, the HTML representation is unable to render, please try loading this page with nbviewer.org.</b></div><div class=\"sk-container\" hidden><div class=\"sk-item\"><div class=\"sk-estimator sk-toggleable\"><input class=\"sk-toggleable__control sk-hidden--visually\" id=\"sk-estimator-id-3\" type=\"checkbox\" checked><label for=\"sk-estimator-id-3\" class=\"sk-toggleable__label sk-toggleable__label-arrow\">Lasso</label><div class=\"sk-toggleable__content\"><pre>Lasso(alpha=50, max_iter=100, tol=0.15)</pre></div></div></div></div></div>"
      ],
      "text/plain": [
       "Lasso(alpha=50, max_iter=100, tol=0.15)"
      ]
     },
     "execution_count": 32,
     "metadata": {},
     "output_type": "execute_result"
    }
   ],
   "source": [
    "lasso_reg = linear_model.Lasso(alpha=50, max_iter=100, tol=0.15)\n",
    "\n",
    "lasso_reg.fit(X_train, y_train)"
   ]
  },
  {
   "cell_type": "code",
   "execution_count": 33,
   "id": "5417fdb4",
   "metadata": {},
   "outputs": [
    {
     "name": "stdout",
     "output_type": "stream",
     "text": [
      "0.7352324436586\n",
      "0.6531347157218552\n"
     ]
    }
   ],
   "source": [
    "print(lasso_reg.score(X_train, y_train))\n",
    "print(lasso_reg.score(X_test, y_test))"
   ]
  },
  {
   "cell_type": "code",
   "execution_count": 34,
   "id": "8903a5df",
   "metadata": {
    "scrolled": true
   },
   "outputs": [
    {
     "name": "stdout",
     "output_type": "stream",
     "text": [
      "[2210272.10488753  390712.29292567 1460911.23677167 ...  927412.77942882\n",
      " 1051096.37707967 1413034.55813549]\n"
     ]
    }
   ],
   "source": [
    "y_pred = lasso_reg.predict(X_test)\n",
    "print(y_pred)"
   ]
  },
  {
   "cell_type": "code",
   "execution_count": 35,
   "id": "948637eb",
   "metadata": {},
   "outputs": [
    {
     "data": {
      "text/plain": [
       "Text(0.5, 1.0, 'Actual vs. Predicted')"
      ]
     },
     "execution_count": 35,
     "metadata": {},
     "output_type": "execute_result"
    },
    {
     "data": {
      "image/png": "[encoded data removed]",
      "text/plain": [
       "<Figure size 1080x720 with 1 Axes>"
      ]
     },
     "metadata": {
      "needs_background": "light"
     },
     "output_type": "display_data"
    }
   ],
   "source": [
    "plt.figure(figsize=(15,10))\n",
    "\n",
    "\n",
    "plt.scatter(y_test, y_pred)\n",
    "plt.xlabel(\"Actual\")\n",
    "plt.ylabel(\"Predicted\")\n",
    "plt.title(\"Actual vs. Predicted\")\n",
    "\n",
    "\n",
    "#m,b = np.polyfit(y_test, y_pred,1)\n",
    "#plt.plot(y_test, m*y_test+b, color='red')"
   ]
  },
  {
   "cell_type": "code",
   "execution_count": 36,
   "id": "956677c0",
   "metadata": {},
   "outputs": [
    {
     "data": {
      "text/html": [
       "<style>#sk-container-id-4 {color: black;background-color: white;}#sk-container-id-4 pre{padding: 0;}#sk-container-id-4 div.sk-toggleable {background-color: white;}#sk-container-id-4 label.sk-toggleable__label {cursor: pointer;display: block;width: 100%;margin-bottom: 0;padding: 0.3em;box-sizing: border-box;text-align: center;}#sk-container-id-4 label.sk-toggleable__label-arrow:before {content: \"▸\";float: left;margin-right: 0.25em;color: #696969;}#sk-container-id-4 label.sk-toggleable__label-arrow:hover:before {color: black;}#sk-container-id-4 div.sk-estimator:hover label.sk-toggleable__label-arrow:before {color: black;}#sk-container-id-4 div.sk-toggleable__content {max-height: 0;max-width: 0;overflow: hidden;text-align: left;background-color: #f0f8ff;}#sk-container-id-4 div.sk-toggleable__content pre {margin: 0.2em;color: black;border-radius: 0.25em;background-color: #f0f8ff;}#sk-container-id-4 input.sk-toggleable__control:checked~div.sk-toggleable__content {max-height: 200px;max-width: 100%;overflow: auto;}#sk-container-id-4 input.sk-toggleable__control:checked~label.sk-toggleable__label-arrow:before {content: \"▾\";}#sk-container-id-4 div.sk-estimator input.sk-toggleable__control:checked~label.sk-toggleable__label {background-color: #d4ebff;}#sk-container-id-4 div.sk-label input.sk-toggleable__control:checked~label.sk-toggleable__label {background-color: #d4ebff;}#sk-container-id-4 input.sk-hidden--visually {border: 0;clip: rect(1px 1px 1px 1px);clip: rect(1px, 1px, 1px, 1px);height: 1px;margin: -1px;overflow: hidden;padding: 0;position: absolute;width: 1px;}#sk-container-id-4 div.sk-estimator {font-family: monospace;background-color: #f0f8ff;border: 1px dotted black;border-radius: 0.25em;box-sizing: border-box;margin-bottom: 0.5em;}#sk-container-id-4 div.sk-estimator:hover {background-color: #d4ebff;}#sk-container-id-4 div.sk-parallel-item::after {content: \"\";width: 100%;border-bottom: 1px solid gray;flex-grow: 1;}#sk-container-id-4 div.sk-label:hover label.sk-toggleable__label {background-color: #d4ebff;}#sk-container-id-4 div.sk-serial::before {content: \"\";position: absolute;border-left: 1px solid gray;box-sizing: border-box;top: 0;bottom: 0;left: 50%;z-index: 0;}#sk-container-id-4 div.sk-serial {display: flex;flex-direction: column;align-items: center;background-color: white;padding-right: 0.2em;padding-left: 0.2em;position: relative;}#sk-container-id-4 div.sk-item {position: relative;z-index: 1;}#sk-container-id-4 div.sk-parallel {display: flex;align-items: stretch;justify-content: center;background-color: white;position: relative;}#sk-container-id-4 div.sk-item::before, #sk-container-id-4 div.sk-parallel-item::before {content: \"\";position: absolute;border-left: 1px solid gray;box-sizing: border-box;top: 0;bottom: 0;left: 50%;z-index: -1;}#sk-container-id-4 div.sk-parallel-item {display: flex;flex-direction: column;z-index: 1;position: relative;background-color: white;}#sk-container-id-4 div.sk-parallel-item:first-child::after {align-self: flex-end;width: 50%;}#sk-container-id-4 div.sk-parallel-item:last-child::after {align-self: flex-start;width: 50%;}#sk-container-id-4 div.sk-parallel-item:only-child::after {width: 0;}#sk-container-id-4 div.sk-dashed-wrapped {border: 1px dashed gray;margin: 0 0.4em 0.5em 0.4em;box-sizing: border-box;padding-bottom: 0.4em;background-color: white;}#sk-container-id-4 div.sk-label label {font-family: monospace;font-weight: bold;display: inline-block;line-height: 1.2em;}#sk-container-id-4 div.sk-label-container {text-align: center;}#sk-container-id-4 div.sk-container {/* jupyter's `normalize.less` sets `[hidden] { display: none; }` but bootstrap.min.css set `[hidden] { display: none !important; }` so we also need the `!important` here to be able to override the default hidden behavior on the sphinx rendered scikit-learn.org. See: https://github.com/scikit-learn/scikit-learn/issues/21755 */display: inline-block !important;position: relative;}#sk-container-id-4 div.sk-text-repr-fallback {display: none;}</style><div id=\"sk-container-id-4\" class=\"sk-top-container\"><div class=\"sk-text-repr-fallback\"><pre>Ridge(alpha=50, max_iter=200, tol=0.1)</pre><b>In a Jupyter environment, please rerun this cell to show the HTML representation or trust the notebook. <br />On GitHub, the HTML representation is unable to render, please try loading this page with nbviewer.org.</b></div><div class=\"sk-container\" hidden><div class=\"sk-item\"><div class=\"sk-estimator sk-toggleable\"><input class=\"sk-toggleable__control sk-hidden--visually\" id=\"sk-estimator-id-4\" type=\"checkbox\" checked><label for=\"sk-estimator-id-4\" class=\"sk-toggleable__label sk-toggleable__label-arrow\">Ridge</label><div class=\"sk-toggleable__content\"><pre>Ridge(alpha=50, max_iter=200, tol=0.1)</pre></div></div></div></div></div>"
      ],
      "text/plain": [
       "Ridge(alpha=50, max_iter=200, tol=0.1)"
      ]
     },
     "execution_count": 36,
     "metadata": {},
     "output_type": "execute_result"
    }
   ],
   "source": [
    "ridge_reg = Ridge(alpha=50, max_iter=200, tol=0.1)\n",
    "\n",
    "ridge_reg.fit(X_train, y_train)"
   ]
  },
  {
   "cell_type": "code",
   "execution_count": 37,
   "id": "dd78da53",
   "metadata": {},
   "outputs": [
    {
     "name": "stdout",
     "output_type": "stream",
     "text": [
      "0.7123791075625219\n",
      "0.6395944718862339\n"
     ]
    }
   ],
   "source": [
    "print(ridge_reg.score(X_train, y_train))\n",
    "print(ridge_reg.score(X_test, y_test))"
   ]
  },
  {
   "cell_type": "code",
   "execution_count": 38,
   "id": "1f719aed",
   "metadata": {
    "scrolled": true
   },
   "outputs": [
    {
     "name": "stdout",
     "output_type": "stream",
     "text": [
      "[2165837.94745104 1088478.35647815 1389305.01513732 ...  999673.29850665\n",
      " 1070304.9961422  1249821.69549657]\n"
     ]
    }
   ],
   "source": [
    "y_pred = ridge_reg.predict(X_test)\n",
    "print(y_pred)"
   ]
  },
  {
   "cell_type": "code",
   "execution_count": 39,
   "id": "19d72320",
   "metadata": {},
   "outputs": [
    {
     "data": {
      "text/plain": [
       "Text(0.5, 1.0, 'Actual vs. Predicted')"
      ]
     },
     "execution_count": 39,
     "metadata": {},
     "output_type": "execute_result"
    },
    {
     "data": {
      "image/png": "[encoded data removed]",
      "text/plain": [
       "<Figure size 1080x720 with 1 Axes>"
      ]
     },
     "metadata": {
      "needs_background": "light"
     },
     "output_type": "display_data"
    }
   ],
   "source": [
    "plt.figure(figsize=(15,10))\n",
    "\n",
    "\n",
    "plt.scatter(y_test, y_pred)\n",
    "plt.xlabel(\"Actual\")\n",
    "plt.ylabel(\"Predicted\")\n",
    "plt.title(\"Actual vs. Predicted\")\n",
    "\n",
    "\n",
    "#m,b = np.polyfit(y_test, y_pred,1)\n",
    "#plt.plot(y_test, m*y_test+b, color='red')"
   ]
  },
  {
   "cell_type": "markdown",
   "id": "8170de97",
   "metadata": {},
   "source": [
    "## Ridge and Lasso - An Extension"
   ]
  },
  {
   "cell_type": "markdown",
   "id": "2ddacb93",
   "metadata": {},
   "source": [
    "### Ridge"
   ]
  },
  {
   "cell_type": "code",
   "execution_count": 40,
   "id": "40f0555e",
   "metadata": {},
   "outputs": [
    {
     "data": {
      "text/plain": [
       "array([5.00000000e+09, 3.78231664e+09, 2.86118383e+09, 2.16438064e+09,\n",
       "       1.63727458e+09, 1.23853818e+09, 9.36908711e+08, 7.08737081e+08,\n",
       "       5.36133611e+08, 4.05565415e+08, 3.06795364e+08, 2.32079442e+08,\n",
       "       1.75559587e+08, 1.32804389e+08, 1.00461650e+08, 7.59955541e+07,\n",
       "       5.74878498e+07, 4.34874501e+07, 3.28966612e+07, 2.48851178e+07,\n",
       "       1.88246790e+07, 1.42401793e+07, 1.07721735e+07, 8.14875417e+06,\n",
       "       6.16423370e+06, 4.66301673e+06, 3.52740116e+06, 2.66834962e+06,\n",
       "       2.01850863e+06, 1.52692775e+06, 1.15506485e+06, 8.73764200e+05,\n",
       "       6.60970574e+05, 5.00000000e+05, 3.78231664e+05, 2.86118383e+05,\n",
       "       2.16438064e+05, 1.63727458e+05, 1.23853818e+05, 9.36908711e+04,\n",
       "       7.08737081e+04, 5.36133611e+04, 4.05565415e+04, 3.06795364e+04,\n",
       "       2.32079442e+04, 1.75559587e+04, 1.32804389e+04, 1.00461650e+04,\n",
       "       7.59955541e+03, 5.74878498e+03, 4.34874501e+03, 3.28966612e+03,\n",
       "       2.48851178e+03, 1.88246790e+03, 1.42401793e+03, 1.07721735e+03,\n",
       "       8.14875417e+02, 6.16423370e+02, 4.66301673e+02, 3.52740116e+02,\n",
       "       2.66834962e+02, 2.01850863e+02, 1.52692775e+02, 1.15506485e+02,\n",
       "       8.73764200e+01, 6.60970574e+01, 5.00000000e+01, 3.78231664e+01,\n",
       "       2.86118383e+01, 2.16438064e+01, 1.63727458e+01, 1.23853818e+01,\n",
       "       9.36908711e+00, 7.08737081e+00, 5.36133611e+00, 4.05565415e+00,\n",
       "       3.06795364e+00, 2.32079442e+00, 1.75559587e+00, 1.32804389e+00,\n",
       "       1.00461650e+00, 7.59955541e-01, 5.74878498e-01, 4.34874501e-01,\n",
       "       3.28966612e-01, 2.48851178e-01, 1.88246790e-01, 1.42401793e-01,\n",
       "       1.07721735e-01, 8.14875417e-02, 6.16423370e-02, 4.66301673e-02,\n",
       "       3.52740116e-02, 2.66834962e-02, 2.01850863e-02, 1.52692775e-02,\n",
       "       1.15506485e-02, 8.73764200e-03, 6.60970574e-03, 5.00000000e-03])"
      ]
     },
     "execution_count": 40,
     "metadata": {},
     "output_type": "execute_result"
    }
   ],
   "source": [
    "alphas = 10**np.linspace(10,-2,100)*0.5\n",
    "alphas"
   ]
  },
  {
   "cell_type": "code",
   "execution_count": 41,
   "id": "e16d00d6",
   "metadata": {},
   "outputs": [],
   "source": [
    "X = (X-X.min())/(X.max()-X.min()) #min-max scaling"
   ]
  },
  {
   "cell_type": "code",
   "execution_count": 42,
   "id": "230de130",
   "metadata": {},
   "outputs": [
    {
     "data": {
      "text/plain": [
       "(100, 406)"
      ]
     },
     "execution_count": 42,
     "metadata": {},
     "output_type": "execute_result"
    }
   ],
   "source": [
    "ridge = Ridge()\n",
    "coefs = []\n",
    "\n",
    "for a in alphas:\n",
    "    ridge.set_params(alpha = a)\n",
    "    ridge.fit(X, y)\n",
    "    coefs.append(ridge.coef_)\n",
    "     \n",
    "np.shape(coefs)"
   ]
  },
  {
   "cell_type": "code",
   "execution_count": 43,
   "id": "67315141",
   "metadata": {},
   "outputs": [
    {
     "data": {
      "text/plain": [
       "Text(0, 0.5, 'weights')"
      ]
     },
     "execution_count": 43,
     "metadata": {},
     "output_type": "execute_result"
    },
    {
     "data": {
      "image/png": "[encoded data removed]",
      "text/plain": [
       "<Figure size 432x288 with 1 Axes>"
      ]
     },
     "metadata": {
      "needs_background": "light"
     },
     "output_type": "display_data"
    }
   ],
   "source": [
    "ax = plt.gca()\n",
    "ax.plot(alphas, coefs)\n",
    "ax.set_xscale('log')\n",
    "plt.axis('tight')\n",
    "plt.xlabel('alpha')\n",
    "plt.ylabel('weights')"
   ]
  },
  {
   "cell_type": "code",
   "execution_count": 44,
   "id": "27c5d2e6",
   "metadata": {},
   "outputs": [],
   "source": [
    "X_train, X_test , y_train, y_test = train_test_split(X, y, test_size=0.2, random_state=1)"
   ]
  },
  {
   "cell_type": "code",
   "execution_count": 45,
   "id": "ae5dd0d0",
   "metadata": {},
   "outputs": [
    {
     "name": "stdout",
     "output_type": "stream",
     "text": [
      "Unnamed: 0                    -3.732713e+03\n",
      "Total interior livable area    1.257954e+07\n",
      "Bedrooms_Bathrooms            -1.572195e+06\n",
      "School_Score                   7.589611e+05\n",
      "Tax_value                      1.030176e+07\n",
      "                                   ...     \n",
      "City_Yolo                      5.259805e+04\n",
      "City_Yorba Linda              -1.117073e+05\n",
      "City_Yountville                6.968058e+05\n",
      "City_Yuba City                -1.801169e+05\n",
      "City_Zamora                   -1.076150e+05\n",
      "Length: 406, dtype: float64\n",
      "1069386675476.577\n"
     ]
    }
   ],
   "source": [
    "ridge2 = Ridge(alpha = 4)\n",
    "ridge2.fit(X_train, y_train)             # Fit a ridge regression on the training data\n",
    "pred2 = ridge2.predict(X_test)           # Use this model to predict the test data\n",
    "print(pd.Series(ridge2.coef_, index = X.columns)) # Print coefficients\n",
    "print(mean_squared_error(y_test, pred2))          # Calculate the test MSE"
   ]
  },
  {
   "cell_type": "code",
   "execution_count": 46,
   "id": "23f8ddea",
   "metadata": {
    "scrolled": true
   },
   "outputs": [
    {
     "name": "stdout",
     "output_type": "stream",
     "text": [
      "Unnamed: 0                     4.911945e+04\n",
      "Total interior livable area    1.250246e+07\n",
      "Bedrooms_Bathrooms            -9.372665e+05\n",
      "School_Score                   5.048724e+05\n",
      "Tax_value                      1.915748e+07\n",
      "                                   ...     \n",
      "City_Yolo                      2.943943e+05\n",
      "City_Yorba Linda              -3.799158e+05\n",
      "City_Yountville                9.376058e+05\n",
      "City_Yuba City                -4.162579e+04\n",
      "City_Zamora                   -3.385827e+05\n",
      "Length: 406, dtype: float64\n",
      "1.6807224192186298e+38\n"
     ]
    }
   ],
   "source": [
    "ridge2 = Ridge(alpha = 0)\n",
    "ridge2.fit(X_train, y_train)             # Fit a ridge regression on the training data\n",
    "pred = ridge2.predict(X_test)            # Use this model to predict the test data\n",
    "print(pd.Series(ridge2.coef_, index = X.columns)) # Print coefficients\n",
    "print(mean_squared_error(y_test, pred))           # Calculate the test MSE"
   ]
  },
  {
   "cell_type": "code",
   "execution_count": 47,
   "id": "f2c13c63",
   "metadata": {},
   "outputs": [
    {
     "data": {
      "text/plain": [
       "0.4348745013088917"
      ]
     },
     "execution_count": 47,
     "metadata": {},
     "output_type": "execute_result"
    }
   ],
   "source": [
    "ridgecv = RidgeCV(alphas = alphas, scoring = 'neg_mean_squared_error')\n",
    "ridgecv.fit(X_train, y_train)\n",
    "ridgecv.alpha_"
   ]
  },
  {
   "cell_type": "code",
   "execution_count": 48,
   "id": "5a2710d1",
   "metadata": {},
   "outputs": [
    {
     "data": {
      "text/plain": [
       "988337037705.3463"
      ]
     },
     "execution_count": 48,
     "metadata": {},
     "output_type": "execute_result"
    }
   ],
   "source": [
    "ridge4 = Ridge(alpha = ridgecv.alpha_)\n",
    "ridge4.fit(X_train, y_train)\n",
    "mean_squared_error(y_test, ridge4.predict(X_test))"
   ]
  },
  {
   "cell_type": "code",
   "execution_count": 49,
   "id": "07aaa8ec",
   "metadata": {
    "scrolled": true
   },
   "outputs": [
    {
     "data": {
      "text/plain": [
       "Unnamed: 0                     2.506110e+04\n",
       "Total interior livable area    1.282810e+07\n",
       "Bedrooms_Bathrooms            -1.048501e+06\n",
       "School_Score                   5.308454e+05\n",
       "Tax_value                      1.865688e+07\n",
       "                                   ...     \n",
       "City_Yolo                      2.078970e+05\n",
       "City_Yorba Linda              -3.112060e+05\n",
       "City_Yountville                7.522446e+05\n",
       "City_Yuba City                -1.245011e+05\n",
       "City_Zamora                   -3.142680e+05\n",
       "Length: 406, dtype: float64"
      ]
     },
     "execution_count": 49,
     "metadata": {},
     "output_type": "execute_result"
    }
   ],
   "source": [
    "ridge4.fit(X, y)\n",
    "pd.Series(ridge4.coef_, index = X.columns)"
   ]
  },
  {
   "cell_type": "markdown",
   "id": "98169fed",
   "metadata": {},
   "source": [
    "### Lasso"
   ]
  },
  {
   "cell_type": "code",
   "execution_count": 50,
   "id": "66d225fe",
   "metadata": {},
   "outputs": [
    {
     "data": {
      "text/plain": [
       "Text(0, 0.5, 'weights')"
      ]
     },
     "execution_count": 50,
     "metadata": {},
     "output_type": "execute_result"
    },
    {
     "data": {
      "image/png": "[encoded data removed]",
      "text/plain": [
       "<Figure size 432x288 with 1 Axes>"
      ]
     },
     "metadata": {
      "needs_background": "light"
     },
     "output_type": "display_data"
    }
   ],
   "source": [
    "from sklearn.preprocessing import scale \n",
    "\n",
    "lasso = Lasso(max_iter = 100, tol=0.5)\n",
    "coefs = []\n",
    "\n",
    "for a in alphas:\n",
    "    lasso.set_params(alpha=a)\n",
    "    lasso.fit(scale(X_train), y_train)\n",
    "    coefs.append(lasso.coef_)\n",
    "    \n",
    "ax = plt.gca()\n",
    "ax.plot(alphas*2, coefs)\n",
    "ax.set_xscale('log')\n",
    "plt.axis('tight')\n",
    "plt.xlabel('alpha')\n",
    "plt.ylabel('weights')"
   ]
  },
  {
   "cell_type": "code",
   "execution_count": 51,
   "id": "2564b0fb",
   "metadata": {},
   "outputs": [
    {
     "data": {
      "text/plain": [
       "991792030893.1697"
      ]
     },
     "execution_count": 51,
     "metadata": {},
     "output_type": "execute_result"
    }
   ],
   "source": [
    "lassocv = linear_model.LassoCV(alphas = None, cv = 10, max_iter = 100000)\n",
    "lassocv.fit(X_train, y_train)\n",
    "\n",
    "lasso.set_params(alpha=lassocv.alpha_)\n",
    "lasso.fit(X_train, y_train)\n",
    "mean_squared_error(y_test, lasso.predict(X_test))"
   ]
  },
  {
   "cell_type": "code",
   "execution_count": 52,
   "id": "9ed99e86",
   "metadata": {
    "scrolled": true
   },
   "outputs": [
    {
     "data": {
      "text/plain": [
       "Unnamed: 0                    -1.733229e+05\n",
       "Total interior livable area    1.417074e+07\n",
       "Bedrooms_Bathrooms            -1.411746e+06\n",
       "School_Score                   8.518275e+05\n",
       "Tax_value                      1.686221e+07\n",
       "                                   ...     \n",
       "City_Yolo                     -0.000000e+00\n",
       "City_Yorba Linda              -0.000000e+00\n",
       "City_Yountville                4.840259e+05\n",
       "City_Yuba City                -2.744016e+05\n",
       "City_Zamora                   -0.000000e+00\n",
       "Length: 406, dtype: float64"
      ]
     },
     "execution_count": 52,
     "metadata": {},
     "output_type": "execute_result"
    }
   ],
   "source": [
    "# Some of the coefficients are now reduced to exactly zero.\n",
    "pd.Series(lasso.coef_, index=X.columns)"
   ]
  },
  {
   "cell_type": "markdown",
   "id": "4e50a9dc",
   "metadata": {},
   "source": [
    "### Citation for the above:^ http://www.science.smith.edu/~jcrouser/SDS293/labs/lab10-py.html\n",
    "\n",
    "## (need to add some explanations)"
   ]
  }
 ],
 "metadata": {
  "kernelspec": {
   "display_name": "Python 3",
   "language": "python",
   "name": "python3"
  },
  "language_info": {
   "codemirror_mode": {
    "name": "ipython",
    "version": 3
   },
   "file_extension": ".py",
   "mimetype": "text/x-python",
   "name": "python",
   "nbconvert_exporter": "python",
   "pygments_lexer": "ipython3",
   "version": "3.8.8"
  }
 },
 "nbformat": 4,
 "nbformat_minor": 5
}
