{
 "cells": [
  {
   "cell_type": "markdown",
   "id": "62f34504",
   "metadata": {},
   "source": [
    "# Multivariate Linear Regression + Checking Linear Assumptions"
   ]
  },
  {
   "cell_type": "markdown",
   "id": "5ae96b1c",
   "metadata": {},
   "source": [
    "### Importing Modules and Opening CSV"
   ]
  },
  {
   "cell_type": "code",
   "execution_count": 1,
   "id": "b3672b72",
   "metadata": {},
   "outputs": [],
   "source": [
    "import warnings\n",
    "warnings.filterwarnings('ignore')"
   ]
  },
  {
   "cell_type": "code",
   "execution_count": 2,
   "id": "633bd57c",
   "metadata": {
    "scrolled": false
   },
   "outputs": [
    {
     "data": {
      "text/html": [
       "<div>\n",
       "<style scoped>\n",
       "    .dataframe tbody tr th:only-of-type {\n",
       "        vertical-align: middle;\n",
       "    }\n",
       "\n",
       "    .dataframe tbody tr th {\n",
       "        vertical-align: top;\n",
       "    }\n",
       "\n",
       "    .dataframe thead th {\n",
       "        text-align: right;\n",
       "    }\n",
       "</style>\n",
       "<table border=\"1\" class=\"dataframe\">\n",
       "  <thead>\n",
       "    <tr style=\"text-align: right;\">\n",
       "      <th></th>\n",
       "      <th>Unnamed: 0</th>\n",
       "      <th>Bedrooms</th>\n",
       "      <th>Bathrooms</th>\n",
       "      <th>Total interior livable area</th>\n",
       "      <th>Elementary School Score</th>\n",
       "      <th>Middle School Score</th>\n",
       "      <th>High School Score</th>\n",
       "      <th>Tax assessed value</th>\n",
       "      <th>Annual tax amount</th>\n",
       "      <th>Listed Price</th>\n",
       "      <th>City</th>\n",
       "    </tr>\n",
       "  </thead>\n",
       "  <tbody>\n",
       "    <tr>\n",
       "      <th>0</th>\n",
       "      <td>1</td>\n",
       "      <td>3</td>\n",
       "      <td>2.0</td>\n",
       "      <td>872.0</td>\n",
       "      <td>3.0</td>\n",
       "      <td>2.0</td>\n",
       "      <td>2.0</td>\n",
       "      <td>505000.0</td>\n",
       "      <td>6253.0</td>\n",
       "      <td>525000.0</td>\n",
       "      <td>Los Angeles</td>\n",
       "    </tr>\n",
       "    <tr>\n",
       "      <th>1</th>\n",
       "      <td>3</td>\n",
       "      <td>5</td>\n",
       "      <td>3.0</td>\n",
       "      <td>2612.0</td>\n",
       "      <td>9.0</td>\n",
       "      <td>7.0</td>\n",
       "      <td>8.0</td>\n",
       "      <td>1775000.0</td>\n",
       "      <td>20787.0</td>\n",
       "      <td>1895000.0</td>\n",
       "      <td>Culver City</td>\n",
       "    </tr>\n",
       "    <tr>\n",
       "      <th>2</th>\n",
       "      <td>10</td>\n",
       "      <td>4</td>\n",
       "      <td>2.0</td>\n",
       "      <td>1579.0</td>\n",
       "      <td>7.0</td>\n",
       "      <td>5.0</td>\n",
       "      <td>6.0</td>\n",
       "      <td>71347.0</td>\n",
       "      <td>904.0</td>\n",
       "      <td>1428000.0</td>\n",
       "      <td>Santa Clara</td>\n",
       "    </tr>\n",
       "    <tr>\n",
       "      <th>3</th>\n",
       "      <td>12</td>\n",
       "      <td>6</td>\n",
       "      <td>3.0</td>\n",
       "      <td>3351.0</td>\n",
       "      <td>8.0</td>\n",
       "      <td>7.0</td>\n",
       "      <td>7.0</td>\n",
       "      <td>2080800.0</td>\n",
       "      <td>25099.0</td>\n",
       "      <td>2250000.0</td>\n",
       "      <td>San Francisco</td>\n",
       "    </tr>\n",
       "    <tr>\n",
       "      <th>4</th>\n",
       "      <td>18</td>\n",
       "      <td>3</td>\n",
       "      <td>2.0</td>\n",
       "      <td>2100.0</td>\n",
       "      <td>6.0</td>\n",
       "      <td>6.0</td>\n",
       "      <td>8.0</td>\n",
       "      <td>1836000.0</td>\n",
       "      <td>21521.0</td>\n",
       "      <td>2390000.0</td>\n",
       "      <td>San Mateo</td>\n",
       "    </tr>\n",
       "    <tr>\n",
       "      <th>...</th>\n",
       "      <td>...</td>\n",
       "      <td>...</td>\n",
       "      <td>...</td>\n",
       "      <td>...</td>\n",
       "      <td>...</td>\n",
       "      <td>...</td>\n",
       "      <td>...</td>\n",
       "      <td>...</td>\n",
       "      <td>...</td>\n",
       "      <td>...</td>\n",
       "      <td>...</td>\n",
       "    </tr>\n",
       "    <tr>\n",
       "      <th>12486</th>\n",
       "      <td>47425</td>\n",
       "      <td>4</td>\n",
       "      <td>3.0</td>\n",
       "      <td>2219.0</td>\n",
       "      <td>7.0</td>\n",
       "      <td>7.0</td>\n",
       "      <td>9.0</td>\n",
       "      <td>900775.0</td>\n",
       "      <td>12719.0</td>\n",
       "      <td>1224888.0</td>\n",
       "      <td>San Jose</td>\n",
       "    </tr>\n",
       "    <tr>\n",
       "      <th>12487</th>\n",
       "      <td>47427</td>\n",
       "      <td>4</td>\n",
       "      <td>5.0</td>\n",
       "      <td>4680.0</td>\n",
       "      <td>7.0</td>\n",
       "      <td>5.0</td>\n",
       "      <td>7.0</td>\n",
       "      <td>2360150.0</td>\n",
       "      <td>25283.0</td>\n",
       "      <td>2569000.0</td>\n",
       "      <td>Villa Park</td>\n",
       "    </tr>\n",
       "    <tr>\n",
       "      <th>12488</th>\n",
       "      <td>47436</td>\n",
       "      <td>3</td>\n",
       "      <td>2.0</td>\n",
       "      <td>1860.0</td>\n",
       "      <td>7.0</td>\n",
       "      <td>3.0</td>\n",
       "      <td>7.0</td>\n",
       "      <td>578000.0</td>\n",
       "      <td>7211.0</td>\n",
       "      <td>2295000.0</td>\n",
       "      <td>Los Angeles</td>\n",
       "    </tr>\n",
       "    <tr>\n",
       "      <th>12489</th>\n",
       "      <td>47437</td>\n",
       "      <td>3</td>\n",
       "      <td>3.0</td>\n",
       "      <td>2125.0</td>\n",
       "      <td>7.0</td>\n",
       "      <td>7.0</td>\n",
       "      <td>8.0</td>\n",
       "      <td>484696.0</td>\n",
       "      <td>7627.0</td>\n",
       "      <td>499888.0</td>\n",
       "      <td>Elk Grove</td>\n",
       "    </tr>\n",
       "    <tr>\n",
       "      <th>12490</th>\n",
       "      <td>47438</td>\n",
       "      <td>2</td>\n",
       "      <td>1.0</td>\n",
       "      <td>1112.0</td>\n",
       "      <td>9.0</td>\n",
       "      <td>8.0</td>\n",
       "      <td>9.0</td>\n",
       "      <td>49671.0</td>\n",
       "      <td>1089.0</td>\n",
       "      <td>748000.0</td>\n",
       "      <td>Los Alamitos</td>\n",
       "    </tr>\n",
       "  </tbody>\n",
       "</table>\n",
       "<p>12491 rows × 11 columns</p>\n",
       "</div>"
      ],
      "text/plain": [
       "       Unnamed: 0  Bedrooms  Bathrooms  Total interior livable area  \\\n",
       "0               1         3        2.0                        872.0   \n",
       "1               3         5        3.0                       2612.0   \n",
       "2              10         4        2.0                       1579.0   \n",
       "3              12         6        3.0                       3351.0   \n",
       "4              18         3        2.0                       2100.0   \n",
       "...           ...       ...        ...                          ...   \n",
       "12486       47425         4        3.0                       2219.0   \n",
       "12487       47427         4        5.0                       4680.0   \n",
       "12488       47436         3        2.0                       1860.0   \n",
       "12489       47437         3        3.0                       2125.0   \n",
       "12490       47438         2        1.0                       1112.0   \n",
       "\n",
       "       Elementary School Score  Middle School Score  High School Score  \\\n",
       "0                          3.0                  2.0                2.0   \n",
       "1                          9.0                  7.0                8.0   \n",
       "2                          7.0                  5.0                6.0   \n",
       "3                          8.0                  7.0                7.0   \n",
       "4                          6.0                  6.0                8.0   \n",
       "...                        ...                  ...                ...   \n",
       "12486                      7.0                  7.0                9.0   \n",
       "12487                      7.0                  5.0                7.0   \n",
       "12488                      7.0                  3.0                7.0   \n",
       "12489                      7.0                  7.0                8.0   \n",
       "12490                      9.0                  8.0                9.0   \n",
       "\n",
       "       Tax assessed value  Annual tax amount  Listed Price           City  \n",
       "0                505000.0             6253.0      525000.0    Los Angeles  \n",
       "1               1775000.0            20787.0     1895000.0    Culver City  \n",
       "2                 71347.0              904.0     1428000.0    Santa Clara  \n",
       "3               2080800.0            25099.0     2250000.0  San Francisco  \n",
       "4               1836000.0            21521.0     2390000.0      San Mateo  \n",
       "...                   ...                ...           ...            ...  \n",
       "12486            900775.0            12719.0     1224888.0       San Jose  \n",
       "12487           2360150.0            25283.0     2569000.0     Villa Park  \n",
       "12488            578000.0             7211.0     2295000.0    Los Angeles  \n",
       "12489            484696.0             7627.0      499888.0      Elk Grove  \n",
       "12490             49671.0             1089.0      748000.0   Los Alamitos  \n",
       "\n",
       "[12491 rows x 11 columns]"
      ]
     },
     "execution_count": 2,
     "metadata": {},
     "output_type": "execute_result"
    }
   ],
   "source": [
    "import numpy as np\n",
    "import pandas as pd\n",
    "import matplotlib.pyplot as plt\n",
    "from sklearn.metrics import mean_squared_error, r2_score\n",
    "from sklearn.model_selection import train_test_split\n",
    "\n",
    "\n",
    "df = pd.read_csv('dataframe_for_model.csv')\n",
    "df"
   ]
  },
  {
   "cell_type": "code",
   "execution_count": 3,
   "id": "224496da",
   "metadata": {},
   "outputs": [
    {
     "data": {
      "text/html": [
       "<div>\n",
       "<style scoped>\n",
       "    .dataframe tbody tr th:only-of-type {\n",
       "        vertical-align: middle;\n",
       "    }\n",
       "\n",
       "    .dataframe tbody tr th {\n",
       "        vertical-align: top;\n",
       "    }\n",
       "\n",
       "    .dataframe thead th {\n",
       "        text-align: right;\n",
       "    }\n",
       "</style>\n",
       "<table border=\"1\" class=\"dataframe\">\n",
       "  <thead>\n",
       "    <tr style=\"text-align: right;\">\n",
       "      <th></th>\n",
       "      <th>City</th>\n",
       "      <th>Latitude</th>\n",
       "      <th>Longitude</th>\n",
       "    </tr>\n",
       "  </thead>\n",
       "  <tbody>\n",
       "    <tr>\n",
       "      <th>0</th>\n",
       "      <td>Acampo</td>\n",
       "      <td>38.174640</td>\n",
       "      <td>-121.278559</td>\n",
       "    </tr>\n",
       "    <tr>\n",
       "      <th>1</th>\n",
       "      <td>Aguanga</td>\n",
       "      <td>33.442809</td>\n",
       "      <td>-116.865024</td>\n",
       "    </tr>\n",
       "    <tr>\n",
       "      <th>2</th>\n",
       "      <td>Alameda</td>\n",
       "      <td>37.609029</td>\n",
       "      <td>-121.899142</td>\n",
       "    </tr>\n",
       "    <tr>\n",
       "      <th>3</th>\n",
       "      <td>Alamo</td>\n",
       "      <td>37.850203</td>\n",
       "      <td>-122.032184</td>\n",
       "    </tr>\n",
       "    <tr>\n",
       "      <th>4</th>\n",
       "      <td>Albany</td>\n",
       "      <td>37.886870</td>\n",
       "      <td>-122.297747</td>\n",
       "    </tr>\n",
       "    <tr>\n",
       "      <th>...</th>\n",
       "      <td>...</td>\n",
       "      <td>...</td>\n",
       "      <td>...</td>\n",
       "    </tr>\n",
       "    <tr>\n",
       "      <th>397</th>\n",
       "      <td>Yolo</td>\n",
       "      <td>38.718454</td>\n",
       "      <td>-121.905900</td>\n",
       "    </tr>\n",
       "    <tr>\n",
       "      <th>398</th>\n",
       "      <td>Yorba Linda</td>\n",
       "      <td>33.890110</td>\n",
       "      <td>-117.824971</td>\n",
       "    </tr>\n",
       "    <tr>\n",
       "      <th>399</th>\n",
       "      <td>Yountville</td>\n",
       "      <td>38.402201</td>\n",
       "      <td>-122.359506</td>\n",
       "    </tr>\n",
       "    <tr>\n",
       "      <th>400</th>\n",
       "      <td>Yuba City</td>\n",
       "      <td>39.140448</td>\n",
       "      <td>-121.616911</td>\n",
       "    </tr>\n",
       "    <tr>\n",
       "      <th>401</th>\n",
       "      <td>Zamora</td>\n",
       "      <td>38.796568</td>\n",
       "      <td>-121.881912</td>\n",
       "    </tr>\n",
       "  </tbody>\n",
       "</table>\n",
       "<p>402 rows × 3 columns</p>\n",
       "</div>"
      ],
      "text/plain": [
       "            City   Latitude   Longitude\n",
       "0         Acampo  38.174640 -121.278559\n",
       "1        Aguanga  33.442809 -116.865024\n",
       "2        Alameda  37.609029 -121.899142\n",
       "3          Alamo  37.850203 -122.032184\n",
       "4         Albany  37.886870 -122.297747\n",
       "..           ...        ...         ...\n",
       "397         Yolo  38.718454 -121.905900\n",
       "398  Yorba Linda  33.890110 -117.824971\n",
       "399   Yountville  38.402201 -122.359506\n",
       "400    Yuba City  39.140448 -121.616911\n",
       "401       Zamora  38.796568 -121.881912\n",
       "\n",
       "[402 rows x 3 columns]"
      ]
     },
     "execution_count": 3,
     "metadata": {},
     "output_type": "execute_result"
    }
   ],
   "source": [
    "cities_df = pd.read_csv('cities_coord.csv')\n",
    "cities_df"
   ]
  },
  {
   "cell_type": "code",
   "execution_count": 4,
   "id": "90761934",
   "metadata": {},
   "outputs": [],
   "source": [
    "cities_df = cities_df.set_index('City')"
   ]
  },
  {
   "cell_type": "code",
   "execution_count": 5,
   "id": "d0b88489",
   "metadata": {},
   "outputs": [
    {
     "data": {
      "text/html": [
       "<div>\n",
       "<style scoped>\n",
       "    .dataframe tbody tr th:only-of-type {\n",
       "        vertical-align: middle;\n",
       "    }\n",
       "\n",
       "    .dataframe tbody tr th {\n",
       "        vertical-align: top;\n",
       "    }\n",
       "\n",
       "    .dataframe thead th {\n",
       "        text-align: right;\n",
       "    }\n",
       "</style>\n",
       "<table border=\"1\" class=\"dataframe\">\n",
       "  <thead>\n",
       "    <tr style=\"text-align: right;\">\n",
       "      <th></th>\n",
       "      <th>Unnamed: 0</th>\n",
       "      <th>Bedrooms</th>\n",
       "      <th>Bathrooms</th>\n",
       "      <th>Total interior livable area</th>\n",
       "      <th>Elementary School Score</th>\n",
       "      <th>Middle School Score</th>\n",
       "      <th>High School Score</th>\n",
       "      <th>Tax assessed value</th>\n",
       "      <th>Annual tax amount</th>\n",
       "      <th>Listed Price</th>\n",
       "      <th>City</th>\n",
       "      <th>Lat</th>\n",
       "      <th>Long</th>\n",
       "    </tr>\n",
       "  </thead>\n",
       "  <tbody>\n",
       "    <tr>\n",
       "      <th>0</th>\n",
       "      <td>1</td>\n",
       "      <td>3</td>\n",
       "      <td>2.0</td>\n",
       "      <td>872.0</td>\n",
       "      <td>3.0</td>\n",
       "      <td>2.0</td>\n",
       "      <td>2.0</td>\n",
       "      <td>505000.0</td>\n",
       "      <td>6253.0</td>\n",
       "      <td>525000.0</td>\n",
       "      <td>Los Angeles</td>\n",
       "      <td>34.053691</td>\n",
       "      <td>-118.242766</td>\n",
       "    </tr>\n",
       "    <tr>\n",
       "      <th>1</th>\n",
       "      <td>3</td>\n",
       "      <td>5</td>\n",
       "      <td>3.0</td>\n",
       "      <td>2612.0</td>\n",
       "      <td>9.0</td>\n",
       "      <td>7.0</td>\n",
       "      <td>8.0</td>\n",
       "      <td>1775000.0</td>\n",
       "      <td>20787.0</td>\n",
       "      <td>1895000.0</td>\n",
       "      <td>Culver City</td>\n",
       "      <td>34.021122</td>\n",
       "      <td>-118.396466</td>\n",
       "    </tr>\n",
       "    <tr>\n",
       "      <th>2</th>\n",
       "      <td>10</td>\n",
       "      <td>4</td>\n",
       "      <td>2.0</td>\n",
       "      <td>1579.0</td>\n",
       "      <td>7.0</td>\n",
       "      <td>5.0</td>\n",
       "      <td>6.0</td>\n",
       "      <td>71347.0</td>\n",
       "      <td>904.0</td>\n",
       "      <td>1428000.0</td>\n",
       "      <td>Santa Clara</td>\n",
       "      <td>37.233325</td>\n",
       "      <td>-121.684635</td>\n",
       "    </tr>\n",
       "    <tr>\n",
       "      <th>3</th>\n",
       "      <td>12</td>\n",
       "      <td>6</td>\n",
       "      <td>3.0</td>\n",
       "      <td>3351.0</td>\n",
       "      <td>8.0</td>\n",
       "      <td>7.0</td>\n",
       "      <td>7.0</td>\n",
       "      <td>2080800.0</td>\n",
       "      <td>25099.0</td>\n",
       "      <td>2250000.0</td>\n",
       "      <td>San Francisco</td>\n",
       "      <td>37.779026</td>\n",
       "      <td>-122.419906</td>\n",
       "    </tr>\n",
       "    <tr>\n",
       "      <th>4</th>\n",
       "      <td>18</td>\n",
       "      <td>3</td>\n",
       "      <td>2.0</td>\n",
       "      <td>2100.0</td>\n",
       "      <td>6.0</td>\n",
       "      <td>6.0</td>\n",
       "      <td>8.0</td>\n",
       "      <td>1836000.0</td>\n",
       "      <td>21521.0</td>\n",
       "      <td>2390000.0</td>\n",
       "      <td>San Mateo</td>\n",
       "      <td>37.496904</td>\n",
       "      <td>-122.333057</td>\n",
       "    </tr>\n",
       "    <tr>\n",
       "      <th>...</th>\n",
       "      <td>...</td>\n",
       "      <td>...</td>\n",
       "      <td>...</td>\n",
       "      <td>...</td>\n",
       "      <td>...</td>\n",
       "      <td>...</td>\n",
       "      <td>...</td>\n",
       "      <td>...</td>\n",
       "      <td>...</td>\n",
       "      <td>...</td>\n",
       "      <td>...</td>\n",
       "      <td>...</td>\n",
       "      <td>...</td>\n",
       "    </tr>\n",
       "    <tr>\n",
       "      <th>12486</th>\n",
       "      <td>47425</td>\n",
       "      <td>4</td>\n",
       "      <td>3.0</td>\n",
       "      <td>2219.0</td>\n",
       "      <td>7.0</td>\n",
       "      <td>7.0</td>\n",
       "      <td>9.0</td>\n",
       "      <td>900775.0</td>\n",
       "      <td>12719.0</td>\n",
       "      <td>1224888.0</td>\n",
       "      <td>San Jose</td>\n",
       "      <td>37.336166</td>\n",
       "      <td>-121.890591</td>\n",
       "    </tr>\n",
       "    <tr>\n",
       "      <th>12487</th>\n",
       "      <td>47427</td>\n",
       "      <td>4</td>\n",
       "      <td>5.0</td>\n",
       "      <td>4680.0</td>\n",
       "      <td>7.0</td>\n",
       "      <td>5.0</td>\n",
       "      <td>7.0</td>\n",
       "      <td>2360150.0</td>\n",
       "      <td>25283.0</td>\n",
       "      <td>2569000.0</td>\n",
       "      <td>Villa Park</td>\n",
       "      <td>33.814754</td>\n",
       "      <td>-117.820623</td>\n",
       "    </tr>\n",
       "    <tr>\n",
       "      <th>12488</th>\n",
       "      <td>47436</td>\n",
       "      <td>3</td>\n",
       "      <td>2.0</td>\n",
       "      <td>1860.0</td>\n",
       "      <td>7.0</td>\n",
       "      <td>3.0</td>\n",
       "      <td>7.0</td>\n",
       "      <td>578000.0</td>\n",
       "      <td>7211.0</td>\n",
       "      <td>2295000.0</td>\n",
       "      <td>Los Angeles</td>\n",
       "      <td>34.053691</td>\n",
       "      <td>-118.242766</td>\n",
       "    </tr>\n",
       "    <tr>\n",
       "      <th>12489</th>\n",
       "      <td>47437</td>\n",
       "      <td>3</td>\n",
       "      <td>3.0</td>\n",
       "      <td>2125.0</td>\n",
       "      <td>7.0</td>\n",
       "      <td>7.0</td>\n",
       "      <td>8.0</td>\n",
       "      <td>484696.0</td>\n",
       "      <td>7627.0</td>\n",
       "      <td>499888.0</td>\n",
       "      <td>Elk Grove</td>\n",
       "      <td>38.408799</td>\n",
       "      <td>-121.371618</td>\n",
       "    </tr>\n",
       "    <tr>\n",
       "      <th>12490</th>\n",
       "      <td>47438</td>\n",
       "      <td>2</td>\n",
       "      <td>1.0</td>\n",
       "      <td>1112.0</td>\n",
       "      <td>9.0</td>\n",
       "      <td>8.0</td>\n",
       "      <td>9.0</td>\n",
       "      <td>49671.0</td>\n",
       "      <td>1089.0</td>\n",
       "      <td>748000.0</td>\n",
       "      <td>Los Alamitos</td>\n",
       "      <td>33.803886</td>\n",
       "      <td>-118.077243</td>\n",
       "    </tr>\n",
       "  </tbody>\n",
       "</table>\n",
       "<p>12491 rows × 13 columns</p>\n",
       "</div>"
      ],
      "text/plain": [
       "       Unnamed: 0  Bedrooms  Bathrooms  Total interior livable area  \\\n",
       "0               1         3        2.0                        872.0   \n",
       "1               3         5        3.0                       2612.0   \n",
       "2              10         4        2.0                       1579.0   \n",
       "3              12         6        3.0                       3351.0   \n",
       "4              18         3        2.0                       2100.0   \n",
       "...           ...       ...        ...                          ...   \n",
       "12486       47425         4        3.0                       2219.0   \n",
       "12487       47427         4        5.0                       4680.0   \n",
       "12488       47436         3        2.0                       1860.0   \n",
       "12489       47437         3        3.0                       2125.0   \n",
       "12490       47438         2        1.0                       1112.0   \n",
       "\n",
       "       Elementary School Score  Middle School Score  High School Score  \\\n",
       "0                          3.0                  2.0                2.0   \n",
       "1                          9.0                  7.0                8.0   \n",
       "2                          7.0                  5.0                6.0   \n",
       "3                          8.0                  7.0                7.0   \n",
       "4                          6.0                  6.0                8.0   \n",
       "...                        ...                  ...                ...   \n",
       "12486                      7.0                  7.0                9.0   \n",
       "12487                      7.0                  5.0                7.0   \n",
       "12488                      7.0                  3.0                7.0   \n",
       "12489                      7.0                  7.0                8.0   \n",
       "12490                      9.0                  8.0                9.0   \n",
       "\n",
       "       Tax assessed value  Annual tax amount  Listed Price           City  \\\n",
       "0                505000.0             6253.0      525000.0    Los Angeles   \n",
       "1               1775000.0            20787.0     1895000.0    Culver City   \n",
       "2                 71347.0              904.0     1428000.0    Santa Clara   \n",
       "3               2080800.0            25099.0     2250000.0  San Francisco   \n",
       "4               1836000.0            21521.0     2390000.0      San Mateo   \n",
       "...                   ...                ...           ...            ...   \n",
       "12486            900775.0            12719.0     1224888.0       San Jose   \n",
       "12487           2360150.0            25283.0     2569000.0     Villa Park   \n",
       "12488            578000.0             7211.0     2295000.0    Los Angeles   \n",
       "12489            484696.0             7627.0      499888.0      Elk Grove   \n",
       "12490             49671.0             1089.0      748000.0   Los Alamitos   \n",
       "\n",
       "             Lat        Long  \n",
       "0      34.053691 -118.242766  \n",
       "1      34.021122 -118.396466  \n",
       "2      37.233325 -121.684635  \n",
       "3      37.779026 -122.419906  \n",
       "4      37.496904 -122.333057  \n",
       "...          ...         ...  \n",
       "12486  37.336166 -121.890591  \n",
       "12487  33.814754 -117.820623  \n",
       "12488  34.053691 -118.242766  \n",
       "12489  38.408799 -121.371618  \n",
       "12490  33.803886 -118.077243  \n",
       "\n",
       "[12491 rows x 13 columns]"
      ]
     },
     "execution_count": 5,
     "metadata": {},
     "output_type": "execute_result"
    }
   ],
   "source": [
    "df[['Lat', 'Long']] = cities_df.loc[df[\"City\"]].values # converting categorical variable to numerical coordiantes\n",
    "df"
   ]
  },
  {
   "cell_type": "code",
   "execution_count": 6,
   "id": "b88fa0d2",
   "metadata": {},
   "outputs": [
    {
     "data": {
      "text/html": [
       "<div>\n",
       "<style scoped>\n",
       "    .dataframe tbody tr th:only-of-type {\n",
       "        vertical-align: middle;\n",
       "    }\n",
       "\n",
       "    .dataframe tbody tr th {\n",
       "        vertical-align: top;\n",
       "    }\n",
       "\n",
       "    .dataframe thead th {\n",
       "        text-align: right;\n",
       "    }\n",
       "</style>\n",
       "<table border=\"1\" class=\"dataframe\">\n",
       "  <thead>\n",
       "    <tr style=\"text-align: right;\">\n",
       "      <th></th>\n",
       "      <th>Bedrooms</th>\n",
       "      <th>Bathrooms</th>\n",
       "      <th>Total interior livable area</th>\n",
       "      <th>Elementary School Score</th>\n",
       "      <th>Middle School Score</th>\n",
       "      <th>High School Score</th>\n",
       "      <th>Tax assessed value</th>\n",
       "      <th>Annual tax amount</th>\n",
       "      <th>Listed Price</th>\n",
       "      <th>Lat</th>\n",
       "      <th>Long</th>\n",
       "    </tr>\n",
       "  </thead>\n",
       "  <tbody>\n",
       "    <tr>\n",
       "      <th>0</th>\n",
       "      <td>3</td>\n",
       "      <td>2.0</td>\n",
       "      <td>872.0</td>\n",
       "      <td>3.0</td>\n",
       "      <td>2.0</td>\n",
       "      <td>2.0</td>\n",
       "      <td>505000.0</td>\n",
       "      <td>6253.0</td>\n",
       "      <td>525000.0</td>\n",
       "      <td>34.053691</td>\n",
       "      <td>-118.242766</td>\n",
       "    </tr>\n",
       "    <tr>\n",
       "      <th>1</th>\n",
       "      <td>5</td>\n",
       "      <td>3.0</td>\n",
       "      <td>2612.0</td>\n",
       "      <td>9.0</td>\n",
       "      <td>7.0</td>\n",
       "      <td>8.0</td>\n",
       "      <td>1775000.0</td>\n",
       "      <td>20787.0</td>\n",
       "      <td>1895000.0</td>\n",
       "      <td>34.021122</td>\n",
       "      <td>-118.396466</td>\n",
       "    </tr>\n",
       "    <tr>\n",
       "      <th>2</th>\n",
       "      <td>4</td>\n",
       "      <td>2.0</td>\n",
       "      <td>1579.0</td>\n",
       "      <td>7.0</td>\n",
       "      <td>5.0</td>\n",
       "      <td>6.0</td>\n",
       "      <td>71347.0</td>\n",
       "      <td>904.0</td>\n",
       "      <td>1428000.0</td>\n",
       "      <td>37.233325</td>\n",
       "      <td>-121.684635</td>\n",
       "    </tr>\n",
       "    <tr>\n",
       "      <th>3</th>\n",
       "      <td>6</td>\n",
       "      <td>3.0</td>\n",
       "      <td>3351.0</td>\n",
       "      <td>8.0</td>\n",
       "      <td>7.0</td>\n",
       "      <td>7.0</td>\n",
       "      <td>2080800.0</td>\n",
       "      <td>25099.0</td>\n",
       "      <td>2250000.0</td>\n",
       "      <td>37.779026</td>\n",
       "      <td>-122.419906</td>\n",
       "    </tr>\n",
       "    <tr>\n",
       "      <th>4</th>\n",
       "      <td>3</td>\n",
       "      <td>2.0</td>\n",
       "      <td>2100.0</td>\n",
       "      <td>6.0</td>\n",
       "      <td>6.0</td>\n",
       "      <td>8.0</td>\n",
       "      <td>1836000.0</td>\n",
       "      <td>21521.0</td>\n",
       "      <td>2390000.0</td>\n",
       "      <td>37.496904</td>\n",
       "      <td>-122.333057</td>\n",
       "    </tr>\n",
       "    <tr>\n",
       "      <th>...</th>\n",
       "      <td>...</td>\n",
       "      <td>...</td>\n",
       "      <td>...</td>\n",
       "      <td>...</td>\n",
       "      <td>...</td>\n",
       "      <td>...</td>\n",
       "      <td>...</td>\n",
       "      <td>...</td>\n",
       "      <td>...</td>\n",
       "      <td>...</td>\n",
       "      <td>...</td>\n",
       "    </tr>\n",
       "    <tr>\n",
       "      <th>12486</th>\n",
       "      <td>4</td>\n",
       "      <td>3.0</td>\n",
       "      <td>2219.0</td>\n",
       "      <td>7.0</td>\n",
       "      <td>7.0</td>\n",
       "      <td>9.0</td>\n",
       "      <td>900775.0</td>\n",
       "      <td>12719.0</td>\n",
       "      <td>1224888.0</td>\n",
       "      <td>37.336166</td>\n",
       "      <td>-121.890591</td>\n",
       "    </tr>\n",
       "    <tr>\n",
       "      <th>12487</th>\n",
       "      <td>4</td>\n",
       "      <td>5.0</td>\n",
       "      <td>4680.0</td>\n",
       "      <td>7.0</td>\n",
       "      <td>5.0</td>\n",
       "      <td>7.0</td>\n",
       "      <td>2360150.0</td>\n",
       "      <td>25283.0</td>\n",
       "      <td>2569000.0</td>\n",
       "      <td>33.814754</td>\n",
       "      <td>-117.820623</td>\n",
       "    </tr>\n",
       "    <tr>\n",
       "      <th>12488</th>\n",
       "      <td>3</td>\n",
       "      <td>2.0</td>\n",
       "      <td>1860.0</td>\n",
       "      <td>7.0</td>\n",
       "      <td>3.0</td>\n",
       "      <td>7.0</td>\n",
       "      <td>578000.0</td>\n",
       "      <td>7211.0</td>\n",
       "      <td>2295000.0</td>\n",
       "      <td>34.053691</td>\n",
       "      <td>-118.242766</td>\n",
       "    </tr>\n",
       "    <tr>\n",
       "      <th>12489</th>\n",
       "      <td>3</td>\n",
       "      <td>3.0</td>\n",
       "      <td>2125.0</td>\n",
       "      <td>7.0</td>\n",
       "      <td>7.0</td>\n",
       "      <td>8.0</td>\n",
       "      <td>484696.0</td>\n",
       "      <td>7627.0</td>\n",
       "      <td>499888.0</td>\n",
       "      <td>38.408799</td>\n",
       "      <td>-121.371618</td>\n",
       "    </tr>\n",
       "    <tr>\n",
       "      <th>12490</th>\n",
       "      <td>2</td>\n",
       "      <td>1.0</td>\n",
       "      <td>1112.0</td>\n",
       "      <td>9.0</td>\n",
       "      <td>8.0</td>\n",
       "      <td>9.0</td>\n",
       "      <td>49671.0</td>\n",
       "      <td>1089.0</td>\n",
       "      <td>748000.0</td>\n",
       "      <td>33.803886</td>\n",
       "      <td>-118.077243</td>\n",
       "    </tr>\n",
       "  </tbody>\n",
       "</table>\n",
       "<p>12491 rows × 11 columns</p>\n",
       "</div>"
      ],
      "text/plain": [
       "       Bedrooms  Bathrooms  Total interior livable area  \\\n",
       "0             3        2.0                        872.0   \n",
       "1             5        3.0                       2612.0   \n",
       "2             4        2.0                       1579.0   \n",
       "3             6        3.0                       3351.0   \n",
       "4             3        2.0                       2100.0   \n",
       "...         ...        ...                          ...   \n",
       "12486         4        3.0                       2219.0   \n",
       "12487         4        5.0                       4680.0   \n",
       "12488         3        2.0                       1860.0   \n",
       "12489         3        3.0                       2125.0   \n",
       "12490         2        1.0                       1112.0   \n",
       "\n",
       "       Elementary School Score  Middle School Score  High School Score  \\\n",
       "0                          3.0                  2.0                2.0   \n",
       "1                          9.0                  7.0                8.0   \n",
       "2                          7.0                  5.0                6.0   \n",
       "3                          8.0                  7.0                7.0   \n",
       "4                          6.0                  6.0                8.0   \n",
       "...                        ...                  ...                ...   \n",
       "12486                      7.0                  7.0                9.0   \n",
       "12487                      7.0                  5.0                7.0   \n",
       "12488                      7.0                  3.0                7.0   \n",
       "12489                      7.0                  7.0                8.0   \n",
       "12490                      9.0                  8.0                9.0   \n",
       "\n",
       "       Tax assessed value  Annual tax amount  Listed Price        Lat  \\\n",
       "0                505000.0             6253.0      525000.0  34.053691   \n",
       "1               1775000.0            20787.0     1895000.0  34.021122   \n",
       "2                 71347.0              904.0     1428000.0  37.233325   \n",
       "3               2080800.0            25099.0     2250000.0  37.779026   \n",
       "4               1836000.0            21521.0     2390000.0  37.496904   \n",
       "...                   ...                ...           ...        ...   \n",
       "12486            900775.0            12719.0     1224888.0  37.336166   \n",
       "12487           2360150.0            25283.0     2569000.0  33.814754   \n",
       "12488            578000.0             7211.0     2295000.0  34.053691   \n",
       "12489            484696.0             7627.0      499888.0  38.408799   \n",
       "12490             49671.0             1089.0      748000.0  33.803886   \n",
       "\n",
       "             Long  \n",
       "0     -118.242766  \n",
       "1     -118.396466  \n",
       "2     -121.684635  \n",
       "3     -122.419906  \n",
       "4     -122.333057  \n",
       "...           ...  \n",
       "12486 -121.890591  \n",
       "12487 -117.820623  \n",
       "12488 -118.242766  \n",
       "12489 -121.371618  \n",
       "12490 -118.077243  \n",
       "\n",
       "[12491 rows x 11 columns]"
      ]
     },
     "execution_count": 6,
     "metadata": {},
     "output_type": "execute_result"
    }
   ],
   "source": [
    "df = df.drop(columns=[\"Unnamed: 0\", \"City\"])\n",
    "df"
   ]
  },
  {
   "cell_type": "code",
   "execution_count": 7,
   "id": "aa189958",
   "metadata": {},
   "outputs": [
    {
     "data": {
      "text/html": [
       "<div>\n",
       "<style scoped>\n",
       "    .dataframe tbody tr th:only-of-type {\n",
       "        vertical-align: middle;\n",
       "    }\n",
       "\n",
       "    .dataframe tbody tr th {\n",
       "        vertical-align: top;\n",
       "    }\n",
       "\n",
       "    .dataframe thead th {\n",
       "        text-align: right;\n",
       "    }\n",
       "</style>\n",
       "<table border=\"1\" class=\"dataframe\">\n",
       "  <thead>\n",
       "    <tr style=\"text-align: right;\">\n",
       "      <th></th>\n",
       "      <th>Bedrooms</th>\n",
       "      <th>Bathrooms</th>\n",
       "      <th>Total interior livable area</th>\n",
       "      <th>Elementary School Score</th>\n",
       "      <th>Middle School Score</th>\n",
       "      <th>High School Score</th>\n",
       "      <th>Tax assessed value</th>\n",
       "      <th>Annual tax amount</th>\n",
       "      <th>Lat</th>\n",
       "      <th>Long</th>\n",
       "      <th>Listed Price</th>\n",
       "    </tr>\n",
       "  </thead>\n",
       "  <tbody>\n",
       "    <tr>\n",
       "      <th>0</th>\n",
       "      <td>3</td>\n",
       "      <td>2.0</td>\n",
       "      <td>872.0</td>\n",
       "      <td>3.0</td>\n",
       "      <td>2.0</td>\n",
       "      <td>2.0</td>\n",
       "      <td>505000.0</td>\n",
       "      <td>6253.0</td>\n",
       "      <td>34.053691</td>\n",
       "      <td>-118.242766</td>\n",
       "      <td>525000.0</td>\n",
       "    </tr>\n",
       "    <tr>\n",
       "      <th>1</th>\n",
       "      <td>5</td>\n",
       "      <td>3.0</td>\n",
       "      <td>2612.0</td>\n",
       "      <td>9.0</td>\n",
       "      <td>7.0</td>\n",
       "      <td>8.0</td>\n",
       "      <td>1775000.0</td>\n",
       "      <td>20787.0</td>\n",
       "      <td>34.021122</td>\n",
       "      <td>-118.396466</td>\n",
       "      <td>1895000.0</td>\n",
       "    </tr>\n",
       "    <tr>\n",
       "      <th>2</th>\n",
       "      <td>4</td>\n",
       "      <td>2.0</td>\n",
       "      <td>1579.0</td>\n",
       "      <td>7.0</td>\n",
       "      <td>5.0</td>\n",
       "      <td>6.0</td>\n",
       "      <td>71347.0</td>\n",
       "      <td>904.0</td>\n",
       "      <td>37.233325</td>\n",
       "      <td>-121.684635</td>\n",
       "      <td>1428000.0</td>\n",
       "    </tr>\n",
       "    <tr>\n",
       "      <th>3</th>\n",
       "      <td>6</td>\n",
       "      <td>3.0</td>\n",
       "      <td>3351.0</td>\n",
       "      <td>8.0</td>\n",
       "      <td>7.0</td>\n",
       "      <td>7.0</td>\n",
       "      <td>2080800.0</td>\n",
       "      <td>25099.0</td>\n",
       "      <td>37.779026</td>\n",
       "      <td>-122.419906</td>\n",
       "      <td>2250000.0</td>\n",
       "    </tr>\n",
       "    <tr>\n",
       "      <th>4</th>\n",
       "      <td>3</td>\n",
       "      <td>2.0</td>\n",
       "      <td>2100.0</td>\n",
       "      <td>6.0</td>\n",
       "      <td>6.0</td>\n",
       "      <td>8.0</td>\n",
       "      <td>1836000.0</td>\n",
       "      <td>21521.0</td>\n",
       "      <td>37.496904</td>\n",
       "      <td>-122.333057</td>\n",
       "      <td>2390000.0</td>\n",
       "    </tr>\n",
       "    <tr>\n",
       "      <th>...</th>\n",
       "      <td>...</td>\n",
       "      <td>...</td>\n",
       "      <td>...</td>\n",
       "      <td>...</td>\n",
       "      <td>...</td>\n",
       "      <td>...</td>\n",
       "      <td>...</td>\n",
       "      <td>...</td>\n",
       "      <td>...</td>\n",
       "      <td>...</td>\n",
       "      <td>...</td>\n",
       "    </tr>\n",
       "    <tr>\n",
       "      <th>12486</th>\n",
       "      <td>4</td>\n",
       "      <td>3.0</td>\n",
       "      <td>2219.0</td>\n",
       "      <td>7.0</td>\n",
       "      <td>7.0</td>\n",
       "      <td>9.0</td>\n",
       "      <td>900775.0</td>\n",
       "      <td>12719.0</td>\n",
       "      <td>37.336166</td>\n",
       "      <td>-121.890591</td>\n",
       "      <td>1224888.0</td>\n",
       "    </tr>\n",
       "    <tr>\n",
       "      <th>12487</th>\n",
       "      <td>4</td>\n",
       "      <td>5.0</td>\n",
       "      <td>4680.0</td>\n",
       "      <td>7.0</td>\n",
       "      <td>5.0</td>\n",
       "      <td>7.0</td>\n",
       "      <td>2360150.0</td>\n",
       "      <td>25283.0</td>\n",
       "      <td>33.814754</td>\n",
       "      <td>-117.820623</td>\n",
       "      <td>2569000.0</td>\n",
       "    </tr>\n",
       "    <tr>\n",
       "      <th>12488</th>\n",
       "      <td>3</td>\n",
       "      <td>2.0</td>\n",
       "      <td>1860.0</td>\n",
       "      <td>7.0</td>\n",
       "      <td>3.0</td>\n",
       "      <td>7.0</td>\n",
       "      <td>578000.0</td>\n",
       "      <td>7211.0</td>\n",
       "      <td>34.053691</td>\n",
       "      <td>-118.242766</td>\n",
       "      <td>2295000.0</td>\n",
       "    </tr>\n",
       "    <tr>\n",
       "      <th>12489</th>\n",
       "      <td>3</td>\n",
       "      <td>3.0</td>\n",
       "      <td>2125.0</td>\n",
       "      <td>7.0</td>\n",
       "      <td>7.0</td>\n",
       "      <td>8.0</td>\n",
       "      <td>484696.0</td>\n",
       "      <td>7627.0</td>\n",
       "      <td>38.408799</td>\n",
       "      <td>-121.371618</td>\n",
       "      <td>499888.0</td>\n",
       "    </tr>\n",
       "    <tr>\n",
       "      <th>12490</th>\n",
       "      <td>2</td>\n",
       "      <td>1.0</td>\n",
       "      <td>1112.0</td>\n",
       "      <td>9.0</td>\n",
       "      <td>8.0</td>\n",
       "      <td>9.0</td>\n",
       "      <td>49671.0</td>\n",
       "      <td>1089.0</td>\n",
       "      <td>33.803886</td>\n",
       "      <td>-118.077243</td>\n",
       "      <td>748000.0</td>\n",
       "    </tr>\n",
       "  </tbody>\n",
       "</table>\n",
       "<p>12491 rows × 11 columns</p>\n",
       "</div>"
      ],
      "text/plain": [
       "       Bedrooms  Bathrooms  Total interior livable area  \\\n",
       "0             3        2.0                        872.0   \n",
       "1             5        3.0                       2612.0   \n",
       "2             4        2.0                       1579.0   \n",
       "3             6        3.0                       3351.0   \n",
       "4             3        2.0                       2100.0   \n",
       "...         ...        ...                          ...   \n",
       "12486         4        3.0                       2219.0   \n",
       "12487         4        5.0                       4680.0   \n",
       "12488         3        2.0                       1860.0   \n",
       "12489         3        3.0                       2125.0   \n",
       "12490         2        1.0                       1112.0   \n",
       "\n",
       "       Elementary School Score  Middle School Score  High School Score  \\\n",
       "0                          3.0                  2.0                2.0   \n",
       "1                          9.0                  7.0                8.0   \n",
       "2                          7.0                  5.0                6.0   \n",
       "3                          8.0                  7.0                7.0   \n",
       "4                          6.0                  6.0                8.0   \n",
       "...                        ...                  ...                ...   \n",
       "12486                      7.0                  7.0                9.0   \n",
       "12487                      7.0                  5.0                7.0   \n",
       "12488                      7.0                  3.0                7.0   \n",
       "12489                      7.0                  7.0                8.0   \n",
       "12490                      9.0                  8.0                9.0   \n",
       "\n",
       "       Tax assessed value  Annual tax amount        Lat        Long  \\\n",
       "0                505000.0             6253.0  34.053691 -118.242766   \n",
       "1               1775000.0            20787.0  34.021122 -118.396466   \n",
       "2                 71347.0              904.0  37.233325 -121.684635   \n",
       "3               2080800.0            25099.0  37.779026 -122.419906   \n",
       "4               1836000.0            21521.0  37.496904 -122.333057   \n",
       "...                   ...                ...        ...         ...   \n",
       "12486            900775.0            12719.0  37.336166 -121.890591   \n",
       "12487           2360150.0            25283.0  33.814754 -117.820623   \n",
       "12488            578000.0             7211.0  34.053691 -118.242766   \n",
       "12489            484696.0             7627.0  38.408799 -121.371618   \n",
       "12490             49671.0             1089.0  33.803886 -118.077243   \n",
       "\n",
       "       Listed Price  \n",
       "0          525000.0  \n",
       "1         1895000.0  \n",
       "2         1428000.0  \n",
       "3         2250000.0  \n",
       "4         2390000.0  \n",
       "...             ...  \n",
       "12486     1224888.0  \n",
       "12487     2569000.0  \n",
       "12488     2295000.0  \n",
       "12489      499888.0  \n",
       "12490      748000.0  \n",
       "\n",
       "[12491 rows x 11 columns]"
      ]
     },
     "execution_count": 7,
     "metadata": {},
     "output_type": "execute_result"
    }
   ],
   "source": [
    "# moving target variable to end\n",
    "\n",
    "df = df[[col for col in df.columns if col != \"Listed Price\"] + [\"Listed Price\"]]\n",
    "df"
   ]
  },
  {
   "cell_type": "markdown",
   "id": "8ebe2a5a",
   "metadata": {},
   "source": [
    "### Defining X and Y"
   ]
  },
  {
   "cell_type": "code",
   "execution_count": 8,
   "id": "077e47eb",
   "metadata": {},
   "outputs": [],
   "source": [
    "X = df.drop(['Listed Price'], axis=1) \n",
    "y = df[\"Listed Price\"].values # target"
   ]
  },
  {
   "cell_type": "code",
   "execution_count": 9,
   "id": "e16bb9d4",
   "metadata": {},
   "outputs": [],
   "source": [
    "# splitting data\n",
    "\n",
    "X_train, X_test, y_train, y_test = train_test_split(X, y, test_size = 0.2, random_state=5)"
   ]
  },
  {
   "cell_type": "markdown",
   "id": "3e6b5b7d",
   "metadata": {},
   "source": [
    "## Checking Linear Asumptions"
   ]
  },
  {
   "cell_type": "markdown",
   "id": "04d6402d",
   "metadata": {},
   "source": [
    "#### Check 3 of the most crucial assumptions: Linearity, Normality of Error Terms, and Multicollinearity. \n",
    "\n",
    "#### Analyzing linear assumptions lets us know how useful a linear model can be to model our dependent variable. If many assumptions are not met, then we know that the model will not be useful and that accuracy will be low."
   ]
  },
  {
   "cell_type": "markdown",
   "id": "fc6e0bdf",
   "metadata": {},
   "source": [
    "### 1. We test for the first condition by actually fitting a multi-variate linear regression model and testing for accuracy, which is one of the models we are employing. "
   ]
  },
  {
   "cell_type": "markdown",
   "id": "159b6fd2",
   "metadata": {},
   "source": [
    "## Assumption 1: Creating a Linear Model"
   ]
  },
  {
   "cell_type": "code",
   "execution_count": 10,
   "id": "452fe3d4",
   "metadata": {},
   "outputs": [
    {
     "data": {
      "text/html": [
       "<style>#sk-container-id-1 {color: black;background-color: white;}#sk-container-id-1 pre{padding: 0;}#sk-container-id-1 div.sk-toggleable {background-color: white;}#sk-container-id-1 label.sk-toggleable__label {cursor: pointer;display: block;width: 100%;margin-bottom: 0;padding: 0.3em;box-sizing: border-box;text-align: center;}#sk-container-id-1 label.sk-toggleable__label-arrow:before {content: \"▸\";float: left;margin-right: 0.25em;color: #696969;}#sk-container-id-1 label.sk-toggleable__label-arrow:hover:before {color: black;}#sk-container-id-1 div.sk-estimator:hover label.sk-toggleable__label-arrow:before {color: black;}#sk-container-id-1 div.sk-toggleable__content {max-height: 0;max-width: 0;overflow: hidden;text-align: left;background-color: #f0f8ff;}#sk-container-id-1 div.sk-toggleable__content pre {margin: 0.2em;color: black;border-radius: 0.25em;background-color: #f0f8ff;}#sk-container-id-1 input.sk-toggleable__control:checked~div.sk-toggleable__content {max-height: 200px;max-width: 100%;overflow: auto;}#sk-container-id-1 input.sk-toggleable__control:checked~label.sk-toggleable__label-arrow:before {content: \"▾\";}#sk-container-id-1 div.sk-estimator input.sk-toggleable__control:checked~label.sk-toggleable__label {background-color: #d4ebff;}#sk-container-id-1 div.sk-label input.sk-toggleable__control:checked~label.sk-toggleable__label {background-color: #d4ebff;}#sk-container-id-1 input.sk-hidden--visually {border: 0;clip: rect(1px 1px 1px 1px);clip: rect(1px, 1px, 1px, 1px);height: 1px;margin: -1px;overflow: hidden;padding: 0;position: absolute;width: 1px;}#sk-container-id-1 div.sk-estimator {font-family: monospace;background-color: #f0f8ff;border: 1px dotted black;border-radius: 0.25em;box-sizing: border-box;margin-bottom: 0.5em;}#sk-container-id-1 div.sk-estimator:hover {background-color: #d4ebff;}#sk-container-id-1 div.sk-parallel-item::after {content: \"\";width: 100%;border-bottom: 1px solid gray;flex-grow: 1;}#sk-container-id-1 div.sk-label:hover label.sk-toggleable__label {background-color: #d4ebff;}#sk-container-id-1 div.sk-serial::before {content: \"\";position: absolute;border-left: 1px solid gray;box-sizing: border-box;top: 0;bottom: 0;left: 50%;z-index: 0;}#sk-container-id-1 div.sk-serial {display: flex;flex-direction: column;align-items: center;background-color: white;padding-right: 0.2em;padding-left: 0.2em;position: relative;}#sk-container-id-1 div.sk-item {position: relative;z-index: 1;}#sk-container-id-1 div.sk-parallel {display: flex;align-items: stretch;justify-content: center;background-color: white;position: relative;}#sk-container-id-1 div.sk-item::before, #sk-container-id-1 div.sk-parallel-item::before {content: \"\";position: absolute;border-left: 1px solid gray;box-sizing: border-box;top: 0;bottom: 0;left: 50%;z-index: -1;}#sk-container-id-1 div.sk-parallel-item {display: flex;flex-direction: column;z-index: 1;position: relative;background-color: white;}#sk-container-id-1 div.sk-parallel-item:first-child::after {align-self: flex-end;width: 50%;}#sk-container-id-1 div.sk-parallel-item:last-child::after {align-self: flex-start;width: 50%;}#sk-container-id-1 div.sk-parallel-item:only-child::after {width: 0;}#sk-container-id-1 div.sk-dashed-wrapped {border: 1px dashed gray;margin: 0 0.4em 0.5em 0.4em;box-sizing: border-box;padding-bottom: 0.4em;background-color: white;}#sk-container-id-1 div.sk-label label {font-family: monospace;font-weight: bold;display: inline-block;line-height: 1.2em;}#sk-container-id-1 div.sk-label-container {text-align: center;}#sk-container-id-1 div.sk-container {/* jupyter's `normalize.less` sets `[hidden] { display: none; }` but bootstrap.min.css set `[hidden] { display: none !important; }` so we also need the `!important` here to be able to override the default hidden behavior on the sphinx rendered scikit-learn.org. See: https://github.com/scikit-learn/scikit-learn/issues/21755 */display: inline-block !important;position: relative;}#sk-container-id-1 div.sk-text-repr-fallback {display: none;}</style><div id=\"sk-container-id-1\" class=\"sk-top-container\"><div class=\"sk-text-repr-fallback\"><pre>LinearRegression()</pre><b>In a Jupyter environment, please rerun this cell to show the HTML representation or trust the notebook. <br />On GitHub, the HTML representation is unable to render, please try loading this page with nbviewer.org.</b></div><div class=\"sk-container\" hidden><div class=\"sk-item\"><div class=\"sk-estimator sk-toggleable\"><input class=\"sk-toggleable__control sk-hidden--visually\" id=\"sk-estimator-id-1\" type=\"checkbox\" checked><label for=\"sk-estimator-id-1\" class=\"sk-toggleable__label sk-toggleable__label-arrow\">LinearRegression</label><div class=\"sk-toggleable__content\"><pre>LinearRegression()</pre></div></div></div></div></div>"
      ],
      "text/plain": [
       "LinearRegression()"
      ]
     },
     "execution_count": 10,
     "metadata": {},
     "output_type": "execute_result"
    }
   ],
   "source": [
    "from sklearn.linear_model import LinearRegression\n",
    "\n",
    "lr = LinearRegression()\n",
    "lr.fit(X_train, y_train) # linear model\n"
   ]
  },
  {
   "cell_type": "code",
   "execution_count": 11,
   "id": "f007080f",
   "metadata": {
    "scrolled": true
   },
   "outputs": [
    {
     "name": "stdout",
     "output_type": "stream",
     "text": [
      "[1037315.16120537 2383599.22943654  295386.28820364 ...  -21216.7708835\n",
      " 1216016.27939709 2869320.92660592]\n"
     ]
    }
   ],
   "source": [
    "y_pred = lr.predict(X_test) # using linear model to predict y values from test set\n",
    "print(y_pred)"
   ]
  },
  {
   "cell_type": "markdown",
   "id": "86d5469f",
   "metadata": {},
   "source": [
    "#### Test Scores & Accuracy"
   ]
  },
  {
   "cell_type": "code",
   "execution_count": 12,
   "id": "c79b7808",
   "metadata": {
    "scrolled": true
   },
   "outputs": [
    {
     "name": "stdout",
     "output_type": "stream",
     "text": [
      "0.5832277709489465\n",
      "Testing MSE error is: 1130012010107.439\n"
     ]
    }
   ],
   "source": [
    "print(r2_score(y_test, y_pred)) # calculating r-score\n",
    "print(f'Testing MSE error is: {round(mean_squared_error(y_pred, y_test),4)}') # testing MSE"
   ]
  },
  {
   "cell_type": "code",
   "execution_count": 13,
   "id": "af3635fa",
   "metadata": {
    "scrolled": false
   },
   "outputs": [
    {
     "data": {
      "text/plain": [
       "[<matplotlib.lines.Line2D at 0x7fdac263e220>]"
      ]
     },
     "execution_count": 13,
     "metadata": {},
     "output_type": "execute_result"
    },
    {
     "data": {
      "image/png": "[encoded data removed]",
      "text/plain": [
       "<Figure size 720x504 with 1 Axes>"
      ]
     },
     "metadata": {
      "needs_background": "light"
     },
     "output_type": "display_data"
    }
   ],
   "source": [
    "# plot of actual vs predicted\n",
    "\n",
    "import matplotlib.pyplot as plt\n",
    "\n",
    "plt.figure(figsize=(10,7))\n",
    "\n",
    "plt.scatter(y_test, y_pred)\n",
    "plt.xlabel(\"Actual\")\n",
    "plt.ylabel(\"Predicted\")\n",
    "plt.title(\"Actual vs. Predicted\")\n",
    "\n",
    "m,b = np.polyfit(y_test, y_pred,1)\n",
    "plt.plot(y_test, m*y_test+b, color='red')"
   ]
  },
  {
   "cell_type": "markdown",
   "id": "d82c2a75",
   "metadata": {},
   "source": [
    "The plot above depicts the relationship between our test set and their predicted values. Based on the linear regression line, the general trend of data, and r^2 score of ~58%, we can say that our linear model is decent in predicting the listed prices of California houses. The regression score, which is based on 10 variables, gives us an accuracy of approximately 58%. This score is _OK_, but the scatter also indicates some variability. We can try to increase this accuracy score with additional regression techniques."
   ]
  },
  {
   "cell_type": "code",
   "execution_count": 14,
   "id": "e1d64f17",
   "metadata": {
    "scrolled": true
   },
   "outputs": [
    {
     "data": {
      "text/html": [
       "<div>\n",
       "<style scoped>\n",
       "    .dataframe tbody tr th:only-of-type {\n",
       "        vertical-align: middle;\n",
       "    }\n",
       "\n",
       "    .dataframe tbody tr th {\n",
       "        vertical-align: top;\n",
       "    }\n",
       "\n",
       "    .dataframe thead th {\n",
       "        text-align: right;\n",
       "    }\n",
       "</style>\n",
       "<table border=\"1\" class=\"dataframe\">\n",
       "  <thead>\n",
       "    <tr style=\"text-align: right;\">\n",
       "      <th></th>\n",
       "      <th>Actual Value</th>\n",
       "      <th>Predicted Value</th>\n",
       "      <th>Difference</th>\n",
       "    </tr>\n",
       "  </thead>\n",
       "  <tbody>\n",
       "    <tr>\n",
       "      <th>0</th>\n",
       "      <td>915000.0</td>\n",
       "      <td>1.037315e+06</td>\n",
       "      <td>122315.161205</td>\n",
       "    </tr>\n",
       "    <tr>\n",
       "      <th>1</th>\n",
       "      <td>1938000.0</td>\n",
       "      <td>2.383599e+06</td>\n",
       "      <td>445599.229437</td>\n",
       "    </tr>\n",
       "    <tr>\n",
       "      <th>2</th>\n",
       "      <td>750000.0</td>\n",
       "      <td>2.953863e+05</td>\n",
       "      <td>454613.711796</td>\n",
       "    </tr>\n",
       "    <tr>\n",
       "      <th>3</th>\n",
       "      <td>139900.0</td>\n",
       "      <td>3.875663e+04</td>\n",
       "      <td>101143.374519</td>\n",
       "    </tr>\n",
       "    <tr>\n",
       "      <th>4</th>\n",
       "      <td>1899000.0</td>\n",
       "      <td>2.198691e+06</td>\n",
       "      <td>299691.438396</td>\n",
       "    </tr>\n",
       "    <tr>\n",
       "      <th>5</th>\n",
       "      <td>3888000.0</td>\n",
       "      <td>4.353186e+06</td>\n",
       "      <td>465186.175225</td>\n",
       "    </tr>\n",
       "    <tr>\n",
       "      <th>6</th>\n",
       "      <td>1250000.0</td>\n",
       "      <td>9.409407e+05</td>\n",
       "      <td>309059.348916</td>\n",
       "    </tr>\n",
       "    <tr>\n",
       "      <th>7</th>\n",
       "      <td>1111000.0</td>\n",
       "      <td>7.229278e+05</td>\n",
       "      <td>388072.226989</td>\n",
       "    </tr>\n",
       "    <tr>\n",
       "      <th>8</th>\n",
       "      <td>869500.0</td>\n",
       "      <td>1.081211e+06</td>\n",
       "      <td>211710.846863</td>\n",
       "    </tr>\n",
       "    <tr>\n",
       "      <th>9</th>\n",
       "      <td>2348000.0</td>\n",
       "      <td>1.966964e+06</td>\n",
       "      <td>381035.522972</td>\n",
       "    </tr>\n",
       "  </tbody>\n",
       "</table>\n",
       "</div>"
      ],
      "text/plain": [
       "   Actual Value  Predicted Value     Difference\n",
       "0      915000.0     1.037315e+06  122315.161205\n",
       "1     1938000.0     2.383599e+06  445599.229437\n",
       "2      750000.0     2.953863e+05  454613.711796\n",
       "3      139900.0     3.875663e+04  101143.374519\n",
       "4     1899000.0     2.198691e+06  299691.438396\n",
       "5     3888000.0     4.353186e+06  465186.175225\n",
       "6     1250000.0     9.409407e+05  309059.348916\n",
       "7     1111000.0     7.229278e+05  388072.226989\n",
       "8      869500.0     1.081211e+06  211710.846863\n",
       "9     2348000.0     1.966964e+06  381035.522972"
      ]
     },
     "execution_count": 14,
     "metadata": {},
     "output_type": "execute_result"
    }
   ],
   "source": [
    "pred_y_df = pd.DataFrame({\"Actual Value\": y_test, \"Predicted Value\": y_pred, \"Difference\": abs(y_test - y_pred)})\n",
    "\n",
    "pred_y_df[0:10]"
   ]
  },
  {
   "cell_type": "markdown",
   "id": "2f192a75",
   "metadata": {},
   "source": [
    "The table above shows us our actual value (`y_test` values) against their predictions based on the model (`y_pred`). We also look at their differences, which seems to vary quite a bit. The difference is large, but this is somewhat expected due to house listing prices being high to begin with."
   ]
  },
  {
   "cell_type": "markdown",
   "id": "81e37c89",
   "metadata": {},
   "source": [
    "#### Testing Our Model on Real Data"
   ]
  },
  {
   "cell_type": "code",
   "execution_count": 15,
   "id": "fcb1f838",
   "metadata": {
    "scrolled": true
   },
   "outputs": [
    {
     "data": {
      "text/plain": [
       "[3.0, 2.0, 872.0, 3.0, 2.0, 2.0, 505000.0, 6253.0, 34.0536909, -118.242766]"
      ]
     },
     "execution_count": 15,
     "metadata": {},
     "output_type": "execute_result"
    }
   ],
   "source": [
    "test_random = df.drop(\"Listed Price\",axis=1).iloc[0].tolist()\n",
    "test_random"
   ]
  },
  {
   "cell_type": "code",
   "execution_count": 16,
   "id": "98037960",
   "metadata": {
    "scrolled": true
   },
   "outputs": [],
   "source": [
    "test_result = lr.predict([test_random])"
   ]
  },
  {
   "cell_type": "code",
   "execution_count": 17,
   "id": "abf27ffc",
   "metadata": {},
   "outputs": [],
   "source": [
    "nums = list(range(0,2499)) # one data point for each test set listed house price"
   ]
  },
  {
   "cell_type": "code",
   "execution_count": 18,
   "id": "ae67e439",
   "metadata": {},
   "outputs": [
    {
     "data": {
      "text/plain": [
       "array([150688.16333066])"
      ]
     },
     "execution_count": 18,
     "metadata": {},
     "output_type": "execute_result"
    }
   ],
   "source": [
    "test_result"
   ]
  },
  {
   "cell_type": "code",
   "execution_count": 19,
   "id": "b45ee318",
   "metadata": {},
   "outputs": [
    {
     "data": {
      "image/png": "[encoded data removed]",
      "text/plain": [
       "<Figure size 720x504 with 1 Axes>"
      ]
     },
     "metadata": {
      "needs_background": "light"
     },
     "output_type": "display_data"
    }
   ],
   "source": [
    "plt.figure(figsize=(10,7))\n",
    "\n",
    "plt.scatter(nums,pred_y_df[\"Actual Value\"], color=\"blue\")\n",
    "plt.scatter(nums,pred_y_df[\"Predicted Value\"], color=\"red\")\n",
    "\n",
    "plt.xlabel(\"Data Point\")\n",
    "plt.ylabel(\"Listed House Price Value\")\n",
    "plt.title(\"Data Point vs. Listed House Price\")\n",
    "plt.legend(['Data Point', 'Listed House Price'])\n",
    "\n",
    "plt.show()"
   ]
  },
  {
   "cell_type": "markdown",
   "id": "0a117ba9",
   "metadata": {},
   "source": [
    "#### Comparing Prediction Price to Actual Price"
   ]
  },
  {
   "cell_type": "code",
   "execution_count": 20,
   "id": "e08340b1",
   "metadata": {},
   "outputs": [
    {
     "data": {
      "text/plain": [
       "array([374311.83666934])"
      ]
     },
     "execution_count": 20,
     "metadata": {},
     "output_type": "execute_result"
    }
   ],
   "source": [
    "df[\"Listed Price\"][0] - test_result"
   ]
  },
  {
   "cell_type": "markdown",
   "id": "8ae57d03",
   "metadata": {},
   "source": [
    "By calculating the difference between our predicted price and actual price, we can see how accurate our model is. Here, we see that the difference is roughly $374K."
   ]
  },
  {
   "cell_type": "markdown",
   "id": "55e7e2d0",
   "metadata": {},
   "source": [
    "## Assumption 2: Normality of Error Terms"
   ]
  },
  {
   "cell_type": "markdown",
   "id": "1212ae2e",
   "metadata": {},
   "source": [
    "### Functions cited from: https://jeffmacaluso.github.io/post/LinearRegressionAssumptions/"
   ]
  },
  {
   "cell_type": "code",
   "execution_count": 21,
   "id": "adf9aca9",
   "metadata": {},
   "outputs": [],
   "source": [
    "# function to calculate residuals\n",
    "\n",
    "def calculate_residuals(model, features, label):\n",
    "    \n",
    "    predictions = model.predict(features)\n",
    "    df_results = pd.DataFrame({'Actual': label, 'Predicted': predictions})\n",
    "    df_results['Residuals'] = abs(df_results['Actual']) - abs(df_results['Predicted'])\n",
    "    \n",
    "    return df_results"
   ]
  },
  {
   "cell_type": "code",
   "execution_count": 22,
   "id": "8376d9f4",
   "metadata": {},
   "outputs": [
    {
     "name": "stdout",
     "output_type": "stream",
     "text": [
      "p-value from the test - below 0.05 indicates non-normal: 0.0\n",
      "Residuals are not normally distributed\n"
     ]
    },
    {
     "data": {
      "image/png": "[encoded data removed]",
      "text/plain": [
       "<Figure size 720x504 with 1 Axes>"
      ]
     },
     "metadata": {
      "needs_background": "light"
     },
     "output_type": "display_data"
    },
    {
     "name": "stdout",
     "output_type": "stream",
     "text": [
      "\n",
      "Assumption not satisfied!\n",
      "\n"
     ]
    }
   ],
   "source": [
    "# function that checks residuals and looks at distribution of errors\n",
    "\n",
    "import seaborn as sns\n",
    "from statsmodels.stats.diagnostic import normal_ad\n",
    "\n",
    "def normal_errors_assumption(model, features, label, p_value_thresh=0.05):\n",
    " \n",
    "    # Calculating residuals for the Anderson-Darling test\n",
    "    df_results = calculate_residuals(model, features, label)\n",
    "\n",
    "    # Performing the test on the residuals\n",
    "    p_value = normal_ad(df_results['Residuals'])[1]\n",
    "    print('p-value from the test - below 0.05 indicates non-normal:', p_value) # very low p-value\n",
    "    \n",
    "    # Reporting the normality of the residuals\n",
    "    if p_value < p_value_thresh:\n",
    "        print('Residuals are not normally distributed')\n",
    "    else:\n",
    "        print('Residuals are normally distributed')\n",
    "    \n",
    "    # Plotting the residuals distribution\n",
    "    plt.subplots(figsize=(10, 7))\n",
    "    plt.title('Distribution of Residuals')\n",
    "    sns.distplot(df_results['Residuals'])\n",
    "    plt.show()\n",
    "    \n",
    "    print()\n",
    "    if p_value > p_value_thresh:\n",
    "        print('Assumption satisfied!')\n",
    "    else:\n",
    "        print('Assumption not satisfied!')\n",
    "        print()\n",
    "        \n",
    "normal_errors_assumption(lr, X, y)"
   ]
  },
  {
   "cell_type": "markdown",
   "id": "5fb6f1af",
   "metadata": {},
   "source": [
    "## Multicollinearity Check"
   ]
  },
  {
   "cell_type": "markdown",
   "id": "063b5139",
   "metadata": {},
   "source": [
    "### Functions cited from: https://www.analyticsvidhya.com/blog/2020/03/what-is-multicollinearity/"
   ]
  },
  {
   "cell_type": "markdown",
   "id": "2c67b1a1",
   "metadata": {},
   "source": [
    "If there are existing correlations within the predictor variables, we cannot say (without bias) that the target variable is being predicted accurately. Therefore, we can run a multicollinearity check on our numerical variables using the `VIF` library."
   ]
  },
  {
   "cell_type": "code",
   "execution_count": 23,
   "id": "995c87b8",
   "metadata": {
    "scrolled": true
   },
   "outputs": [
    {
     "data": {
      "text/html": [
       "<div>\n",
       "<style scoped>\n",
       "    .dataframe tbody tr th:only-of-type {\n",
       "        vertical-align: middle;\n",
       "    }\n",
       "\n",
       "    .dataframe tbody tr th {\n",
       "        vertical-align: top;\n",
       "    }\n",
       "\n",
       "    .dataframe thead th {\n",
       "        text-align: right;\n",
       "    }\n",
       "</style>\n",
       "<table border=\"1\" class=\"dataframe\">\n",
       "  <thead>\n",
       "    <tr style=\"text-align: right;\">\n",
       "      <th></th>\n",
       "      <th>variables</th>\n",
       "      <th>VIF</th>\n",
       "    </tr>\n",
       "  </thead>\n",
       "  <tbody>\n",
       "    <tr>\n",
       "      <th>0</th>\n",
       "      <td>Bedrooms</td>\n",
       "      <td>25.141863</td>\n",
       "    </tr>\n",
       "    <tr>\n",
       "      <th>1</th>\n",
       "      <td>Bathrooms</td>\n",
       "      <td>18.677506</td>\n",
       "    </tr>\n",
       "    <tr>\n",
       "      <th>2</th>\n",
       "      <td>Total interior livable area</td>\n",
       "      <td>16.967281</td>\n",
       "    </tr>\n",
       "    <tr>\n",
       "      <th>3</th>\n",
       "      <td>Elementary School Score</td>\n",
       "      <td>15.795502</td>\n",
       "    </tr>\n",
       "    <tr>\n",
       "      <th>4</th>\n",
       "      <td>Middle School Score</td>\n",
       "      <td>17.641309</td>\n",
       "    </tr>\n",
       "    <tr>\n",
       "      <th>5</th>\n",
       "      <td>High School Score</td>\n",
       "      <td>22.022347</td>\n",
       "    </tr>\n",
       "    <tr>\n",
       "      <th>6</th>\n",
       "      <td>Tax assessed value</td>\n",
       "      <td>113.698171</td>\n",
       "    </tr>\n",
       "    <tr>\n",
       "      <th>7</th>\n",
       "      <td>Annual tax amount</td>\n",
       "      <td>118.724789</td>\n",
       "    </tr>\n",
       "    <tr>\n",
       "      <th>8</th>\n",
       "      <td>Lat</td>\n",
       "      <td>1044.244869</td>\n",
       "    </tr>\n",
       "    <tr>\n",
       "      <th>9</th>\n",
       "      <td>Long</td>\n",
       "      <td>1031.373588</td>\n",
       "    </tr>\n",
       "  </tbody>\n",
       "</table>\n",
       "</div>"
      ],
      "text/plain": [
       "                     variables          VIF\n",
       "0                     Bedrooms    25.141863\n",
       "1                    Bathrooms    18.677506\n",
       "2  Total interior livable area    16.967281\n",
       "3      Elementary School Score    15.795502\n",
       "4          Middle School Score    17.641309\n",
       "5            High School Score    22.022347\n",
       "6           Tax assessed value   113.698171\n",
       "7            Annual tax amount   118.724789\n",
       "8                          Lat  1044.244869\n",
       "9                         Long  1031.373588"
      ]
     },
     "execution_count": 23,
     "metadata": {},
     "output_type": "execute_result"
    }
   ],
   "source": [
    "# Import library for VIF\n",
    "from statsmodels.stats.outliers_influence import variance_inflation_factor\n",
    "\n",
    "\n",
    "# function to calculate VIF\n",
    "def calc_vif(X):\n",
    "\n",
    "    # Calculating VIF\n",
    "    vif = pd.DataFrame()\n",
    "    vif[\"variables\"] = X.columns\n",
    "    vif[\"VIF\"] = [variance_inflation_factor(X.values, i) for i in range(X.shape[1])]\n",
    "\n",
    "    return(vif)\n",
    "\n",
    "X = df.iloc[:,:-1]\n",
    "calc_vif(X)"
   ]
  },
  {
   "cell_type": "markdown",
   "id": "e32dd011",
   "metadata": {},
   "source": [
    "Looking at all the variables, we can see that many variables are highly correlated with each other. This can produce a major problem for our multiple polynomial model, as we may not be able to recognize which variables are responsible for the output variable."
   ]
  },
  {
   "cell_type": "markdown",
   "id": "49c2557e",
   "metadata": {},
   "source": [
    "However, we can combine the correlated variables and drop the others to predict \"Listed Price\" in future models. This not only produces a cleaner dataset, but can perhaps provide us with a more reliable model."
   ]
  },
  {
   "cell_type": "code",
   "execution_count": 24,
   "id": "90608162",
   "metadata": {},
   "outputs": [
    {
     "data": {
      "text/html": [
       "<div>\n",
       "<style scoped>\n",
       "    .dataframe tbody tr th:only-of-type {\n",
       "        vertical-align: middle;\n",
       "    }\n",
       "\n",
       "    .dataframe tbody tr th {\n",
       "        vertical-align: top;\n",
       "    }\n",
       "\n",
       "    .dataframe thead th {\n",
       "        text-align: right;\n",
       "    }\n",
       "</style>\n",
       "<table border=\"1\" class=\"dataframe\">\n",
       "  <thead>\n",
       "    <tr style=\"text-align: right;\">\n",
       "      <th></th>\n",
       "      <th>variables</th>\n",
       "      <th>VIF</th>\n",
       "    </tr>\n",
       "  </thead>\n",
       "  <tbody>\n",
       "    <tr>\n",
       "      <th>0</th>\n",
       "      <td>Total interior livable area</td>\n",
       "      <td>6.517500</td>\n",
       "    </tr>\n",
       "    <tr>\n",
       "      <th>1</th>\n",
       "      <td>Bedrooms_Bathrooms</td>\n",
       "      <td>1.977335</td>\n",
       "    </tr>\n",
       "    <tr>\n",
       "      <th>2</th>\n",
       "      <td>School_Score</td>\n",
       "      <td>5.817968</td>\n",
       "    </tr>\n",
       "    <tr>\n",
       "      <th>3</th>\n",
       "      <td>Tax_value</td>\n",
       "      <td>2.846175</td>\n",
       "    </tr>\n",
       "  </tbody>\n",
       "</table>\n",
       "</div>"
      ],
      "text/plain": [
       "                     variables       VIF\n",
       "0  Total interior livable area  6.517500\n",
       "1           Bedrooms_Bathrooms  1.977335\n",
       "2                 School_Score  5.817968\n",
       "3                    Tax_value  2.846175"
      ]
     },
     "execution_count": 24,
     "metadata": {},
     "output_type": "execute_result"
    }
   ],
   "source": [
    "# new dataset with combined variables\n",
    "\n",
    "df2 = df.copy()\n",
    "df2['Bedrooms_Bathrooms'] = df.apply(lambda x: x['Bedrooms'] - x['Bathrooms'],axis=1)\n",
    "\n",
    "df2['School_Score'] = df.apply(lambda x: (x['Elementary School Score'] + x['Middle School Score'] +\n",
    "                                                                          x['High School Score'])/3,axis=1)\n",
    "\n",
    "df2['Tax_value'] = df.apply(lambda x: x['Tax assessed value'] - x['Annual tax amount'],axis=1)\n",
    "\n",
    "\n",
    "X = df2.drop(['Listed Price','Bedrooms','Bathrooms', 'Elementary School Score', 'Middle School Score',\n",
    "             'High School Score', 'Tax assessed value', 'Annual tax amount', \"Lat\", \"Long\"],axis=1)\n",
    "calc_vif(X)"
   ]
  },
  {
   "cell_type": "markdown",
   "id": "a26bcce0",
   "metadata": {},
   "source": [
    "Using these refined variables, we can test to see whether or not the new dataset has a positive impact on the linear regression model and accuracy score."
   ]
  },
  {
   "cell_type": "code",
   "execution_count": 25,
   "id": "fe607c51",
   "metadata": {},
   "outputs": [
    {
     "data": {
      "text/html": [
       "<div>\n",
       "<style scoped>\n",
       "    .dataframe tbody tr th:only-of-type {\n",
       "        vertical-align: middle;\n",
       "    }\n",
       "\n",
       "    .dataframe tbody tr th {\n",
       "        vertical-align: top;\n",
       "    }\n",
       "\n",
       "    .dataframe thead th {\n",
       "        text-align: right;\n",
       "    }\n",
       "</style>\n",
       "<table border=\"1\" class=\"dataframe\">\n",
       "  <thead>\n",
       "    <tr style=\"text-align: right;\">\n",
       "      <th></th>\n",
       "      <th>Total interior livable area</th>\n",
       "      <th>Bedrooms_Bathrooms</th>\n",
       "      <th>School_Score</th>\n",
       "      <th>Tax_value</th>\n",
       "      <th>Lat</th>\n",
       "      <th>Long</th>\n",
       "      <th>Listed Price</th>\n",
       "    </tr>\n",
       "  </thead>\n",
       "  <tbody>\n",
       "    <tr>\n",
       "      <th>0</th>\n",
       "      <td>872.0</td>\n",
       "      <td>1.0</td>\n",
       "      <td>2.333333</td>\n",
       "      <td>498747.0</td>\n",
       "      <td>34.053691</td>\n",
       "      <td>-118.242766</td>\n",
       "      <td>525000.0</td>\n",
       "    </tr>\n",
       "    <tr>\n",
       "      <th>1</th>\n",
       "      <td>2612.0</td>\n",
       "      <td>2.0</td>\n",
       "      <td>8.000000</td>\n",
       "      <td>1754213.0</td>\n",
       "      <td>34.021122</td>\n",
       "      <td>-118.396466</td>\n",
       "      <td>1895000.0</td>\n",
       "    </tr>\n",
       "    <tr>\n",
       "      <th>2</th>\n",
       "      <td>1579.0</td>\n",
       "      <td>2.0</td>\n",
       "      <td>6.000000</td>\n",
       "      <td>70443.0</td>\n",
       "      <td>37.233325</td>\n",
       "      <td>-121.684635</td>\n",
       "      <td>1428000.0</td>\n",
       "    </tr>\n",
       "    <tr>\n",
       "      <th>3</th>\n",
       "      <td>3351.0</td>\n",
       "      <td>3.0</td>\n",
       "      <td>7.333333</td>\n",
       "      <td>2055701.0</td>\n",
       "      <td>37.779026</td>\n",
       "      <td>-122.419906</td>\n",
       "      <td>2250000.0</td>\n",
       "    </tr>\n",
       "    <tr>\n",
       "      <th>4</th>\n",
       "      <td>2100.0</td>\n",
       "      <td>1.0</td>\n",
       "      <td>6.666667</td>\n",
       "      <td>1814479.0</td>\n",
       "      <td>37.496904</td>\n",
       "      <td>-122.333057</td>\n",
       "      <td>2390000.0</td>\n",
       "    </tr>\n",
       "    <tr>\n",
       "      <th>...</th>\n",
       "      <td>...</td>\n",
       "      <td>...</td>\n",
       "      <td>...</td>\n",
       "      <td>...</td>\n",
       "      <td>...</td>\n",
       "      <td>...</td>\n",
       "      <td>...</td>\n",
       "    </tr>\n",
       "    <tr>\n",
       "      <th>12486</th>\n",
       "      <td>2219.0</td>\n",
       "      <td>1.0</td>\n",
       "      <td>7.666667</td>\n",
       "      <td>888056.0</td>\n",
       "      <td>37.336166</td>\n",
       "      <td>-121.890591</td>\n",
       "      <td>1224888.0</td>\n",
       "    </tr>\n",
       "    <tr>\n",
       "      <th>12487</th>\n",
       "      <td>4680.0</td>\n",
       "      <td>-1.0</td>\n",
       "      <td>6.333333</td>\n",
       "      <td>2334867.0</td>\n",
       "      <td>33.814754</td>\n",
       "      <td>-117.820623</td>\n",
       "      <td>2569000.0</td>\n",
       "    </tr>\n",
       "    <tr>\n",
       "      <th>12488</th>\n",
       "      <td>1860.0</td>\n",
       "      <td>1.0</td>\n",
       "      <td>5.666667</td>\n",
       "      <td>570789.0</td>\n",
       "      <td>34.053691</td>\n",
       "      <td>-118.242766</td>\n",
       "      <td>2295000.0</td>\n",
       "    </tr>\n",
       "    <tr>\n",
       "      <th>12489</th>\n",
       "      <td>2125.0</td>\n",
       "      <td>0.0</td>\n",
       "      <td>7.333333</td>\n",
       "      <td>477069.0</td>\n",
       "      <td>38.408799</td>\n",
       "      <td>-121.371618</td>\n",
       "      <td>499888.0</td>\n",
       "    </tr>\n",
       "    <tr>\n",
       "      <th>12490</th>\n",
       "      <td>1112.0</td>\n",
       "      <td>1.0</td>\n",
       "      <td>8.666667</td>\n",
       "      <td>48582.0</td>\n",
       "      <td>33.803886</td>\n",
       "      <td>-118.077243</td>\n",
       "      <td>748000.0</td>\n",
       "    </tr>\n",
       "  </tbody>\n",
       "</table>\n",
       "<p>12491 rows × 7 columns</p>\n",
       "</div>"
      ],
      "text/plain": [
       "       Total interior livable area  Bedrooms_Bathrooms  School_Score  \\\n",
       "0                            872.0                 1.0      2.333333   \n",
       "1                           2612.0                 2.0      8.000000   \n",
       "2                           1579.0                 2.0      6.000000   \n",
       "3                           3351.0                 3.0      7.333333   \n",
       "4                           2100.0                 1.0      6.666667   \n",
       "...                            ...                 ...           ...   \n",
       "12486                       2219.0                 1.0      7.666667   \n",
       "12487                       4680.0                -1.0      6.333333   \n",
       "12488                       1860.0                 1.0      5.666667   \n",
       "12489                       2125.0                 0.0      7.333333   \n",
       "12490                       1112.0                 1.0      8.666667   \n",
       "\n",
       "       Tax_value        Lat        Long  Listed Price  \n",
       "0       498747.0  34.053691 -118.242766      525000.0  \n",
       "1      1754213.0  34.021122 -118.396466     1895000.0  \n",
       "2        70443.0  37.233325 -121.684635     1428000.0  \n",
       "3      2055701.0  37.779026 -122.419906     2250000.0  \n",
       "4      1814479.0  37.496904 -122.333057     2390000.0  \n",
       "...          ...        ...         ...           ...  \n",
       "12486   888056.0  37.336166 -121.890591     1224888.0  \n",
       "12487  2334867.0  33.814754 -117.820623     2569000.0  \n",
       "12488   570789.0  34.053691 -118.242766     2295000.0  \n",
       "12489   477069.0  38.408799 -121.371618      499888.0  \n",
       "12490    48582.0  33.803886 -118.077243      748000.0  \n",
       "\n",
       "[12491 rows x 7 columns]"
      ]
     },
     "execution_count": 25,
     "metadata": {},
     "output_type": "execute_result"
    }
   ],
   "source": [
    "df2 = df2[['Total interior livable area', 'Bedrooms_Bathrooms', 'School_Score', 'Tax_value',\"Lat\", \"Long\",\n",
    "           \"Listed Price\"]]\n",
    "df2"
   ]
  },
  {
   "cell_type": "code",
   "execution_count": 26,
   "id": "96b9dea9",
   "metadata": {},
   "outputs": [],
   "source": [
    "X = df2.drop(['Listed Price'], axis=1)\n",
    "y = df2[\"Listed Price\"].values"
   ]
  },
  {
   "cell_type": "markdown",
   "id": "fb6fb29d",
   "metadata": {},
   "source": [
    "We can now use this edited dataframe to rerun our linear regression and see how that changes our scores and accuracy."
   ]
  },
  {
   "cell_type": "code",
   "execution_count": 27,
   "id": "525d6c35",
   "metadata": {},
   "outputs": [],
   "source": [
    "X_train, X_test, y_train, y_test = train_test_split(X, y, test_size = 0.4, random_state=5) # new test size "
   ]
  },
  {
   "cell_type": "code",
   "execution_count": 28,
   "id": "762db129",
   "metadata": {},
   "outputs": [
    {
     "data": {
      "text/html": [
       "<style>#sk-container-id-2 {color: black;background-color: white;}#sk-container-id-2 pre{padding: 0;}#sk-container-id-2 div.sk-toggleable {background-color: white;}#sk-container-id-2 label.sk-toggleable__label {cursor: pointer;display: block;width: 100%;margin-bottom: 0;padding: 0.3em;box-sizing: border-box;text-align: center;}#sk-container-id-2 label.sk-toggleable__label-arrow:before {content: \"▸\";float: left;margin-right: 0.25em;color: #696969;}#sk-container-id-2 label.sk-toggleable__label-arrow:hover:before {color: black;}#sk-container-id-2 div.sk-estimator:hover label.sk-toggleable__label-arrow:before {color: black;}#sk-container-id-2 div.sk-toggleable__content {max-height: 0;max-width: 0;overflow: hidden;text-align: left;background-color: #f0f8ff;}#sk-container-id-2 div.sk-toggleable__content pre {margin: 0.2em;color: black;border-radius: 0.25em;background-color: #f0f8ff;}#sk-container-id-2 input.sk-toggleable__control:checked~div.sk-toggleable__content {max-height: 200px;max-width: 100%;overflow: auto;}#sk-container-id-2 input.sk-toggleable__control:checked~label.sk-toggleable__label-arrow:before {content: \"▾\";}#sk-container-id-2 div.sk-estimator input.sk-toggleable__control:checked~label.sk-toggleable__label {background-color: #d4ebff;}#sk-container-id-2 div.sk-label input.sk-toggleable__control:checked~label.sk-toggleable__label {background-color: #d4ebff;}#sk-container-id-2 input.sk-hidden--visually {border: 0;clip: rect(1px 1px 1px 1px);clip: rect(1px, 1px, 1px, 1px);height: 1px;margin: -1px;overflow: hidden;padding: 0;position: absolute;width: 1px;}#sk-container-id-2 div.sk-estimator {font-family: monospace;background-color: #f0f8ff;border: 1px dotted black;border-radius: 0.25em;box-sizing: border-box;margin-bottom: 0.5em;}#sk-container-id-2 div.sk-estimator:hover {background-color: #d4ebff;}#sk-container-id-2 div.sk-parallel-item::after {content: \"\";width: 100%;border-bottom: 1px solid gray;flex-grow: 1;}#sk-container-id-2 div.sk-label:hover label.sk-toggleable__label {background-color: #d4ebff;}#sk-container-id-2 div.sk-serial::before {content: \"\";position: absolute;border-left: 1px solid gray;box-sizing: border-box;top: 0;bottom: 0;left: 50%;z-index: 0;}#sk-container-id-2 div.sk-serial {display: flex;flex-direction: column;align-items: center;background-color: white;padding-right: 0.2em;padding-left: 0.2em;position: relative;}#sk-container-id-2 div.sk-item {position: relative;z-index: 1;}#sk-container-id-2 div.sk-parallel {display: flex;align-items: stretch;justify-content: center;background-color: white;position: relative;}#sk-container-id-2 div.sk-item::before, #sk-container-id-2 div.sk-parallel-item::before {content: \"\";position: absolute;border-left: 1px solid gray;box-sizing: border-box;top: 0;bottom: 0;left: 50%;z-index: -1;}#sk-container-id-2 div.sk-parallel-item {display: flex;flex-direction: column;z-index: 1;position: relative;background-color: white;}#sk-container-id-2 div.sk-parallel-item:first-child::after {align-self: flex-end;width: 50%;}#sk-container-id-2 div.sk-parallel-item:last-child::after {align-self: flex-start;width: 50%;}#sk-container-id-2 div.sk-parallel-item:only-child::after {width: 0;}#sk-container-id-2 div.sk-dashed-wrapped {border: 1px dashed gray;margin: 0 0.4em 0.5em 0.4em;box-sizing: border-box;padding-bottom: 0.4em;background-color: white;}#sk-container-id-2 div.sk-label label {font-family: monospace;font-weight: bold;display: inline-block;line-height: 1.2em;}#sk-container-id-2 div.sk-label-container {text-align: center;}#sk-container-id-2 div.sk-container {/* jupyter's `normalize.less` sets `[hidden] { display: none; }` but bootstrap.min.css set `[hidden] { display: none !important; }` so we also need the `!important` here to be able to override the default hidden behavior on the sphinx rendered scikit-learn.org. See: https://github.com/scikit-learn/scikit-learn/issues/21755 */display: inline-block !important;position: relative;}#sk-container-id-2 div.sk-text-repr-fallback {display: none;}</style><div id=\"sk-container-id-2\" class=\"sk-top-container\"><div class=\"sk-text-repr-fallback\"><pre>LinearRegression()</pre><b>In a Jupyter environment, please rerun this cell to show the HTML representation or trust the notebook. <br />On GitHub, the HTML representation is unable to render, please try loading this page with nbviewer.org.</b></div><div class=\"sk-container\" hidden><div class=\"sk-item\"><div class=\"sk-estimator sk-toggleable\"><input class=\"sk-toggleable__control sk-hidden--visually\" id=\"sk-estimator-id-2\" type=\"checkbox\" checked><label for=\"sk-estimator-id-2\" class=\"sk-toggleable__label sk-toggleable__label-arrow\">LinearRegression</label><div class=\"sk-toggleable__content\"><pre>LinearRegression()</pre></div></div></div></div></div>"
      ],
      "text/plain": [
       "LinearRegression()"
      ]
     },
     "execution_count": 28,
     "metadata": {},
     "output_type": "execute_result"
    }
   ],
   "source": [
    "lr = LinearRegression()\n",
    "lr.fit(X_train, y_train) # rerun regression"
   ]
  },
  {
   "cell_type": "code",
   "execution_count": 29,
   "id": "1e924c3b",
   "metadata": {},
   "outputs": [],
   "source": [
    "y_pred = lr.predict(X_test) # using linear model to predict y values from test set\n",
    "#print(y_pred)"
   ]
  },
  {
   "cell_type": "code",
   "execution_count": 30,
   "id": "4dd4f258",
   "metadata": {},
   "outputs": [
    {
     "data": {
      "text/plain": [
       "[<matplotlib.lines.Line2D at 0x7fdac4bb2e20>]"
      ]
     },
     "execution_count": 30,
     "metadata": {},
     "output_type": "execute_result"
    },
    {
     "data": {
      "image/png": "[encoded data removed]",
      "text/plain": [
       "<Figure size 720x504 with 1 Axes>"
      ]
     },
     "metadata": {
      "needs_background": "light"
     },
     "output_type": "display_data"
    }
   ],
   "source": [
    "# plot actual vs. predicted\n",
    "\n",
    "plt.figure(figsize=(10,7))\n",
    "\n",
    "plt.scatter(y_test, y_pred)\n",
    "plt.xlabel(\"Actual\")\n",
    "plt.ylabel(\"Predicted\")\n",
    "plt.title(\"Actual vs. Predicted\")\n",
    "\n",
    "m,b = np.polyfit(y_test, y_pred,1)\n",
    "plt.plot(y_test, m*y_test+b, color='red')"
   ]
  },
  {
   "cell_type": "code",
   "execution_count": 31,
   "id": "9dfe0d57",
   "metadata": {
    "scrolled": true
   },
   "outputs": [
    {
     "name": "stdout",
     "output_type": "stream",
     "text": [
      "0.6383750021459081\n",
      "Testing MSE error is: 853101729719.8976\n"
     ]
    }
   ],
   "source": [
    "print(r2_score(y_test, y_pred)) # calculating NEW r-score\n",
    "print(f'Testing MSE error is: {round(mean_squared_error(y_pred, y_test),4)}') # testing MSE"
   ]
  },
  {
   "cell_type": "code",
   "execution_count": 32,
   "id": "2287e4b5",
   "metadata": {
    "scrolled": true
   },
   "outputs": [
    {
     "data": {
      "text/html": [
       "<div>\n",
       "<style scoped>\n",
       "    .dataframe tbody tr th:only-of-type {\n",
       "        vertical-align: middle;\n",
       "    }\n",
       "\n",
       "    .dataframe tbody tr th {\n",
       "        vertical-align: top;\n",
       "    }\n",
       "\n",
       "    .dataframe thead th {\n",
       "        text-align: right;\n",
       "    }\n",
       "</style>\n",
       "<table border=\"1\" class=\"dataframe\">\n",
       "  <thead>\n",
       "    <tr style=\"text-align: right;\">\n",
       "      <th></th>\n",
       "      <th>Actual Value</th>\n",
       "      <th>Predicted Value</th>\n",
       "      <th>Residual Difference</th>\n",
       "    </tr>\n",
       "  </thead>\n",
       "  <tbody>\n",
       "    <tr>\n",
       "      <th>0</th>\n",
       "      <td>915000.0</td>\n",
       "      <td>1.018500e+06</td>\n",
       "      <td>103499.916798</td>\n",
       "    </tr>\n",
       "    <tr>\n",
       "      <th>1</th>\n",
       "      <td>1938000.0</td>\n",
       "      <td>2.506262e+06</td>\n",
       "      <td>568262.237815</td>\n",
       "    </tr>\n",
       "    <tr>\n",
       "      <th>2</th>\n",
       "      <td>750000.0</td>\n",
       "      <td>4.010147e+05</td>\n",
       "      <td>348985.294996</td>\n",
       "    </tr>\n",
       "    <tr>\n",
       "      <th>3</th>\n",
       "      <td>139900.0</td>\n",
       "      <td>-1.554112e+05</td>\n",
       "      <td>295311.180079</td>\n",
       "    </tr>\n",
       "    <tr>\n",
       "      <th>4</th>\n",
       "      <td>1899000.0</td>\n",
       "      <td>2.380688e+06</td>\n",
       "      <td>481688.304955</td>\n",
       "    </tr>\n",
       "    <tr>\n",
       "      <th>5</th>\n",
       "      <td>3888000.0</td>\n",
       "      <td>4.407490e+06</td>\n",
       "      <td>519490.366235</td>\n",
       "    </tr>\n",
       "    <tr>\n",
       "      <th>6</th>\n",
       "      <td>1250000.0</td>\n",
       "      <td>8.447486e+05</td>\n",
       "      <td>405251.387762</td>\n",
       "    </tr>\n",
       "    <tr>\n",
       "      <th>7</th>\n",
       "      <td>1111000.0</td>\n",
       "      <td>5.774056e+05</td>\n",
       "      <td>533594.365266</td>\n",
       "    </tr>\n",
       "    <tr>\n",
       "      <th>8</th>\n",
       "      <td>869500.0</td>\n",
       "      <td>1.107191e+06</td>\n",
       "      <td>237690.596057</td>\n",
       "    </tr>\n",
       "    <tr>\n",
       "      <th>9</th>\n",
       "      <td>2348000.0</td>\n",
       "      <td>2.161615e+06</td>\n",
       "      <td>186384.734618</td>\n",
       "    </tr>\n",
       "  </tbody>\n",
       "</table>\n",
       "</div>"
      ],
      "text/plain": [
       "   Actual Value  Predicted Value  Residual Difference\n",
       "0      915000.0     1.018500e+06        103499.916798\n",
       "1     1938000.0     2.506262e+06        568262.237815\n",
       "2      750000.0     4.010147e+05        348985.294996\n",
       "3      139900.0    -1.554112e+05        295311.180079\n",
       "4     1899000.0     2.380688e+06        481688.304955\n",
       "5     3888000.0     4.407490e+06        519490.366235\n",
       "6     1250000.0     8.447486e+05        405251.387762\n",
       "7     1111000.0     5.774056e+05        533594.365266\n",
       "8      869500.0     1.107191e+06        237690.596057\n",
       "9     2348000.0     2.161615e+06        186384.734618"
      ]
     },
     "execution_count": 32,
     "metadata": {},
     "output_type": "execute_result"
    }
   ],
   "source": [
    "pred_y_df = pd.DataFrame({\"Actual Value\": y_test, \"Predicted Value\": y_pred, \"Residual Difference\": abs(y_test - y_pred)})\n",
    "\n",
    "pred_y_df[0:10]"
   ]
  },
  {
   "cell_type": "code",
   "execution_count": 33,
   "id": "aee8ff55",
   "metadata": {},
   "outputs": [],
   "source": [
    "nums = list(range(0,4997)) # one data point for each listed house price\n",
    "#nums"
   ]
  },
  {
   "cell_type": "code",
   "execution_count": 34,
   "id": "ca026cbc",
   "metadata": {},
   "outputs": [
    {
     "data": {
      "image/png": "[encoded data removed]",
      "text/plain": [
       "<Figure size 720x504 with 1 Axes>"
      ]
     },
     "metadata": {
      "needs_background": "light"
     },
     "output_type": "display_data"
    }
   ],
   "source": [
    "# new scatterplot\n",
    "\n",
    "plt.figure(figsize=(10,7))\n",
    "\n",
    "plt.scatter(nums,pred_y_df[\"Actual Value\"], color=\"blue\")\n",
    "plt.scatter(nums,pred_y_df[\"Predicted Value\"], color=\"red\")\n",
    "\n",
    "plt.xlabel(\"Data Point\")\n",
    "plt.ylabel(\"Listed House Price Value\")\n",
    "plt.title(\"Data Point vs. Listed House Price\")\n",
    "plt.legend(['Data Point', 'Listed House Price'])\n",
    "\n",
    "plt.show()"
   ]
  },
  {
   "cell_type": "markdown",
   "id": "04747ade",
   "metadata": {},
   "source": [
    "With the plot above, we can see that that a linear regression model may not be enough to capture the model's trend. However it is notable that the R^2 and MSE increased and decreased, respectively. The changes are not major, so we have to attempt other models."
   ]
  },
  {
   "cell_type": "markdown",
   "id": "44a5c7c8",
   "metadata": {},
   "source": [
    "#### Testing Model on New Data Set - Testing Effects of Reducing Multicollinearity"
   ]
  },
  {
   "cell_type": "code",
   "execution_count": 35,
   "id": "6ab90ba7",
   "metadata": {},
   "outputs": [
    {
     "data": {
      "text/plain": [
       "[872.0, 1.0, 2.3333333333333335, 498747.0, 34.0536909, -118.242766]"
      ]
     },
     "execution_count": 35,
     "metadata": {},
     "output_type": "execute_result"
    }
   ],
   "source": [
    "test_random = df2.drop(\"Listed Price\",axis=1).iloc[0].tolist() # testing with first row of actual dataset\n",
    "test_random"
   ]
  },
  {
   "cell_type": "code",
   "execution_count": 36,
   "id": "ef92b160",
   "metadata": {},
   "outputs": [
    {
     "data": {
      "text/plain": [
       "array([280298.77326927])"
      ]
     },
     "execution_count": 36,
     "metadata": {},
     "output_type": "execute_result"
    }
   ],
   "source": [
    "test_result = lr.predict([test_random])\n",
    "test_result"
   ]
  },
  {
   "cell_type": "code",
   "execution_count": 37,
   "id": "eaa2d014",
   "metadata": {},
   "outputs": [
    {
     "data": {
      "text/plain": [
       "array([244701.22673073])"
      ]
     },
     "execution_count": 37,
     "metadata": {},
     "output_type": "execute_result"
    }
   ],
   "source": [
    "df[\"Listed Price\"][0] - test_result"
   ]
  },
  {
   "cell_type": "markdown",
   "id": "57eb7833",
   "metadata": {},
   "source": [
    "Now we see that the residual difference in pricing for one data point is a lot less. Our original model has a difference of 300K, whereas this new model with the updated dataset has a lower difference of 244K. So, we know that multicollinearity does play a big role in the accuracy of our model predictions."
   ]
  },
  {
   "cell_type": "markdown",
   "id": "7b2a7c43",
   "metadata": {},
   "source": [
    "# L1 & L2 Regression (Lasso and Ridge)"
   ]
  },
  {
   "cell_type": "markdown",
   "id": "96e7d098",
   "metadata": {},
   "source": [
    "As seen in our multicollinearity check above, we can deduce that the features with a high VIF value likely have very high coefficients. This implies that our dependent variable (Listed Price) would be significantly overpowered by those features, which can lead to overfitting. We can employ L1 and L2 Regression to reduce model complexity and avoid overfitting. "
   ]
  },
  {
   "cell_type": "markdown",
   "id": "eda40fc1",
   "metadata": {},
   "source": [
    "## Simple Ridge and Lasso"
   ]
  },
  {
   "cell_type": "code",
   "execution_count": 38,
   "id": "788ab296",
   "metadata": {},
   "outputs": [],
   "source": [
    "# libraries\n",
    "\n",
    "import pandas as pd\n",
    "import numpy as np\n",
    "import seaborn as sns\n",
    "import matplotlib.pyplot as plt\n",
    "from sklearn.model_selection import train_test_split\n",
    "from sklearn import linear_model\n",
    "from sklearn.linear_model import LinearRegression\n",
    "from sklearn.linear_model import Ridge, RidgeCV, Lasso\n",
    "from sklearn.preprocessing import StandardScaler"
   ]
  },
  {
   "cell_type": "code",
   "execution_count": 39,
   "id": "f2ac2605",
   "metadata": {},
   "outputs": [],
   "source": [
    "# moving Listed Price variable to the end\n",
    "\n",
    "df2 = df[ [ col for col in df.columns if col != 'Listed Price' ] + ['Listed Price']]"
   ]
  },
  {
   "cell_type": "code",
   "execution_count": 40,
   "id": "ef8b9ad2",
   "metadata": {},
   "outputs": [],
   "source": [
    "X = df2.drop(\"Listed Price\", axis=1)\n",
    "y = df2[\"Listed Price\"]"
   ]
  },
  {
   "cell_type": "code",
   "execution_count": 41,
   "id": "6f99bd59",
   "metadata": {},
   "outputs": [],
   "source": [
    "X_train, X_test, y_train, y_test = train_test_split(X, y, test_size = 0.3, random_state=11) #new test size"
   ]
  },
  {
   "cell_type": "code",
   "execution_count": 42,
   "id": "8503b152",
   "metadata": {},
   "outputs": [],
   "source": [
    "reg = LinearRegression().fit(X_train, y_train)"
   ]
  },
  {
   "cell_type": "code",
   "execution_count": 43,
   "id": "6f18846b",
   "metadata": {
    "scrolled": false
   },
   "outputs": [
    {
     "data": {
      "text/plain": [
       "0.6371251171724626"
      ]
     },
     "execution_count": 43,
     "metadata": {},
     "output_type": "execute_result"
    }
   ],
   "source": [
    "reg.score(X_test, y_test) # REGRESSION SCORE FOR TEST DATA!!"
   ]
  },
  {
   "cell_type": "markdown",
   "id": "88510cde",
   "metadata": {},
   "source": [
    "Looking at the score of the test set, we can see that it isn't too low. For data that the model has never seen before, it is fitting the data with ~63% accuracy (with a new test size). We can test this with the training data to see if there was any significant overfitting."
   ]
  },
  {
   "cell_type": "code",
   "execution_count": 44,
   "id": "4eaddb5d",
   "metadata": {},
   "outputs": [
    {
     "data": {
      "text/plain": [
       "0.688669466095837"
      ]
     },
     "execution_count": 44,
     "metadata": {},
     "output_type": "execute_result"
    }
   ],
   "source": [
    "reg.score(X_train, y_train)"
   ]
  },
  {
   "cell_type": "markdown",
   "id": "b6ed6ac5",
   "metadata": {},
   "source": [
    "Based on the training score, we can see that the accuracy score went up around 5%. This isn't bad, but we can perhaps employ L1 and L2 to see if we adjust and balance for any potential overfitting."
   ]
  },
  {
   "cell_type": "code",
   "execution_count": 45,
   "id": "e51e1901",
   "metadata": {},
   "outputs": [
    {
     "data": {
      "text/html": [
       "<style>#sk-container-id-3 {color: black;background-color: white;}#sk-container-id-3 pre{padding: 0;}#sk-container-id-3 div.sk-toggleable {background-color: white;}#sk-container-id-3 label.sk-toggleable__label {cursor: pointer;display: block;width: 100%;margin-bottom: 0;padding: 0.3em;box-sizing: border-box;text-align: center;}#sk-container-id-3 label.sk-toggleable__label-arrow:before {content: \"▸\";float: left;margin-right: 0.25em;color: #696969;}#sk-container-id-3 label.sk-toggleable__label-arrow:hover:before {color: black;}#sk-container-id-3 div.sk-estimator:hover label.sk-toggleable__label-arrow:before {color: black;}#sk-container-id-3 div.sk-toggleable__content {max-height: 0;max-width: 0;overflow: hidden;text-align: left;background-color: #f0f8ff;}#sk-container-id-3 div.sk-toggleable__content pre {margin: 0.2em;color: black;border-radius: 0.25em;background-color: #f0f8ff;}#sk-container-id-3 input.sk-toggleable__control:checked~div.sk-toggleable__content {max-height: 200px;max-width: 100%;overflow: auto;}#sk-container-id-3 input.sk-toggleable__control:checked~label.sk-toggleable__label-arrow:before {content: \"▾\";}#sk-container-id-3 div.sk-estimator input.sk-toggleable__control:checked~label.sk-toggleable__label {background-color: #d4ebff;}#sk-container-id-3 div.sk-label input.sk-toggleable__control:checked~label.sk-toggleable__label {background-color: #d4ebff;}#sk-container-id-3 input.sk-hidden--visually {border: 0;clip: rect(1px 1px 1px 1px);clip: rect(1px, 1px, 1px, 1px);height: 1px;margin: -1px;overflow: hidden;padding: 0;position: absolute;width: 1px;}#sk-container-id-3 div.sk-estimator {font-family: monospace;background-color: #f0f8ff;border: 1px dotted black;border-radius: 0.25em;box-sizing: border-box;margin-bottom: 0.5em;}#sk-container-id-3 div.sk-estimator:hover {background-color: #d4ebff;}#sk-container-id-3 div.sk-parallel-item::after {content: \"\";width: 100%;border-bottom: 1px solid gray;flex-grow: 1;}#sk-container-id-3 div.sk-label:hover label.sk-toggleable__label {background-color: #d4ebff;}#sk-container-id-3 div.sk-serial::before {content: \"\";position: absolute;border-left: 1px solid gray;box-sizing: border-box;top: 0;bottom: 0;left: 50%;z-index: 0;}#sk-container-id-3 div.sk-serial {display: flex;flex-direction: column;align-items: center;background-color: white;padding-right: 0.2em;padding-left: 0.2em;position: relative;}#sk-container-id-3 div.sk-item {position: relative;z-index: 1;}#sk-container-id-3 div.sk-parallel {display: flex;align-items: stretch;justify-content: center;background-color: white;position: relative;}#sk-container-id-3 div.sk-item::before, #sk-container-id-3 div.sk-parallel-item::before {content: \"\";position: absolute;border-left: 1px solid gray;box-sizing: border-box;top: 0;bottom: 0;left: 50%;z-index: -1;}#sk-container-id-3 div.sk-parallel-item {display: flex;flex-direction: column;z-index: 1;position: relative;background-color: white;}#sk-container-id-3 div.sk-parallel-item:first-child::after {align-self: flex-end;width: 50%;}#sk-container-id-3 div.sk-parallel-item:last-child::after {align-self: flex-start;width: 50%;}#sk-container-id-3 div.sk-parallel-item:only-child::after {width: 0;}#sk-container-id-3 div.sk-dashed-wrapped {border: 1px dashed gray;margin: 0 0.4em 0.5em 0.4em;box-sizing: border-box;padding-bottom: 0.4em;background-color: white;}#sk-container-id-3 div.sk-label label {font-family: monospace;font-weight: bold;display: inline-block;line-height: 1.2em;}#sk-container-id-3 div.sk-label-container {text-align: center;}#sk-container-id-3 div.sk-container {/* jupyter's `normalize.less` sets `[hidden] { display: none; }` but bootstrap.min.css set `[hidden] { display: none !important; }` so we also need the `!important` here to be able to override the default hidden behavior on the sphinx rendered scikit-learn.org. See: https://github.com/scikit-learn/scikit-learn/issues/21755 */display: inline-block !important;position: relative;}#sk-container-id-3 div.sk-text-repr-fallback {display: none;}</style><div id=\"sk-container-id-3\" class=\"sk-top-container\"><div class=\"sk-text-repr-fallback\"><pre>Lasso(alpha=50, max_iter=10000, tol=0.01)</pre><b>In a Jupyter environment, please rerun this cell to show the HTML representation or trust the notebook. <br />On GitHub, the HTML representation is unable to render, please try loading this page with nbviewer.org.</b></div><div class=\"sk-container\" hidden><div class=\"sk-item\"><div class=\"sk-estimator sk-toggleable\"><input class=\"sk-toggleable__control sk-hidden--visually\" id=\"sk-estimator-id-3\" type=\"checkbox\" checked><label for=\"sk-estimator-id-3\" class=\"sk-toggleable__label sk-toggleable__label-arrow\">Lasso</label><div class=\"sk-toggleable__content\"><pre>Lasso(alpha=50, max_iter=10000, tol=0.01)</pre></div></div></div></div></div>"
      ],
      "text/plain": [
       "Lasso(alpha=50, max_iter=10000, tol=0.01)"
      ]
     },
     "execution_count": 45,
     "metadata": {},
     "output_type": "execute_result"
    }
   ],
   "source": [
    "lasso_reg = linear_model.Lasso(alpha=50, max_iter=10000, tol=0.01)\n",
    "\n",
    "lasso_reg.fit(X_train, y_train)"
   ]
  },
  {
   "cell_type": "code",
   "execution_count": 46,
   "id": "5417fdb4",
   "metadata": {},
   "outputs": [
    {
     "name": "stdout",
     "output_type": "stream",
     "text": [
      "0.6886694483761305\n",
      "0.6371260663248648\n"
     ]
    }
   ],
   "source": [
    "print(lasso_reg.score(X_train, y_train))\n",
    "print(lasso_reg.score(X_test, y_test)) # REGRESSION SCORE FOR TEST DATA!!"
   ]
  },
  {
   "cell_type": "code",
   "execution_count": 47,
   "id": "8903a5df",
   "metadata": {
    "scrolled": false
   },
   "outputs": [
    {
     "name": "stdout",
     "output_type": "stream",
     "text": [
      "[1898596.41106045 1269053.62691972 1463841.50445456 ...  924798.22323446\n",
      "  848804.13482629 1214265.83624752]\n"
     ]
    }
   ],
   "source": [
    "y_pred = lasso_reg.predict(X_test) # prediction scores for test set\n",
    "print(y_pred)"
   ]
  },
  {
   "cell_type": "code",
   "execution_count": 48,
   "id": "948637eb",
   "metadata": {},
   "outputs": [
    {
     "data": {
      "text/plain": [
       "Text(0.5, 1.0, 'Actual vs. Predicted')"
      ]
     },
     "execution_count": 48,
     "metadata": {},
     "output_type": "execute_result"
    },
    {
     "data": {
      "image/png": "[encoded data removed]",
      "text/plain": [
       "<Figure size 720x504 with 1 Axes>"
      ]
     },
     "metadata": {
      "needs_background": "light"
     },
     "output_type": "display_data"
    }
   ],
   "source": [
    "# lasso plot - actual vs predicted\n",
    "\n",
    "plt.figure(figsize=(10,7))\n",
    "\n",
    "\n",
    "plt.scatter(y_test, y_pred)\n",
    "plt.xlabel(\"Actual\")\n",
    "plt.ylabel(\"Predicted\")\n",
    "plt.title(\"Actual vs. Predicted\")\n"
   ]
  },
  {
   "cell_type": "code",
   "execution_count": 49,
   "id": "956677c0",
   "metadata": {},
   "outputs": [
    {
     "data": {
      "text/html": [
       "<style>#sk-container-id-4 {color: black;background-color: white;}#sk-container-id-4 pre{padding: 0;}#sk-container-id-4 div.sk-toggleable {background-color: white;}#sk-container-id-4 label.sk-toggleable__label {cursor: pointer;display: block;width: 100%;margin-bottom: 0;padding: 0.3em;box-sizing: border-box;text-align: center;}#sk-container-id-4 label.sk-toggleable__label-arrow:before {content: \"▸\";float: left;margin-right: 0.25em;color: #696969;}#sk-container-id-4 label.sk-toggleable__label-arrow:hover:before {color: black;}#sk-container-id-4 div.sk-estimator:hover label.sk-toggleable__label-arrow:before {color: black;}#sk-container-id-4 div.sk-toggleable__content {max-height: 0;max-width: 0;overflow: hidden;text-align: left;background-color: #f0f8ff;}#sk-container-id-4 div.sk-toggleable__content pre {margin: 0.2em;color: black;border-radius: 0.25em;background-color: #f0f8ff;}#sk-container-id-4 input.sk-toggleable__control:checked~div.sk-toggleable__content {max-height: 200px;max-width: 100%;overflow: auto;}#sk-container-id-4 input.sk-toggleable__control:checked~label.sk-toggleable__label-arrow:before {content: \"▾\";}#sk-container-id-4 div.sk-estimator input.sk-toggleable__control:checked~label.sk-toggleable__label {background-color: #d4ebff;}#sk-container-id-4 div.sk-label input.sk-toggleable__control:checked~label.sk-toggleable__label {background-color: #d4ebff;}#sk-container-id-4 input.sk-hidden--visually {border: 0;clip: rect(1px 1px 1px 1px);clip: rect(1px, 1px, 1px, 1px);height: 1px;margin: -1px;overflow: hidden;padding: 0;position: absolute;width: 1px;}#sk-container-id-4 div.sk-estimator {font-family: monospace;background-color: #f0f8ff;border: 1px dotted black;border-radius: 0.25em;box-sizing: border-box;margin-bottom: 0.5em;}#sk-container-id-4 div.sk-estimator:hover {background-color: #d4ebff;}#sk-container-id-4 div.sk-parallel-item::after {content: \"\";width: 100%;border-bottom: 1px solid gray;flex-grow: 1;}#sk-container-id-4 div.sk-label:hover label.sk-toggleable__label {background-color: #d4ebff;}#sk-container-id-4 div.sk-serial::before {content: \"\";position: absolute;border-left: 1px solid gray;box-sizing: border-box;top: 0;bottom: 0;left: 50%;z-index: 0;}#sk-container-id-4 div.sk-serial {display: flex;flex-direction: column;align-items: center;background-color: white;padding-right: 0.2em;padding-left: 0.2em;position: relative;}#sk-container-id-4 div.sk-item {position: relative;z-index: 1;}#sk-container-id-4 div.sk-parallel {display: flex;align-items: stretch;justify-content: center;background-color: white;position: relative;}#sk-container-id-4 div.sk-item::before, #sk-container-id-4 div.sk-parallel-item::before {content: \"\";position: absolute;border-left: 1px solid gray;box-sizing: border-box;top: 0;bottom: 0;left: 50%;z-index: -1;}#sk-container-id-4 div.sk-parallel-item {display: flex;flex-direction: column;z-index: 1;position: relative;background-color: white;}#sk-container-id-4 div.sk-parallel-item:first-child::after {align-self: flex-end;width: 50%;}#sk-container-id-4 div.sk-parallel-item:last-child::after {align-self: flex-start;width: 50%;}#sk-container-id-4 div.sk-parallel-item:only-child::after {width: 0;}#sk-container-id-4 div.sk-dashed-wrapped {border: 1px dashed gray;margin: 0 0.4em 0.5em 0.4em;box-sizing: border-box;padding-bottom: 0.4em;background-color: white;}#sk-container-id-4 div.sk-label label {font-family: monospace;font-weight: bold;display: inline-block;line-height: 1.2em;}#sk-container-id-4 div.sk-label-container {text-align: center;}#sk-container-id-4 div.sk-container {/* jupyter's `normalize.less` sets `[hidden] { display: none; }` but bootstrap.min.css set `[hidden] { display: none !important; }` so we also need the `!important` here to be able to override the default hidden behavior on the sphinx rendered scikit-learn.org. See: https://github.com/scikit-learn/scikit-learn/issues/21755 */display: inline-block !important;position: relative;}#sk-container-id-4 div.sk-text-repr-fallback {display: none;}</style><div id=\"sk-container-id-4\" class=\"sk-top-container\"><div class=\"sk-text-repr-fallback\"><pre>Ridge(alpha=50, max_iter=10000, tol=0.01)</pre><b>In a Jupyter environment, please rerun this cell to show the HTML representation or trust the notebook. <br />On GitHub, the HTML representation is unable to render, please try loading this page with nbviewer.org.</b></div><div class=\"sk-container\" hidden><div class=\"sk-item\"><div class=\"sk-estimator sk-toggleable\"><input class=\"sk-toggleable__control sk-hidden--visually\" id=\"sk-estimator-id-4\" type=\"checkbox\" checked><label for=\"sk-estimator-id-4\" class=\"sk-toggleable__label sk-toggleable__label-arrow\">Ridge</label><div class=\"sk-toggleable__content\"><pre>Ridge(alpha=50, max_iter=10000, tol=0.01)</pre></div></div></div></div></div>"
      ],
      "text/plain": [
       "Ridge(alpha=50, max_iter=10000, tol=0.01)"
      ]
     },
     "execution_count": 49,
     "metadata": {},
     "output_type": "execute_result"
    }
   ],
   "source": [
    "ridge_reg = Ridge(alpha=50, max_iter=10000, tol=0.01)\n",
    "\n",
    "ridge_reg.fit(X_train, y_train) # ridge model"
   ]
  },
  {
   "cell_type": "code",
   "execution_count": 50,
   "id": "dd78da53",
   "metadata": {
    "scrolled": true
   },
   "outputs": [
    {
     "name": "stdout",
     "output_type": "stream",
     "text": [
      "0.6886526128381768\n",
      "0.637138720642793\n"
     ]
    }
   ],
   "source": [
    "print(ridge_reg.score(X_train, y_train))\n",
    "print(ridge_reg.score(X_test, y_test)) # REGRESSION SCORE FOR TEST DATA!!!"
   ]
  },
  {
   "cell_type": "code",
   "execution_count": 51,
   "id": "1f719aed",
   "metadata": {
    "scrolled": true
   },
   "outputs": [
    {
     "name": "stdout",
     "output_type": "stream",
     "text": [
      "[1899236.84423683 1274308.30017363 1462448.68748004 ...  923056.48474152\n",
      "  847512.61123347 1208839.12078266]\n"
     ]
    }
   ],
   "source": [
    "y_pred = ridge_reg.predict(X_test) # prediction scores for ridge\n",
    "print(y_pred)"
   ]
  },
  {
   "cell_type": "code",
   "execution_count": 52,
   "id": "19d72320",
   "metadata": {},
   "outputs": [
    {
     "data": {
      "text/plain": [
       "Text(0.5, 1.0, 'Actual vs. Predicted')"
      ]
     },
     "execution_count": 52,
     "metadata": {},
     "output_type": "execute_result"
    },
    {
     "data": {
      "image/png": "[encoded data removed]",
      "text/plain": [
       "<Figure size 720x504 with 1 Axes>"
      ]
     },
     "metadata": {
      "needs_background": "light"
     },
     "output_type": "display_data"
    }
   ],
   "source": [
    "plt.figure(figsize=(10,7))\n",
    "\n",
    "\n",
    "plt.scatter(y_test, y_pred)\n",
    "plt.xlabel(\"Actual\")\n",
    "plt.ylabel(\"Predicted\")\n",
    "plt.title(\"Actual vs. Predicted\")\n"
   ]
  },
  {
   "cell_type": "markdown",
   "id": "8170de97",
   "metadata": {},
   "source": [
    "## Ridge and Lasso - An Extension"
   ]
  },
  {
   "cell_type": "markdown",
   "id": "113c4896",
   "metadata": {},
   "source": [
    "### This extension is cited from http://www.science.smith.edu/~jcrouser/SDS293/labs/lab10-py.html. We follow their code and analysis to see how cross-validation and tuning the alpha parameter changes our model scores."
   ]
  },
  {
   "cell_type": "markdown",
   "id": "2ddacb93",
   "metadata": {},
   "source": [
    "### Ridge"
   ]
  },
  {
   "cell_type": "markdown",
   "id": "81f1fde9",
   "metadata": {},
   "source": [
    "Generate an array of alpha values ranging from very big to very small, essentially covering the full range of scenarios from the null model containing only the intercept, to the least squares fit:"
   ]
  },
  {
   "cell_type": "code",
   "execution_count": 53,
   "id": "40f0555e",
   "metadata": {},
   "outputs": [
    {
     "data": {
      "text/plain": [
       "array([5.00000000e+09, 3.78231664e+09, 2.86118383e+09, 2.16438064e+09,\n",
       "       1.63727458e+09, 1.23853818e+09, 9.36908711e+08, 7.08737081e+08,\n",
       "       5.36133611e+08, 4.05565415e+08, 3.06795364e+08, 2.32079442e+08,\n",
       "       1.75559587e+08, 1.32804389e+08, 1.00461650e+08, 7.59955541e+07,\n",
       "       5.74878498e+07, 4.34874501e+07, 3.28966612e+07, 2.48851178e+07,\n",
       "       1.88246790e+07, 1.42401793e+07, 1.07721735e+07, 8.14875417e+06,\n",
       "       6.16423370e+06, 4.66301673e+06, 3.52740116e+06, 2.66834962e+06,\n",
       "       2.01850863e+06, 1.52692775e+06, 1.15506485e+06, 8.73764200e+05,\n",
       "       6.60970574e+05, 5.00000000e+05, 3.78231664e+05, 2.86118383e+05,\n",
       "       2.16438064e+05, 1.63727458e+05, 1.23853818e+05, 9.36908711e+04,\n",
       "       7.08737081e+04, 5.36133611e+04, 4.05565415e+04, 3.06795364e+04,\n",
       "       2.32079442e+04, 1.75559587e+04, 1.32804389e+04, 1.00461650e+04,\n",
       "       7.59955541e+03, 5.74878498e+03, 4.34874501e+03, 3.28966612e+03,\n",
       "       2.48851178e+03, 1.88246790e+03, 1.42401793e+03, 1.07721735e+03,\n",
       "       8.14875417e+02, 6.16423370e+02, 4.66301673e+02, 3.52740116e+02,\n",
       "       2.66834962e+02, 2.01850863e+02, 1.52692775e+02, 1.15506485e+02,\n",
       "       8.73764200e+01, 6.60970574e+01, 5.00000000e+01, 3.78231664e+01,\n",
       "       2.86118383e+01, 2.16438064e+01, 1.63727458e+01, 1.23853818e+01,\n",
       "       9.36908711e+00, 7.08737081e+00, 5.36133611e+00, 4.05565415e+00,\n",
       "       3.06795364e+00, 2.32079442e+00, 1.75559587e+00, 1.32804389e+00,\n",
       "       1.00461650e+00, 7.59955541e-01, 5.74878498e-01, 4.34874501e-01,\n",
       "       3.28966612e-01, 2.48851178e-01, 1.88246790e-01, 1.42401793e-01,\n",
       "       1.07721735e-01, 8.14875417e-02, 6.16423370e-02, 4.66301673e-02,\n",
       "       3.52740116e-02, 2.66834962e-02, 2.01850863e-02, 1.52692775e-02,\n",
       "       1.15506485e-02, 8.73764200e-03, 6.60970574e-03, 5.00000000e-03])"
      ]
     },
     "execution_count": 53,
     "metadata": {},
     "output_type": "execute_result"
    }
   ],
   "source": [
    "alphas = 10**np.linspace(10,-2,100)*0.5\n",
    "alphas"
   ]
  },
  {
   "cell_type": "markdown",
   "id": "61984d72",
   "metadata": {},
   "source": [
    "Each alpha value is associated with a vector of ridge regression coefficients, which is stored in a matrix coefs. We next standardize the variables so that they are on the same scale."
   ]
  },
  {
   "cell_type": "code",
   "execution_count": 54,
   "id": "230de130",
   "metadata": {},
   "outputs": [
    {
     "data": {
      "text/plain": [
       "(100, 10)"
      ]
     },
     "execution_count": 54,
     "metadata": {},
     "output_type": "execute_result"
    }
   ],
   "source": [
    "# standardize variables\n",
    "\n",
    "ridge = Ridge()\n",
    "coefs = []\n",
    "\n",
    "for a in alphas:\n",
    "    ridge.set_params(alpha = a)\n",
    "    ridge.fit(X, y)\n",
    "    coefs.append(ridge.coef_)\n",
    "     \n",
    "np.shape(coefs)"
   ]
  },
  {
   "cell_type": "markdown",
   "id": "7f1c43c5",
   "metadata": {},
   "source": [
    "We expect the coefficient estimates to be much smaller (in terms of  L2  regularization) when a large value of alpha is used, as compared to when a small value of alpha is used. Here's the corresponding plot:"
   ]
  },
  {
   "cell_type": "code",
   "execution_count": 55,
   "id": "67315141",
   "metadata": {},
   "outputs": [
    {
     "data": {
      "text/plain": [
       "Text(0, 0.5, 'weights')"
      ]
     },
     "execution_count": 55,
     "metadata": {},
     "output_type": "execute_result"
    },
    {
     "data": {
      "image/png": "[encoded data removed]",
      "text/plain": [
       "<Figure size 432x288 with 1 Axes>"
      ]
     },
     "metadata": {
      "needs_background": "light"
     },
     "output_type": "display_data"
    }
   ],
   "source": [
    "# plot alphas against weights\n",
    "\n",
    "ax = plt.gca()\n",
    "ax.plot(alphas, coefs)\n",
    "ax.set_xscale('log')\n",
    "plt.axis('tight')\n",
    "plt.xlabel('alpha')\n",
    "plt.ylabel('weights')"
   ]
  },
  {
   "cell_type": "code",
   "execution_count": 56,
   "id": "27c5d2e6",
   "metadata": {},
   "outputs": [],
   "source": [
    "X_train, X_test , y_train, y_test = train_test_split(X, y, test_size=0.2, random_state=1)"
   ]
  },
  {
   "cell_type": "markdown",
   "id": "f2a8e71d",
   "metadata": {},
   "source": [
    "#### Trying Model with 2 arbitrary alpha values "
   ]
  },
  {
   "cell_type": "code",
   "execution_count": 57,
   "id": "ae5dd0d0",
   "metadata": {},
   "outputs": [
    {
     "name": "stdout",
     "output_type": "stream",
     "text": [
      "Bedrooms                      -161292.048908\n",
      "Bathrooms                      -30923.457765\n",
      "Total interior livable area       771.830832\n",
      "Elementary School Score         41493.869569\n",
      "Middle School Score              6333.740778\n",
      "High School Score               39586.626779\n",
      "Tax assessed value                 -0.308437\n",
      "Annual tax amount                  73.952891\n",
      "Lat                           -305848.051711\n",
      "Long                          -301645.001683\n",
      "dtype: float64\n",
      "1031289579808.9991\n"
     ]
    }
   ],
   "source": [
    "ridge2 = Ridge(alpha = 4)\n",
    "ridge2.fit(X_train, y_train)             # Fit a ridge regression on the training data\n",
    "pred2 = ridge2.predict(X_test)           # Use this model to predict the test data\n",
    "print(pd.Series(ridge2.coef_, index = X.columns)) # Print coefficients\n",
    "print(mean_squared_error(y_test, pred2))          # Calculate the test MSE"
   ]
  },
  {
   "cell_type": "code",
   "execution_count": 58,
   "id": "02073e26",
   "metadata": {},
   "outputs": [
    {
     "name": "stdout",
     "output_type": "stream",
     "text": [
      "0.6591503469596203\n",
      "0.7083998509132732\n"
     ]
    }
   ],
   "source": [
    "print(ridge2.score(X_train, y_train))\n",
    "print(ridge2.score(X_test, y_test)) # REGRESSION SCORE FOR TEST DATA!!!"
   ]
  },
  {
   "cell_type": "code",
   "execution_count": 59,
   "id": "23f8ddea",
   "metadata": {
    "scrolled": true
   },
   "outputs": [
    {
     "name": "stdout",
     "output_type": "stream",
     "text": [
      "Bedrooms                      -161444.419471\n",
      "Bathrooms                      -30917.898140\n",
      "Total interior livable area       772.010249\n",
      "Elementary School Score         41482.055612\n",
      "Middle School Score              6302.011760\n",
      "High School Score               39591.604364\n",
      "Tax assessed value                 -0.308281\n",
      "Annual tax amount                  73.929664\n",
      "Lat                           -306656.340980\n",
      "Long                          -302399.624837\n",
      "dtype: float64\n",
      "1031288898265.9904\n"
     ]
    }
   ],
   "source": [
    "ridge2 = Ridge(alpha = 0)\n",
    "ridge2.fit(X_train, y_train)             # Fit a ridge regression on the training data\n",
    "pred = ridge2.predict(X_test)            # Use this model to predict the test data\n",
    "print(pd.Series(ridge2.coef_, index = X.columns)) # Print coefficients\n",
    "print(mean_squared_error(y_test, pred))           # Calculate the test MSE"
   ]
  },
  {
   "cell_type": "code",
   "execution_count": 60,
   "id": "523c5051",
   "metadata": {},
   "outputs": [
    {
     "name": "stdout",
     "output_type": "stream",
     "text": [
      "0.659150429088091\n",
      "0.708400043621555\n"
     ]
    }
   ],
   "source": [
    "print(ridge2.score(X_train, y_train))\n",
    "print(ridge2.score(X_test, y_test)) # REGRESSION SCORE FOR TEST DATA!!!"
   ]
  },
  {
   "cell_type": "markdown",
   "id": "c14996b6",
   "metadata": {},
   "source": [
    "It would be better to use cross-validation to choose the tuning parameter alpha instead of choosing arbitrary alpha values. We can do this using the cross-validated ridge regression function, RidgeCV()."
   ]
  },
  {
   "cell_type": "code",
   "execution_count": 61,
   "id": "f2c13c63",
   "metadata": {},
   "outputs": [
    {
     "data": {
      "text/plain": [
       "16.372745814388658"
      ]
     },
     "execution_count": 61,
     "metadata": {},
     "output_type": "execute_result"
    }
   ],
   "source": [
    "ridgecv = RidgeCV(alphas = alphas, scoring = 'neg_mean_squared_error')\n",
    "ridgecv.fit(X_train, y_train)\n",
    "ridgecv.alpha_ # best validated alpha"
   ]
  },
  {
   "cell_type": "code",
   "execution_count": 62,
   "id": "5a2710d1",
   "metadata": {},
   "outputs": [
    {
     "data": {
      "text/plain": [
       "1031294241441.7521"
      ]
     },
     "execution_count": 62,
     "metadata": {},
     "output_type": "execute_result"
    }
   ],
   "source": [
    "ridge4 = Ridge(alpha = ridgecv.alpha_)\n",
    "ridge4.fit(X_train, y_train)\n",
    "mean_squared_error(y_test, ridge4.predict(X_test))"
   ]
  },
  {
   "cell_type": "markdown",
   "id": "a3d388ce",
   "metadata": {},
   "source": [
    "#### Best Test Data Score!!!"
   ]
  },
  {
   "cell_type": "code",
   "execution_count": 63,
   "id": "13cac463",
   "metadata": {},
   "outputs": [
    {
     "name": "stdout",
     "output_type": "stream",
     "text": [
      "0.6591490740786559\n",
      "0.7083985328229596\n"
     ]
    }
   ],
   "source": [
    "print(ridge4.score(X_train, y_train))\n",
    "print(ridge4.score(X_test, y_test)) # REGRESSION SCORE FOR TEST DATA!!!"
   ]
  },
  {
   "cell_type": "code",
   "execution_count": 64,
   "id": "07aaa8ec",
   "metadata": {
    "scrolled": true
   },
   "outputs": [
    {
     "data": {
      "text/plain": [
       "Bedrooms                      -173272.943980\n",
       "Bathrooms                      -46444.717638\n",
       "Total interior livable area       793.230142\n",
       "Elementary School Score         41099.221127\n",
       "Middle School Score              -290.802235\n",
       "High School Score               43093.091979\n",
       "Tax assessed value                 -0.374336\n",
       "Annual tax amount                  81.803164\n",
       "Lat                           -300311.077903\n",
       "Long                          -294964.392419\n",
       "dtype: float64"
      ]
     },
     "execution_count": 64,
     "metadata": {},
     "output_type": "execute_result"
    }
   ],
   "source": [
    "ridge4.fit(X, y)\n",
    "pd.Series(ridge4.coef_, index = X.columns)"
   ]
  },
  {
   "cell_type": "markdown",
   "id": "98169fed",
   "metadata": {},
   "source": [
    "### Lasso"
   ]
  },
  {
   "cell_type": "code",
   "execution_count": 65,
   "id": "9c981254",
   "metadata": {},
   "outputs": [],
   "source": [
    "# we use the same methods as above to run our lasso model."
   ]
  },
  {
   "cell_type": "code",
   "execution_count": 66,
   "id": "4e544e63",
   "metadata": {},
   "outputs": [],
   "source": [
    "# graphing lasso alpha and weights"
   ]
  },
  {
   "cell_type": "code",
   "execution_count": 67,
   "id": "66d225fe",
   "metadata": {},
   "outputs": [
    {
     "data": {
      "text/plain": [
       "Text(0, 0.5, 'weights')"
      ]
     },
     "execution_count": 67,
     "metadata": {},
     "output_type": "execute_result"
    },
    {
     "data": {
      "image/png": "[encoded data removed]",
      "text/plain": [
       "<Figure size 432x288 with 1 Axes>"
      ]
     },
     "metadata": {
      "needs_background": "light"
     },
     "output_type": "display_data"
    }
   ],
   "source": [
    "from sklearn.preprocessing import scale \n",
    "\n",
    "lasso = Lasso(max_iter = 10000)\n",
    "coefs = []\n",
    "\n",
    "for a in alphas:\n",
    "    lasso.set_params(alpha=a)\n",
    "    lasso.fit(scale(X_train), y_train)\n",
    "    coefs.append(lasso.coef_)\n",
    "    \n",
    "ax = plt.gca()\n",
    "ax.plot(alphas*2, coefs)\n",
    "ax.set_xscale('log')\n",
    "plt.axis('tight')\n",
    "plt.xlabel('alpha')\n",
    "plt.ylabel('weights')"
   ]
  },
  {
   "cell_type": "code",
   "execution_count": 68,
   "id": "2564b0fb",
   "metadata": {},
   "outputs": [
    {
     "data": {
      "text/plain": [
       "1462810764291.3665"
      ]
     },
     "execution_count": 68,
     "metadata": {},
     "output_type": "execute_result"
    }
   ],
   "source": [
    "lassocv = linear_model.LassoCV(alphas = None, cv = 10, max_iter = 100000)\n",
    "lassocv.fit(X_train, y_train)\n",
    "\n",
    "lasso.set_params(alpha=lassocv.alpha_)\n",
    "lasso.fit(X_train, y_train)\n",
    "mean_squared_error(y_test, lasso.predict(X_test))"
   ]
  },
  {
   "cell_type": "code",
   "execution_count": 69,
   "id": "7bc3b622",
   "metadata": {},
   "outputs": [
    {
     "name": "stdout",
     "output_type": "stream",
     "text": [
      "0.5108469059161905\n",
      "0.5863859721805471\n"
     ]
    }
   ],
   "source": [
    "print(lasso.score(X_train, y_train))\n",
    "print(lasso.score(X_test, y_test)) # REGRESSION SCORE FOR TEST DATA"
   ]
  },
  {
   "cell_type": "markdown",
   "id": "640732a6",
   "metadata": {},
   "source": [
    "#### The Lasso score has dropped. The Ridge Model has the best score."
   ]
  },
  {
   "cell_type": "markdown",
   "id": "984352eb",
   "metadata": {},
   "source": [
    "However, lasso has a substantial advantage over ridge regression in that the resulting coefficient estimates are scattered. Here we see that 8 of the 10 coefficient estimates are exactly zero. However, the model accuracy is lower."
   ]
  },
  {
   "cell_type": "code",
   "execution_count": 70,
   "id": "9ed99e86",
   "metadata": {
    "scrolled": true
   },
   "outputs": [
    {
     "data": {
      "text/plain": [
       "Bedrooms                       0.000000\n",
       "Bathrooms                      0.000000\n",
       "Total interior livable area    0.000000\n",
       "Elementary School Score        0.000000\n",
       "Middle School Score            0.000000\n",
       "High School Score              0.000000\n",
       "Tax assessed value             1.016674\n",
       "Annual tax amount              0.000000\n",
       "Lat                            0.000000\n",
       "Long                          -0.000000\n",
       "dtype: float64"
      ]
     },
     "execution_count": 70,
     "metadata": {},
     "output_type": "execute_result"
    }
   ],
   "source": [
    "pd.Series(lasso.coef_, index=X.columns)"
   ]
  }
 ],
 "metadata": {
  "kernelspec": {
   "display_name": "Python 3",
   "language": "python",
   "name": "python3"
  },
  "language_info": {
   "codemirror_mode": {
    "name": "ipython",
    "version": 3
   },
   "file_extension": ".py",
   "mimetype": "text/x-python",
   "name": "python",
   "nbconvert_exporter": "python",
   "pygments_lexer": "ipython3",
   "version": "3.8.8"
  }
 },
 "nbformat": 4,
 "nbformat_minor": 5
}
